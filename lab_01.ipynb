{
 "cells": [
  {
   "cell_type": "markdown",
   "metadata": {},
   "source": [
    "[![image](https://colab.research.google.com/assets/colab-badge.svg)](https://colab.research.google.com/github/giswqs/geog-312/blob/master/labs/lab_01.ipynb)\n",
    "[![image](https://binder.pangeo.io/badge_logo.svg)](https://gishub.org/geog312-pangeo)"
   ]
  },
  {
   "cell_type": "code",
   "execution_count": null,
   "metadata": {},
   "outputs": [],
   "source": [
    "from datetime import datetime\n",
    "\n",
    "now = datetime.now()\n",
    "print(f\"Submitted time: {now}\")"
   ]
  },
  {
   "cell_type": "markdown",
   "metadata": {},
   "source": [
    "## Question 1\n",
    "\n",
    "**Simple Message:** Assign a message to a variable, and then print that message."
   ]
  },
  {
   "cell_type": "code",
   "execution_count": 1,
   "metadata": {},
   "outputs": [
    {
     "name": "stdout",
     "output_type": "stream",
     "text": [
      "Message variable print one.\n"
     ]
    }
   ],
   "source": [
    "#Name: Tristan Lambert | tlambe15 | GEOG 312 Section 001 | Lab01-fall23\n",
    "#Date: September 9th, 2023\n",
    "\n",
    "firstMessage = \"Message variable print one.\" #assigns variable as string composing message\n",
    "print(firstMessage) #prints the first message"
   ]
  },
  {
   "cell_type": "markdown",
   "metadata": {},
   "source": [
    "## Question 2\n",
    "**Simple Messages:** Assign a message to a variable, and print that message. Then change the value of the variable to a new message, and print the new message."
   ]
  },
  {
   "cell_type": "code",
   "execution_count": 3,
   "metadata": {},
   "outputs": [
    {
     "name": "stdout",
     "output_type": "stream",
     "text": [
      "1 - This is a second message.\n",
      "2 - New second message.\n"
     ]
    }
   ],
   "source": [
    "secondMessage = \"1 - This is a second message.\" \n",
    "print(secondMessage)\n",
    "\n",
    "secondMessage = \"2 - New second message.\"\n",
    "print(secondMessage)"
   ]
  },
  {
   "cell_type": "markdown",
   "metadata": {},
   "source": [
    "## Question 3\n",
    "**Personal Message:** Use a variable to represent a person’s name, and print a message to that person. Your message should be simple, such as, “Hello Eric, would you like to learn some Python today?”"
   ]
  },
  {
   "cell_type": "code",
   "execution_count": 4,
   "metadata": {},
   "outputs": [
    {
     "name": "stdout",
     "output_type": "stream",
     "text": [
      "Here is a personal message to you, Eric.\n"
     ]
    }
   ],
   "source": [
    "personalMessage = \"Here is a personal message to you, Eric.\"\n",
    "print(personalMessage)"
   ]
  },
  {
   "cell_type": "markdown",
   "metadata": {},
   "source": [
    "## Question 4\n",
    "**Name Cases:** Use a variable to represent a person’s name, and then print that person’s name in lowercase, uppercase, and title case."
   ]
  },
  {
   "cell_type": "code",
   "execution_count": 8,
   "metadata": {},
   "outputs": [
    {
     "name": "stdout",
     "output_type": "stream",
     "text": [
      "eric\n",
      "ERIC\n",
      "Eric\n"
     ]
    }
   ],
   "source": [
    "varName = \"Eric\"\n",
    "print(varName.lower())\n",
    "print(varName.upper())\n",
    "print(varName.title())"
   ]
  },
  {
   "cell_type": "markdown",
   "metadata": {},
   "source": [
    "## Question 5\n",
    "**Famous Quote:** Find a quote from a famous person you admire. Print the quote and the name of its author. Your output should look something like the following, including the quotation marks:\n",
    "```\n",
    "Albert Einstein once said, “A person who never made a mistake never tried anything new.”\n",
    "```"
   ]
  },
  {
   "cell_type": "code",
   "execution_count": 14,
   "metadata": {},
   "outputs": [
    {
     "name": "stdout",
     "output_type": "stream",
     "text": [
      "\"We found each other in the cosmos and that was wonderful.\" -Ann Druyan\n"
     ]
    }
   ],
   "source": [
    "famousQuote = \"\\\"We found each other in the cosmos and that was wonderful.\\\"\"\n",
    "authorQuoteName = \"-Ann Druyan\"\n",
    "\n",
    "print(famousQuote, authorQuoteName)"
   ]
  },
  {
   "cell_type": "markdown",
   "metadata": {},
   "source": [
    "## Question 6\n",
    "**Famous Quote 2:** Repeat Exercise 2-5, but this time, represent the famous person’s name using a variable called famous_person. Then compose your message and represent it with a new variable called message. Print your\n",
    "message."
   ]
  },
  {
   "cell_type": "code",
   "execution_count": 24,
   "metadata": {},
   "outputs": [
    {
     "name": "stdout",
     "output_type": "stream",
     "text": [
      "Question 6 - Composed Message:  \n",
      " Repeat Excesice 2, Part 2: message two print. Repeat Excesice 2, Part 2: message two print. \n",
      " Personal message repeat - print. \n",
      " Ann Druyan ann druyan ANN DRUYAN \n",
      " \"We found each other in the cosmos and that was wonderful.\" - Ann Druyan\n"
     ]
    }
   ],
   "source": [
    "famous_person = \"\\\"We found each other in the cosmos and that was wonderful.\\\"\" \" - Ann Druyan\"\n",
    "message = \"Question 6 - Composed Message: \"\n",
    "message_one = \"Repeat Excesice 2, Part 1: message one print.\"\n",
    "message_one = \"Repeat Excesice 2, Part 2: message two print.\"\n",
    "message_personal = \"Personal message repeat - print.\"\n",
    "famous_person_name = \"Ann Druyan\"\n",
    "\n",
    "#Question 2 - 5 repeated with change to famous person variable added -- #print above composed message, etc.\n",
    "print(message, '\\n', message_one, message_one, '\\n', message_personal, '\\n', famous_person_name.title(), famous_person_name.lower(), famous_person_name.upper(), '\\n', famous_person)\n",
    "\n",
    "\n",
    "\n",
    "#print above composed message\n"
   ]
  },
  {
   "cell_type": "markdown",
   "metadata": {},
   "source": [
    "## Question 7\n",
    "**Stripping Names:** Use a variable to represent a person’s name, and include some whitespace characters at the beginning and end of the name. Make sure you use each character combination, \"\\t\" and \"\\n\", at least once.\n",
    "Print the name once, so the whitespace around the name is displayed. Then print the name using each of the three stripping functions, lstrip(), rstrip(), and strip()."
   ]
  },
  {
   "cell_type": "code",
   "execution_count": 29,
   "metadata": {},
   "outputs": [
    {
     "name": "stdout",
     "output_type": "stream",
     "text": [
      "    Janet    \n",
      "Janet    \n",
      "    Janet\n",
      "Janet\n"
     ]
    }
   ],
   "source": [
    "#sprint(sep='\\n')\n",
    "\n",
    "var_person_name = \"    Janet    \" #whitespace added in variable for testing question 7\n",
    "print(var_person_name)\n",
    "\n",
    "print(var_person_name.lstrip()) #strip whitepsace left\n",
    "print(var_person_name.rstrip()) #strip whitespace to right\n",
    "print(var_person_name.strip()) #strips all whitepsace"
   ]
  },
  {
   "cell_type": "markdown",
   "metadata": {},
   "source": [
    "## Question 8\n",
    "**Number Eight:** Write addition, subtraction, multiplication, and division operations that each result in the number 8. Be sure to enclose your operations in print() calls to see the results. You should create four lines that look like this:\n",
    "\n",
    "```\n",
    "print(5 + 3)\n",
    "```\n",
    "Your output should simply be four lines with the number 8 appearing once on each line."
   ]
  },
  {
   "cell_type": "code",
   "execution_count": 37,
   "metadata": {},
   "outputs": [
    {
     "name": "stdout",
     "output_type": "stream",
     "text": [
      "8\n",
      "8\n",
      "8\n",
      "8\n"
     ]
    }
   ],
   "source": [
    "#addition:\n",
    "print(5 + 3)\n",
    "\n",
    "#subtraction:\n",
    "print(10 - 2)\n",
    "\n",
    "#multiplication:\n",
    "print(4 * 2)\n",
    "\n",
    "#division\n",
    "print(16 // 2)"
   ]
  },
  {
   "cell_type": "markdown",
   "metadata": {},
   "source": [
    "## Question 9\n",
    "**Favorite Number:**  Use a variable to represent your favorite number. Then, using that variable, create a message that reveals your favorite number. Print that message."
   ]
  },
  {
   "cell_type": "code",
   "execution_count": 53,
   "metadata": {},
   "outputs": [
    {
     "name": "stdout",
     "output_type": "stream",
     "text": [
      "My favorite number is 6.\n"
     ]
    }
   ],
   "source": [
    "tvg_fav_number = \"My favorite number is 6.\"\n",
    "print(tvg_fav_number)"
   ]
  },
  {
   "cell_type": "markdown",
   "metadata": {},
   "source": [
    "## Question 10\n",
    "**Adding Comments:** Choose two of the programs you’ve written, and add at least one comment to each. If you don’t have anything specific to write because your programs are too simple at this point, just add your name and\n",
    "the current date at the top of each program file. Then write one sentence describing what the program does."
   ]
  },
  {
   "cell_type": "code",
   "execution_count": null,
   "metadata": {},
   "outputs": [],
   "source": [
    "#Comments added throughout - Tristan Lambert | tlambe15 | GEOG 312 Section 001 | Lab01-fall23"
   ]
  }
 ],
 "metadata": {
  "hide_input": false,
  "kernelspec": {
   "display_name": "Python 3 (ipykernel)",
   "language": "python",
   "name": "python3"
  },
  "language_info": {
   "codemirror_mode": {
    "name": "ipython",
    "version": 3
   },
   "file_extension": ".py",
   "mimetype": "text/x-python",
   "name": "python",
   "nbconvert_exporter": "python",
   "pygments_lexer": "ipython3",
   "version": "3.11.4"
  },
  "toc": {
   "base_numbering": 1,
   "nav_menu": {},
   "number_sections": true,
   "sideBar": true,
   "skip_h1_title": false,
   "title_cell": "Table of Contents",
   "title_sidebar": "Contents",
   "toc_cell": false,
   "toc_position": {},
   "toc_section_display": true,
   "toc_window_display": false
  },
  "varInspector": {
   "cols": {
    "lenName": 16,
    "lenType": 16,
    "lenVar": 40
   },
   "kernels_config": {
    "python": {
     "delete_cmd_postfix": "",
     "delete_cmd_prefix": "del ",
     "library": "var_list.py",
     "varRefreshCmd": "print(var_dic_list())"
    },
    "r": {
     "delete_cmd_postfix": ") ",
     "delete_cmd_prefix": "rm(",
     "library": "var_list.r",
     "varRefreshCmd": "cat(var_dic_list()) "
    }
   },
   "types_to_exclude": [
    "module",
    "function",
    "builtin_function_or_method",
    "instance",
    "_Feature"
   ],
   "window_display": false
  }
 },
 "nbformat": 4,
 "nbformat_minor": 2
}
