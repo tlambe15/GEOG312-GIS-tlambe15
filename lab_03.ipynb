{
 "cells": [
  {
   "cell_type": "markdown",
   "metadata": {},
   "source": [
    "[![image](https://colab.research.google.com/assets/colab-badge.svg)](https://colab.research.google.com/github/giswqs/geog-312/blob/master/labs/lab_03.ipynb)\n",
    "[![image](https://binder.pangeo.io/badge_logo.svg)](https://gishub.org/geog312-pangeo)"
   ]
  },
  {
   "cell_type": "markdown",
   "metadata": {},
   "source": [
    "**Tristan Lambert**"
   ]
  },
  {
   "cell_type": "code",
   "execution_count": null,
   "metadata": {},
   "outputs": [],
   "source": [
    "from datetime import datetime\n",
    "\n",
    "now = datetime.now()\n",
    "print(f\"Submitted time: {now}\")"
   ]
  },
  {
   "cell_type": "markdown",
   "metadata": {},
   "source": [
    "## Question 1\n",
    "**Pizzas:** Think of at least three kinds of your favorite pizza. Store these pizza names in a list, and then use a for loop to print the name of each pizza.\n",
    "\n",
    "Modify your for loop to print a sentence using the name of the pizza instead of printing just the name of the pizza. For each pizza you should have one line of output containing a simple statement like *I like pepperoni pizza.*"
   ]
  },
  {
   "cell_type": "code",
   "execution_count": 9,
   "metadata": {},
   "outputs": [
    {
     "name": "stdout",
     "output_type": "stream",
     "text": [
      "I like cheese pizza.\n",
      "I like pepperoni pizza.\n",
      "I like supreme pizza.\n"
     ]
    }
   ],
   "source": [
    "#Name: Tristan Lambert | tlambe15 | GEOG 312 Section 001 | Lab01-fall23\n",
    "#Date: September 9th, 2023\n",
    "\n",
    "pizza_list = ['cheese', 'pepperoni', 'supreme']\n",
    "\n",
    "for pizza in pizza_list:\n",
    "    print(\"I like\", pizza, \"pizza.\")"
   ]
  },
  {
   "cell_type": "markdown",
   "metadata": {},
   "source": [
    "Add a line at the end of your program, outside the for loop, that states how much you like pizza. The output should consist of three or more lines about the kinds of pizza you like and then an additional sentence, such as *I really love pizza!*"
   ]
  },
  {
   "cell_type": "code",
   "execution_count": 10,
   "metadata": {},
   "outputs": [
    {
     "name": "stdout",
     "output_type": "stream",
     "text": [
      "I like cheese pizza.\n",
      "I like pepperoni pizza.\n",
      "I like supreme pizza.\n",
      "I state how much I like pizza: incredibly.\n"
     ]
    }
   ],
   "source": [
    "pizza_list = ['cheese', 'pepperoni', 'supreme']\n",
    "\n",
    "for pizza in pizza_list:\n",
    "    print(\"I like\", pizza, \"pizza.\")\n",
    "\n",
    "print(\"I state how much I like pizza: incredibly.\")"
   ]
  },
  {
   "cell_type": "markdown",
   "metadata": {},
   "source": [
    "## Question 2\n",
    "**Animals:** Think of at least three different animals that have a common characteristic. Store the names of these animals in a list, and then use a for loop to print out the name of each animal.\n",
    "\n",
    "Modify your program to print a statement about each animal, such as *A dog would make a great pet.*"
   ]
  },
  {
   "cell_type": "code",
   "execution_count": 13,
   "metadata": {},
   "outputs": [
    {
     "name": "stdout",
     "output_type": "stream",
     "text": [
      "ferret\n",
      "cat\n",
      "dog\n",
      "A ferret would make a good pet.\n",
      "A cat would make a good pet.\n",
      "A dog would make a good pet.\n"
     ]
    }
   ],
   "source": [
    "animals = ['ferret', 'cat', 'dog']\n",
    "\n",
    "for animal in animals:\n",
    "    print(animal)\n",
    "\n",
    "for animal in animals:\n",
    "    print(\"A\", animal, \"would make a good pet.\")"
   ]
  },
  {
   "cell_type": "markdown",
   "metadata": {},
   "source": [
    "Add a line at the end of your program stating what these animals have in common. You could print a sentence such as *Any of these animals would make a great pet!*"
   ]
  },
  {
   "cell_type": "code",
   "execution_count": 16,
   "metadata": {},
   "outputs": [
    {
     "name": "stdout",
     "output_type": "stream",
     "text": [
      "ferret\n",
      "cat\n",
      "dog\n",
      "A ferret would make a good pet.\n",
      "A cat would make a good pet.\n",
      "A dog would make a good pet.\n",
      "A ferret is a common household pet.\n",
      "A cat is a common household pet.\n",
      "A dog is a common household pet.\n",
      "Any of these common household animals would make a great pet!\n"
     ]
    }
   ],
   "source": [
    "animals = ['ferret', 'cat', 'dog']\n",
    "\n",
    "for animal in animals:\n",
    "    print(animal)\n",
    "\n",
    "for animal in animals:\n",
    "    print(\"A\", animal, \"would make a good pet.\")\n",
    "\n",
    "for animal in animals:\n",
    "    print(\"A\", animal, \"is a common household pet.\")\n",
    "\n",
    "print(\"Any of these common household animals would make a great pet!\")"
   ]
  },
  {
   "cell_type": "markdown",
   "metadata": {},
   "source": [
    "## Question 3\n",
    "**Counting to Twenty:** Use a for loop to print the numbers from 1 to 20, inclusive."
   ]
  },
  {
   "cell_type": "code",
   "execution_count": 20,
   "metadata": {},
   "outputs": [
    {
     "name": "stdout",
     "output_type": "stream",
     "text": [
      "[1, 2, 3, 4, 5, 6, 7, 8, 9, 10, 11, 12, 13, 14, 15, 16, 17, 18, 19, 20, 1, 2, 3, 4, 5, 6, 7, 8, 9, 10, 11, 12, 13, 14, 15, 16, 17, 18, 19, 20]\n"
     ]
    }
   ],
   "source": [
    "number_list = list(range(1,21)) #defines a list as having a range beginning at 1 undex to 21 index (i.e. \"numbers 1 to 20 == index 0 to 21\")\n",
    "\n",
    "for i in range(1,21): #for loop to print the numbers in the list\n",
    "    number_list.append(i)\n",
    "print(number_list)  "
   ]
  },
  {
   "cell_type": "markdown",
   "metadata": {},
   "source": [
    "## Question 4\n",
    "**One Hundred:** Make a list of the numbers from one to one hundred, and then use a for loop to print the numbers. "
   ]
  },
  {
   "cell_type": "code",
   "execution_count": 18,
   "metadata": {},
   "outputs": [
    {
     "name": "stdout",
     "output_type": "stream",
     "text": [
      "[1, 2, 3, 4, 5, 6, 7, 8, 9, 10, 11, 12, 13, 14, 15, 16, 17, 18, 19, 20, 21, 22, 23, 24, 25, 26, 27, 28, 29, 30, 31, 32, 33, 34, 35, 36, 37, 38, 39, 40, 41, 42, 43, 44, 45, 46, 47, 48, 49, 50, 51, 52, 53, 54, 55, 56, 57, 58, 59, 60, 61, 62, 63, 64, 65, 66, 67, 68, 69, 70, 71, 72, 73, 74, 75, 76, 77, 78, 79, 80, 81, 82, 83, 84, 85, 86, 87, 88, 89, 90, 91, 92, 93, 94, 95, 96, 97, 98, 99, 100, 1, 2, 3, 4, 5, 6, 7, 8, 9, 10, 11, 12, 13, 14, 15, 16, 17, 18, 19, 20, 21, 22, 23, 24, 25, 26, 27, 28, 29, 30, 31, 32, 33, 34, 35, 36, 37, 38, 39, 40, 41, 42, 43, 44, 45, 46, 47, 48, 49, 50, 51, 52, 53, 54, 55, 56, 57, 58, 59, 60, 61, 62, 63, 64, 65, 66, 67, 68, 69, 70, 71, 72, 73, 74, 75, 76, 77, 78, 79, 80, 81, 82, 83, 84, 85, 86, 87, 88, 89, 90, 91, 92, 93, 94, 95, 96, 97, 98, 99, 100]\n"
     ]
    }
   ],
   "source": [
    "number_list = list(range(1,101))\n",
    "#print(number_list)\n",
    "\n",
    "for i in range(1,101):\n",
    "    number_list.append(i)\n",
    "print(number_list)  "
   ]
  },
  {
   "cell_type": "markdown",
   "metadata": {},
   "source": [
    "## Question 5\n",
    "**Summing a Hundred:** Make a list of the numbers from one to one million, and then use `min()` and `max()` to make sure your list actually starts at one and ends at one hundred. Also, use the sum() function to see how quickly Python can add a hundred numbers."
   ]
  },
  {
   "cell_type": "code",
   "execution_count": 27,
   "metadata": {},
   "outputs": [
    {
     "name": "stdout",
     "output_type": "stream",
     "text": [
      "The lowest number in the list is: 1\n",
      "The highest number in the list is: 1,000,000\n",
      "The sum of the numbers is: 500,000,500,000\n"
     ]
    }
   ],
   "source": [
    "number_list = list(range(1, 1000001)) #defines a list as having a range beginning at index 1 to the one million index\n",
    "#min()\n",
    "min_number = min(number_list)\n",
    "print(\"The lowest number in the list is:\", min_number)\n",
    "#max()\n",
    "max_number = max(number_list)\n",
    "print(\"The highest number in the list is:\", f'{max_number:,}')\n",
    "#sum()\n",
    "sum_number_list = sum(number_list)\n",
    "print(\"The sum of the numbers is:\", f'{sum_number_list:,}') #used an f string to make the numbers have prettier formatting when printed to console\n",
    "\n",
    "#num = 10000000\n",
    "#print(f\"{num:,d}\")"
   ]
  },
  {
   "cell_type": "markdown",
   "metadata": {},
   "source": [
    "## Question 6\n",
    "**Odd Numbers:** Use the third argument of the `range()` function to make a list of the odd numbers from 1 to 20. Use a `for` loop to print each number."
   ]
  },
  {
   "cell_type": "code",
   "execution_count": 34,
   "metadata": {},
   "outputs": [
    {
     "name": "stdout",
     "output_type": "stream",
     "text": [
      "The lowest number in the list is: 1\n",
      "The highest number in the list is: 20\n",
      "1\n",
      "3\n",
      "5\n",
      "7\n",
      "9\n",
      "11\n",
      "13\n",
      "15\n",
      "17\n",
      "19\n"
     ]
    }
   ],
   "source": [
    "number_list = list(range(1,21)) #defines a list as having a range beginning at 1 undex to 21 index (i.e. \"numbers 1 to 20 == index 0 to 21\")\n",
    "#min()\n",
    "min_number = min(number_list)\n",
    "print(\"The lowest number in the list is:\", min_number)\n",
    "#max()\n",
    "max_number = max(number_list)\n",
    "print(\"The highest number in the list is:\", max_number)\n",
    "#use range() find only odd numbers \n",
    "for odd_numbers in range(min_number, max_number + 1): #for loop to print the numbers in the list\n",
    "    if odd_numbers % 2 != 0:\n",
    "        print(odd_numbers)  "
   ]
  },
  {
   "cell_type": "markdown",
   "metadata": {},
   "source": [
    "## Question 7\n",
    "**Threes:** Make a list of the multiples of 3 from 3 to 30. Use a `for` loop to print the numbers in your list."
   ]
  },
  {
   "cell_type": "code",
   "execution_count": null,
   "metadata": {},
   "outputs": [],
   "source": []
  },
  {
   "cell_type": "markdown",
   "metadata": {},
   "source": [
    "## Question 8\n",
    "**Cubes:** A number raised to the third power is called a cube. For example, the cube of 2 is written as 2 ** 3 in Python. Make a list of the first 10 cubes (that is, the cube of each integer from 1 through 10), and use a for loop to print out the value of each cube."
   ]
  },
  {
   "cell_type": "code",
   "execution_count": null,
   "metadata": {},
   "outputs": [],
   "source": []
  },
  {
   "cell_type": "markdown",
   "metadata": {},
   "source": [
    "## Question 9\n",
    "**Cube Comprehension:** Use a list comprehension to generate a list of the first 10 cubes."
   ]
  },
  {
   "cell_type": "code",
   "execution_count": null,
   "metadata": {},
   "outputs": [],
   "source": []
  },
  {
   "cell_type": "markdown",
   "metadata": {},
   "source": [
    "## Question 10\n",
    "**Slices:** Using one of the programs you wrote in this lab, add several lines to the end of the program that do the following:\n",
    "\n",
    "Print the message *The first three items in the list are:*. Then use a slice to print the first three items from that program’s list."
   ]
  },
  {
   "cell_type": "code",
   "execution_count": null,
   "metadata": {},
   "outputs": [],
   "source": []
  },
  {
   "cell_type": "markdown",
   "metadata": {},
   "source": [
    "Print the message *Three items from the middle of the list are:*. Use a slice to print three items from the middle of the list."
   ]
  },
  {
   "cell_type": "code",
   "execution_count": null,
   "metadata": {},
   "outputs": [],
   "source": []
  },
  {
   "cell_type": "markdown",
   "metadata": {},
   "source": [
    "Print the message *The last three items in the list are:*. Use a slice to print the last three items in the list."
   ]
  },
  {
   "cell_type": "code",
   "execution_count": null,
   "metadata": {},
   "outputs": [],
   "source": []
  },
  {
   "cell_type": "markdown",
   "metadata": {},
   "source": [
    "## Question 11\n",
    "**My Pizzas, Your Pizzas:** Start with your program from Question 1. Make a copy of the list of pizzas, and call it friend_pizzas. Then, do the following:\n",
    "\n",
    "Add a new pizza to the original list."
   ]
  },
  {
   "cell_type": "code",
   "execution_count": null,
   "metadata": {},
   "outputs": [],
   "source": []
  },
  {
   "cell_type": "markdown",
   "metadata": {},
   "source": [
    "Add a different pizza to the list `friend_pizzas`."
   ]
  },
  {
   "cell_type": "code",
   "execution_count": null,
   "metadata": {},
   "outputs": [],
   "source": []
  },
  {
   "cell_type": "markdown",
   "metadata": {},
   "source": [
    "Prove that you have two separate lists. Print the message *My favorite pizzas are:*, and then use a for loop to print the first list. Print the message *My friend’s favorite pizzas are:*, and then use a for loop to print the second list. Make sure each new pizza is stored in the appropriate list."
   ]
  },
  {
   "cell_type": "code",
   "execution_count": null,
   "metadata": {},
   "outputs": [],
   "source": []
  },
  {
   "cell_type": "markdown",
   "metadata": {},
   "source": [
    "## Question 12\n",
    "**Buffet:** A buffet-style restaurant offers only five basic foods. Think of five simple foods, and store them in a tuple.\n",
    "\n",
    "Use a for loop to print each food the restaurant offers."
   ]
  },
  {
   "cell_type": "code",
   "execution_count": null,
   "metadata": {},
   "outputs": [],
   "source": []
  },
  {
   "cell_type": "markdown",
   "metadata": {},
   "source": [
    "Try to modify one of the items, and make sure that Python rejects the change."
   ]
  },
  {
   "cell_type": "code",
   "execution_count": null,
   "metadata": {},
   "outputs": [],
   "source": []
  },
  {
   "cell_type": "markdown",
   "metadata": {},
   "source": [
    "The restaurant changes its menu, replacing two of the items with different foods. Add a line that rewrites the tuple, and then use a for loop to print each of the items on the revised menu."
   ]
  },
  {
   "cell_type": "code",
   "execution_count": null,
   "metadata": {},
   "outputs": [],
   "source": []
  }
 ],
 "metadata": {
  "kernelspec": {
   "display_name": "Python 3 (ipykernel)",
   "language": "python",
   "name": "python3"
  },
  "language_info": {
   "codemirror_mode": {
    "name": "ipython",
    "version": 3
   },
   "file_extension": ".py",
   "mimetype": "text/x-python",
   "name": "python",
   "nbconvert_exporter": "python",
   "pygments_lexer": "ipython3",
   "version": "3.11.4"
  }
 },
 "nbformat": 4,
 "nbformat_minor": 2
}
