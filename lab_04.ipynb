{
 "cells": [
  {
   "cell_type": "markdown",
   "metadata": {},
   "source": [
    "[![image](https://colab.research.google.com/assets/colab-badge.svg)](https://colab.research.google.com/github/giswqs/geog-312/blob/master/labs/lab_04.ipynb)\n",
    "[![image](https://binder.pangeo.io/badge_logo.svg)](https://gishub.org/geog312-pangeo)\n",
    "\n",
    "**Tristan Lambert**"
   ]
  },
  {
   "cell_type": "code",
   "execution_count": 3,
   "metadata": {},
   "outputs": [
    {
     "name": "stdout",
     "output_type": "stream",
     "text": [
      "Submitted time: 2023-12-13 23:55:48.114386\n"
     ]
    }
   ],
   "source": [
    "from datetime import datetime\n",
    "\n",
    "now = datetime.now()\n",
    "print(f\"Submitted time: {now}\")"
   ]
  },
  {
   "cell_type": "markdown",
   "metadata": {},
   "source": [
    "## Question 1\n",
    "**Alien Colors # 1:** Imagine an alien was just shot down in a game. Create a variable called `alien_color` and assign it a value of `green, yellow,` or `red`.\n",
    "\n",
    "* Write an if statement to test whether the alien’s color is green. If it is, print a message that the player just earned 5 points.\n",
    "* Write one version of this program that passes the if test and another that fails. (The version that fails will have no output.)"
   ]
  },
  {
   "cell_type": "code",
   "execution_count": 5,
   "metadata": {},
   "outputs": [
    {
     "ename": "NameError",
     "evalue": "name 'alient_color' is not defined",
     "output_type": "error",
     "traceback": [
      "\u001b[1;31m---------------------------------------------------------------------------\u001b[0m",
      "\u001b[1;31mNameError\u001b[0m                                 Traceback (most recent call last)",
      "\u001b[1;32mc:\\Users\\Nimda\\Desktop\\HW (1)\\HW\\lab_04.ipynb Cell 4\u001b[0m line \u001b[0;36m5\n\u001b[0;32m      <a href='vscode-notebook-cell:/c%3A/Users/Nimda/Desktop/HW%20%281%29/HW/lab_04.ipynb#W3sZmlsZQ%3D%3D?line=1'>2</a>\u001b[0m \u001b[39mif\u001b[39;00m alien_color \u001b[39m==\u001b[39m \u001b[39m'\u001b[39m\u001b[39mgreen\u001b[39m\u001b[39m'\u001b[39m:\n\u001b[0;32m      <a href='vscode-notebook-cell:/c%3A/Users/Nimda/Desktop/HW%20%281%29/HW/lab_04.ipynb#W3sZmlsZQ%3D%3D?line=2'>3</a>\u001b[0m     \u001b[39mprint\u001b[39m(\u001b[39m'\u001b[39m\u001b[39mPlayer just earned 5 points\u001b[39m\u001b[39m'\u001b[39m)\n\u001b[1;32m----> <a href='vscode-notebook-cell:/c%3A/Users/Nimda/Desktop/HW%20%281%29/HW/lab_04.ipynb#W3sZmlsZQ%3D%3D?line=4'>5</a>\u001b[0m \u001b[39mif\u001b[39;00m alient_color \u001b[39m==\u001b[39m \u001b[39m'\u001b[39m\u001b[39mred\u001b[39m\u001b[39m'\u001b[39m:\n\u001b[0;32m      <a href='vscode-notebook-cell:/c%3A/Users/Nimda/Desktop/HW%20%281%29/HW/lab_04.ipynb#W3sZmlsZQ%3D%3D?line=5'>6</a>\u001b[0m     \u001b[39mprint\u001b[39m(\u001b[39m'\u001b[39m\u001b[39mPlayer just earned 5 points\u001b[39m\u001b[39m'\u001b[39m)\n",
      "\u001b[1;31mNameError\u001b[0m: name 'alient_color' is not defined"
     ]
    }
   ],
   "source": [
    "alien_color = 'red'\n",
    "if alien_color == 'green':\n",
    "    print('Player just earned 5 points')\n",
    "    \n",
    "if alient_color == 'red':\n",
    "    print('Player just earned 5 points')"
   ]
  },
  {
   "cell_type": "markdown",
   "metadata": {},
   "source": [
    "## Question 2\n",
    "**Alien Colors # 2:** Choose a color for an alien as you did in Question 1, and write an `if-else` chain.\n",
    "\n",
    "* If the alien’s color is green, print a statement that the player just earned 5 points for shooting the alien.\n",
    "* If the alien’s color isn’t green, print a statement that the player just earned 10 points.\n",
    "* Write one version of this program that runs the if block and another that runs the else block."
   ]
  },
  {
   "cell_type": "code",
   "execution_count": 1,
   "metadata": {},
   "outputs": [
    {
     "ename": "SyntaxError",
     "evalue": "invalid syntax (3241234216.py, line 8)",
     "output_type": "error",
     "traceback": [
      "\u001b[1;36m  Cell \u001b[1;32mIn[1], line 8\u001b[1;36m\u001b[0m\n\u001b[1;33m    if alien_color == 'red':\u001b[0m\n\u001b[1;37m                           ^\u001b[0m\n\u001b[1;31mSyntaxError\u001b[0m\u001b[1;31m:\u001b[0m invalid syntax\n"
     ]
    }
   ],
   "source": [
    "alien_color = 'green'\n",
    "\n",
    "if alien_color == 'green':\n",
    "    print('player has just earned 5 points')\n",
    "elif alien_color != 'green':\n",
    "    print('player has just earned 10 points'\n",
    "\n",
    "if alien_color == 'red':\n",
    "    print('player has just earned 5 points')\n",
    "elif alien_color != 'red':\n",
    "    print('player has just earned 10 points'"
   ]
  },
  {
   "cell_type": "markdown",
   "metadata": {},
   "source": [
    "## Question 3\n",
    "**Alien Colors # 3:** Turn your `if-else` chain from Question 2 into an `if-elif-else` chain.\n",
    "\n",
    "* If the alien is green, print a message that the player earned 5 points.\n",
    "* If the alien is yellow, print a message that the player earned 10 points.\n",
    "* If the alien is red, print a message that the player earned 15 points.\n",
    "* Write three versions of this program, making sure each message is printed for the appropriate color alien."
   ]
  },
  {
   "cell_type": "code",
   "execution_count": 6,
   "metadata": {},
   "outputs": [
    {
     "ename": "SyntaxError",
     "evalue": "invalid syntax (3667211903.py, line 7)",
     "output_type": "error",
     "traceback": [
      "\u001b[1;36m  Cell \u001b[1;32mIn[6], line 7\u001b[1;36m\u001b[0m\n\u001b[1;33m    else:\u001b[0m\n\u001b[1;37m    ^\u001b[0m\n\u001b[1;31mSyntaxError\u001b[0m\u001b[1;31m:\u001b[0m invalid syntax\n"
     ]
    }
   ],
   "source": [
    "alien_color = 'green'\n",
    "\n",
    "if alien_color == 'green':\n",
    "    print('player has just earned 5 points')\n",
    "elif alien_color == 'yellow':\n",
    "    print('player has just earned 10 points'\n",
    "else:\n",
    "    print('player has just earned 15 points'\n",
    "\n",
    "\n",
    "alien_color = 'yellow'\n",
    "if alien_color == 'green':\n",
    "    print('player has just earned 5 points')\n",
    "elif alien_color == 'yellow':\n",
    "    print('player has just earned 10 points'\n",
    "else:\n",
    "    print('player has just earned 15 points'\n",
    "          \n",
    "          \n",
    "alien_color = 'red'\n",
    "if alien_color == 'green':\n",
    "    print('player has just earned 5 points')\n",
    "elif alien_color == 'yellow':\n",
    "    print('player has just earned 10 points'\n",
    "else:\n",
    "    print('player has just earned 15 points'"
   ]
  },
  {
   "cell_type": "markdown",
   "metadata": {},
   "source": [
    "## Question 4\n",
    "**Stages of Life:** Write an `if-elif-else` chain that determines a person’s stage of life. Set a value for the variable `age`, and then:\n",
    "\n",
    "* If the person is less than 2 years old, print a message that the person is a baby.\n",
    "* If the person is at least 2 years old but less than 4, print a message that the person is a toddler.\n",
    "* If the person is at least 4 years old but less than 13, print a message that the person is a kid.\n",
    "* If the person is at least 13 years old but less than 20, print a message that the person is a teenager.\n",
    "* If the person is at least 20 years old but less than 65, print a message that the person is an adult."
   ]
  },
  {
   "cell_type": "code",
   "execution_count": 7,
   "metadata": {},
   "outputs": [
    {
     "name": "stdout",
     "output_type": "stream",
     "text": [
      "The person is an adult\n"
     ]
    }
   ],
   "source": [
    "age = 28\n",
    "if age < 2:\n",
    "    print('The person is a baby')\n",
    "elif age >= 2 and age < 4:\n",
    "    print('The person is a todler')\n",
    "elif age >= 4 and age < 13:\n",
    "    print('The person is a kid')\n",
    "elif age >= 13 and age < 20:\n",
    "    print('The person is a teenager')\n",
    "elif age >= 20 and age < 65:\n",
    "    print('The person is an adult')"
   ]
  },
  {
   "cell_type": "markdown",
   "metadata": {},
   "source": [
    "## Question 5\n",
    "**Favorite Fruit:** Make a list of your favorite fruits, and then write a series of independent `if` statements that check for certain fruits in your list.\n",
    "\n",
    "* Make a list of your three favorite fruits and call it favorite_fruits.\n",
    "* Write five if statements. Each should check whether a certain kind of fruit is in your list. If the fruit is in your list, the if block should print a statement, such as You really like bananas!"
   ]
  },
  {
   "cell_type": "code",
   "execution_count": null,
   "metadata": {},
   "outputs": [],
   "source": [
    "fruits = ['orange', 'apple', 'banana']\n",
    "\n",
    "if 'strawberry' in fruits:\n",
    "    print('you really like strawberries')\n",
    "if 'apple' in fruits:\n",
    "    print('you really like apples')\n",
    "if 'banana' in fruits:\n",
    "    print('you really like bananas')\n",
    "if 'orange' in fruits:\n",
    "    print('you really like oranges')\n",
    "if 'peach' in fruits:\n",
    "    print('you realy like peaches')\n",
    "    "
   ]
  },
  {
   "cell_type": "markdown",
   "metadata": {},
   "source": [
    "## Question 6\n",
    "**Hello Admin:** Make a list of five or more usernames, including the name `admin`. Imagine you are writing code that will print a greeting to each user after they log in to a website. Loop through the list, and print a greeting to each user:\n",
    "\n",
    "* If the username is 'admin', print a special greeting, such as *Hello admin, would you like to see a status report?*\n",
    "* Otherwise, print a generic greeting, such as *Hello Jaden, thank you for logging in again*."
   ]
  },
  {
   "cell_type": "code",
   "execution_count": null,
   "metadata": {},
   "outputs": [],
   "source": [
    "users = ['admin', 'bob123', 'fred', 'zach', 'nedd']\n",
    "\n",
    "for u in users:\n",
    "    if u == 'admin':\n",
    "        print('Hello admin, would you like to see a status report?')\n",
    "    else:\n",
    "        print(f'Hello {u}, thank you for loggin in again.')"
   ]
  },
  {
   "cell_type": "markdown",
   "metadata": {},
   "source": [
    "## Question 7\n",
    "**No Users:** Based on Question 6, add an `if` test to make sure the list of users is not empty.\n",
    "\n",
    "* If the list is empty, print the message *We need to find some users!*\n",
    "* Remove all of the usernames from your list, and make sure the correct message is printed."
   ]
  },
  {
   "cell_type": "code",
   "execution_count": null,
   "metadata": {},
   "outputs": [],
   "source": [
    "users.clear()\n",
    "if users = []:\n",
    "    print('We need to find some users!')"
   ]
  },
  {
   "cell_type": "markdown",
   "metadata": {},
   "source": [
    "## Question 8\n",
    "**Checking Usernames:** Do the following to create a program that simulates how websites ensure that everyone has a unique username.\n",
    "\n",
    "* Make a list of five or more usernames called `current_users`.\n",
    "*  Make another list of five usernames called `new_users`. Make sure one or two of the new usernames are also in the `current_users` list.\n",
    "* Loop through the `new_users` list to see if each new username has already been used. If it has, print a message that the person will need to enter a new username. If a username has not been used, print a message saying that the username is available.\n",
    "* Make sure your comparison is case insensitive. If 'John' has been used, 'JOHN' should not be accepted. (To do this, you’ll need to make a copy of `current_users` containing the lowercase versions of all existing users.)"
   ]
  },
  {
   "cell_type": "code",
   "execution_count": null,
   "metadata": {},
   "outputs": [],
   "source": [
    "current_users = ['bob', 'fred', 'nedd', 'tedd', 'jim']\n",
    "new_users = ['bob', 'jebb', 'jill', 'jack', 'jim']\n",
    "\n",
    "for u in new_users:\n",
    "    if u.lower() in current_users:\n",
    "        print('username has already been taken, please choose a new username.')\n",
    "    else:\n",
    "        print('username available')"
   ]
  },
  {
   "cell_type": "markdown",
   "metadata": {},
   "source": [
    "## Question 9\n",
    "**Ordinal Numbers:** Ordinal numbers indicate their position in a list, such as *1st* or *2nd*. Most ordinal numbers end in *th*, except 1, 2, and 3.\n",
    "\n",
    "* Store the numbers 1 through 9 in a list.\n",
    "* Loop through the list.\n",
    "* Use an `if-elif-else` chain inside the loop to print the proper ordinal ending for each number. Your output should read \"1st 2nd 3rd 4th 5th 6th 7th 8th 9th\", and each result should be on a separate line."
   ]
  },
  {
   "cell_type": "code",
   "execution_count": 3,
   "metadata": {},
   "outputs": [
    {
     "name": "stdout",
     "output_type": "stream",
     "text": [
      "1st\n",
      "2nd\n",
      "3rd\n",
      "4th\n",
      "5th\n",
      "6th\n",
      "7th\n",
      "8th\n",
      "9th\n"
     ]
    }
   ],
   "source": [
    "l = list(range(1,10))\n",
    "\n",
    "for i in l:\n",
    "    num = str(i)\n",
    "    if num[-1] == '1':\n",
    "        print(f'{i}st')\n",
    "    elif num[-1] == '2':\n",
    "        print(f'{i}nd')\n",
    "    elif num[-1] == '3':\n",
    "        print(f'{i}rd')\n",
    "    else:\n",
    "        print(f'{i}th')"
   ]
  },
  {
   "cell_type": "code",
   "execution_count": null,
   "metadata": {},
   "outputs": [],
   "source": []
  }
 ],
 "metadata": {
  "kernelspec": {
   "display_name": "Python 3 (ipykernel)",
   "language": "python",
   "name": "python3"
  },
  "language_info": {
   "codemirror_mode": {
    "name": "ipython",
    "version": 3
   },
   "file_extension": ".py",
   "mimetype": "text/x-python",
   "name": "python",
   "nbconvert_exporter": "python",
   "pygments_lexer": "ipython3",
   "version": "3.11.6"
  }
 },
 "nbformat": 4,
 "nbformat_minor": 4
}
