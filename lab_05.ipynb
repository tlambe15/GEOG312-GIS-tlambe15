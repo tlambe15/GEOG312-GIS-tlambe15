{
 "cells": [
  {
   "cell_type": "markdown",
   "metadata": {},
   "source": [
    "[![image](https://colab.research.google.com/assets/colab-badge.svg)](https://colab.research.google.com/github/giswqs/geog-312/blob/master/labs/lab_05.ipynb)\n",
    "[![image](https://binder.pangeo.io/badge_logo.svg)](https://gishub.org/geog312-pangeo)\n",
    "\n",
    "**Tristan Lambert**"
   ]
  },
  {
   "cell_type": "code",
   "execution_count": 1,
   "metadata": {},
   "outputs": [
    {
     "name": "stdout",
     "output_type": "stream",
     "text": [
      "Submitted time: 2023-12-13 23:55:33.120885\n"
     ]
    }
   ],
   "source": [
    "from datetime import datetime\n",
    "\n",
    "now = datetime.now()\n",
    "print(f\"Submitted time: {now}\")"
   ]
  },
  {
   "cell_type": "markdown",
   "metadata": {},
   "source": [
    "## Question 1\n",
    "**Person:** Use a dictionary to store information about a person you know. Store their first name, last name, age, and the city in which they live. You should have keys such as first_name, last_name, age, and city. Print each piece of information stored in your dictionary."
   ]
  },
  {
   "cell_type": "code",
   "execution_count": 2,
   "metadata": {},
   "outputs": [
    {
     "name": "stdout",
     "output_type": "stream",
     "text": [
      "first_name --- John\n",
      "last_name --- Smith\n",
      "age --- 21\n",
      "city --- Knoxville\n"
     ]
    }
   ],
   "source": [
    "person = {'first_name' : 'John', 'last_name': 'Smith', 'age': '21', 'city': 'Knoxville'}\n",
    "for k, v in person.items():\n",
    "    print(f\"{k} --- {v}\")"
   ]
  },
  {
   "cell_type": "markdown",
   "metadata": {},
   "source": [
    "## Question 2\n",
    "**Favorite Numbers:** Use a dictionary to store people’s favorite numbers. Think of five names, and use them as keys in your dictionary. Think of a favorite number for each person, and store each as a value in your dictionary. Print each person’s name and their favorite number. For even more fun, poll a few friends and get some actual data for your program."
   ]
  },
  {
   "cell_type": "code",
   "execution_count": 3,
   "metadata": {},
   "outputs": [
    {
     "name": "stdout",
     "output_type": "stream",
     "text": [
      "Jack's favorite number is 12\n",
      "John's favorite number is 1.618\n",
      "Jill's favorite number is 123\n",
      "Jim's favorite number is 2304\n",
      "Bob's favorite number is 7\n"
     ]
    }
   ],
   "source": [
    "fav_nums = {'Jack': 12, 'John': 1.618, 'Jill': 123, 'Jim': 2304, 'Bob': 7}\n",
    "for k, v in fav_nums.items():\n",
    "    print(f\"{k}'s favorite number is {v}\")"
   ]
  },
  {
   "cell_type": "markdown",
   "metadata": {},
   "source": [
    "## Question 3\n",
    "**Glossary:** A Python dictionary can be used to model an actual dictionary. However, to avoid confusion, let’s call it a glossary.\n",
    "\n",
    "* Think of five programming words you’ve learned about in the previous chapters. Use these words as the keys in your glossary, and store their meanings as values.\n",
    "* Print each word and its meaning as neatly formatted output. You might print the word followed by a colon and then its meaning, or print the word on one line and then print its meaning indented on a second line. Use the newline character (\\n) to insert a blank line between each word-meaning pair in your output."
   ]
  },
  {
   "cell_type": "code",
   "execution_count": 7,
   "metadata": {},
   "outputs": [
    {
     "name": "stdout",
     "output_type": "stream",
     "text": [
      "string:\tAn array of characters\n",
      "list:\tAn array of many (sometimes differt-typed) objects\n",
      "array:\tA set of same-typed objects\n",
      "for loop:\tProgram instruction to iterate objects in an enumerable\n",
      "while loop:\tloop to interate until condition is met\n"
     ]
    }
   ],
   "source": [
    "glossary = {'string': 'An array of characters', 'list':  'An array of many (sometimes differt-typed) objects', 'array': 'A set of same-typed objects', 'for loop': 'Program instruction to iterate objects in an enumerable', 'while loop': 'loop to interate until condition is met'}\n",
    "\n",
    "print(f'string:\\t{glossary[\"string\"]}')\n",
    "print(f'list:\\t{glossary[\"list\"]}')\n",
    "print(f'array:\\t{glossary[\"array\"]}')\n",
    "print(f'for loop:\\t{glossary[\"for loop\"]}')\n",
    "print(f'while loop:\\t{glossary[\"while loop\"]}')"
   ]
  },
  {
   "cell_type": "markdown",
   "metadata": {},
   "source": [
    "## Question 4\n",
    "**Glossary 2:** Now that you know how to loop through a dictionary, clean up the code from Question 3 by replacing your series of print() calls with a loop that runs through the dictionary’s keys and values. When you’re sure that your loop works, add five more Python terms to your glossary. When you run your program again, these new words and meanings should automatically be included in the output."
   ]
  },
  {
   "cell_type": "code",
   "execution_count": 8,
   "metadata": {},
   "outputs": [
    {
     "name": "stdout",
     "output_type": "stream",
     "text": [
      "string:\tAn array of characters\n",
      "\n",
      "list:\tAn array of many (sometimes differt-typed) objects\n",
      "\n",
      "array:\tA set of same-typed objects\n",
      "\n",
      "for loop:\tProgram instruction to iterate objects in an enumerable\n",
      "\n",
      "while loop:\tloop to interate until condition is met\n",
      "\n",
      "variable:\tA declaration of an object in code\n",
      "\n"
     ]
    }
   ],
   "source": [
    "glossary['variable'] = 'A declaration of an object in code'\n",
    "\n",
    "for k, v in glossary.items():\n",
    "    print(f'{k}:\\t{v}\\n')"
   ]
  },
  {
   "cell_type": "markdown",
   "metadata": {},
   "source": [
    "## Question 5\n",
    "**Rivers:** Make a dictionary containing three major rivers and the country each river runs through. One key-value pair might be 'nile': 'egypt'.\n",
    "\n",
    "* Use a loop to print a sentence about each river, such as *The Nile runs through Egypt.*\n",
    "* Use a loop to print the name of each river included in the dictionary.\n",
    "* Use a loop to print the name of each country included in the dictionary."
   ]
  },
  {
   "cell_type": "code",
   "execution_count": 12,
   "metadata": {},
   "outputs": [
    {
     "name": "stdout",
     "output_type": "stream",
     "text": [
      "The Nile runs through Egypt.\n",
      "The Missippi runs through United States.\n",
      "\n",
      "Nile\n",
      "Missippi\n",
      "\n",
      "Egypt\n",
      "United States\n"
     ]
    }
   ],
   "source": [
    "rivers = {'Nile': 'Egypt', 'Missippi': 'United States'}\n",
    "\n",
    "for k, v in rivers.items():\n",
    "    print(f'The {k} runs through {v}.')\n",
    "    \n",
    "print()\n",
    "for k in rivers.keys():\n",
    "    print(k)\n",
    "    \n",
    "print()\n",
    "for v in rivers.values():\n",
    "    print(v)"
   ]
  },
  {
   "cell_type": "markdown",
   "metadata": {},
   "source": [
    "## Question 6\n",
    "**Polling:** Based on the dictionary below (i.e., favorite_languages):\n",
    "\n",
    "* Make a list of people who should take the favorite languages poll. Include some names that are already in the dictionary and some that are not.\n",
    "* Loop through the list of people who should take the poll. If they have already taken the poll, print a message thanking them for responding. If they have not yet taken the poll, print a message inviting them to take the poll."
   ]
  },
  {
   "cell_type": "code",
   "execution_count": 13,
   "metadata": {},
   "outputs": [
    {
     "name": "stdout",
     "output_type": "stream",
     "text": [
      "jack, please come try our favorite language poll!\n",
      "A special thanks to jen for taking the poll.\n",
      "A special thanks to sarah for taking the poll.\n",
      "jill, please come try our favorite language poll!\n"
     ]
    }
   ],
   "source": [
    "favorite_languages = {\n",
    "    'jen': 'python',\n",
    "    'sarah': 'c',\n",
    "    'edward': 'ruby',\n",
    "    'phil': 'python',\n",
    "    }\n",
    "\n",
    "participants = ['jack', 'jen', 'sarah', 'jill']\n",
    "\n",
    "for p in participants:\n",
    "    if p in favorite_languages.keys():\n",
    "        print(f'A special thanks to {p} for taking the poll.')\n",
    "    else:\n",
    "        print(f'{p}, please come try our favorite language poll!')\n",
    "        "
   ]
  },
  {
   "cell_type": "markdown",
   "metadata": {},
   "source": []
  },
  {
   "cell_type": "markdown",
   "metadata": {},
   "source": [
    "## Question 7\n",
    "**People:** Start with the program you wrote for Question 1. Make two new dictionaries representing different people, and store all three dictionaries in a list called `people`. Loop through your list of people. As you loop through the list, print everything you know about each person."
   ]
  },
  {
   "cell_type": "code",
   "execution_count": 16,
   "metadata": {},
   "outputs": [
    {
     "name": "stdout",
     "output_type": "stream",
     "text": [
      "first_name -- John\n",
      "last_name -- Smith\n",
      "age -- 21\n",
      "city -- Knoxville\n",
      "\n",
      "first_name -- Jill\n",
      "last_name -- Hill\n",
      "age -- 52\n",
      "city -- Jonesborough\n",
      "\n",
      "first_name -- Jack\n",
      "last_name -- Jones\n",
      "age -- 25\n",
      "city -- Telford\n",
      "\n"
     ]
    }
   ],
   "source": [
    "person = {'first_name' : 'John', 'last_name': 'Smith', 'age': '21', 'city': 'Knoxville'}\n",
    "person2 = {'first_name': 'Jill', 'last_name': 'Hill', 'age': '52', 'city': 'Jonesborough'}\n",
    "person3 = {'first_name': 'Jack', 'last_name': 'Jones', 'age': '25', 'city': 'Telford'}\n",
    "\n",
    "people = [person, person2, person3]\n",
    "\n",
    "for p in people:\n",
    "    for k, v in p.items():\n",
    "        print(f'{k} -- {v}')\n",
    "    print()\n"
   ]
  },
  {
   "cell_type": "markdown",
   "metadata": {},
   "source": [
    "## Question 8\n",
    "**Pets:** Make several dictionaries, where each dictionary represents a different pet. In each dictionary, include the kind of animal and the owner’s name. Store these dictionaries in a list called `pets`. Next, loop through your list and as you do, print everything you know about each pet."
   ]
  },
  {
   "cell_type": "code",
   "execution_count": 19,
   "metadata": {},
   "outputs": [
    {
     "name": "stdout",
     "output_type": "stream",
     "text": [
      "type -- dog\n",
      "owner -- jill\n",
      "\n",
      "type -- cat\n",
      "owner -- jack\n",
      "\n",
      "type -- fish\n",
      "owner -- john\n",
      "\n",
      "type -- snake\n",
      "owner -- bob\n",
      "\n"
     ]
    }
   ],
   "source": [
    "pet1 = {'type': 'dog', 'owner': 'jill'}\n",
    "pet2 = {'type': 'cat', 'owner': 'jack'}\n",
    "pet3 = {'type': 'fish', 'owner': 'john'}\n",
    "pet4 = {'type': 'snake', 'owner': 'bob'}\n",
    "\n",
    "pets = [pet1, pet2, pet3, pet4]\n",
    "\n",
    "for p in pets:\n",
    "    for k, v in p.items():\n",
    "        print(f'{k} -- {v}')\n",
    "    print()"
   ]
  },
  {
   "cell_type": "markdown",
   "metadata": {},
   "source": [
    "## Question 9\n",
    "**Favorite Places:** Make a dictionary called `favorite_places`. Think of three names to use as keys in the dictionary, and store one to three favorite places for each person. To make this exercise a bit more interesting, ask some friends to name a few of their favorite places. Loop through the dictionary, and print each person’s name and their favorite places."
   ]
  },
  {
   "cell_type": "code",
   "execution_count": 21,
   "metadata": {},
   "outputs": [
    {
     "name": "stdout",
     "output_type": "stream",
     "text": [
      "jill's favorite place is knoxville\n",
      "jack's favorite place is new york\n",
      "bob's favorite place is mexico\n"
     ]
    }
   ],
   "source": [
    "favorite_places = {'jill': 'knoxville', 'jack': 'new york', 'bob': 'mexico'}\n",
    "\n",
    "for k, v in favorite_places.items():\n",
    "    print(f\"{k}'s favorite place is {v}\")"
   ]
  },
  {
   "cell_type": "markdown",
   "metadata": {},
   "source": [
    "## Question 10\n",
    "**Favorite Numbers:** Modify your program from Question 2 so each person can have more than one favorite number. Then print each person’s name along with their favorite numbers."
   ]
  },
  {
   "cell_type": "code",
   "execution_count": 27,
   "metadata": {},
   "outputs": [
    {
     "name": "stdout",
     "output_type": "stream",
     "text": [
      "Jack's favorite numbers are: [12, 10]\n",
      "John's favorite numbers are: [1.618, 3.14]\n",
      "Jill's favorite numbers are: [123, 321]\n",
      "Jim's favorite numbers are: [2304, 4032]\n",
      "Bob's favorite numbers are: [7, 77]\n"
     ]
    }
   ],
   "source": [
    "fav_nums = {'Jack': [12, 10], 'John': [1.618, 3.14], 'Jill': [123, 321], 'Jim': [2304, 4032], 'Bob': [7, 77]}\n",
    "\n",
    "for k,v in fav_nums.items():\n",
    "    print(f\"{k}'s favorite numbers are: {v}\")"
   ]
  },
  {
   "cell_type": "markdown",
   "metadata": {},
   "source": [
    "## Question 11\n",
    "**Cities:** Make a dictionary called `cities`. Use the names of three cities as keys in your dictionary. Create a dictionary of information about each city and include the country that the city is in, its approximate population, and one fact about that city. The keys for each city’s dictionary should be something like `country`, `population`, and `fact`. Print the name of each city and all of the information you have stored about it."
   ]
  },
  {
   "cell_type": "code",
   "execution_count": 29,
   "metadata": {},
   "outputs": [
    {
     "name": "stdout",
     "output_type": "stream",
     "text": [
      "knoxville\n",
      "--------\n",
      "country: USA\n",
      "population: 192,648\n",
      "fact: Knoxville is a city on the Tennessee River in eastern Tennessee.\n",
      "\n",
      "telford\n",
      "--------\n",
      "country: USA\n",
      "population: 990\n",
      "fact: Telford is a census-designated place and unincorporated community in Washington County, Tennessee, located between Jonesborough and Limestone.\n",
      "\n",
      "johnson city\n",
      "--------\n",
      "country: USA\n",
      "population: 71,278\n",
      "fact: Johnson City is in east Tennessee. It's known for outdoor activities at Winged Deer Park, which offers boating and disc golf, and Buffalo Mountain Park, with trails and sweeping views. Northwest of the city, Gray Fossil Site and Museum is an active Miocene-era excavation site with mastodon fossils.\n",
      "\n"
     ]
    }
   ],
   "source": [
    "cities = {'knoxville': {'country': 'USA', 'population': '192,648', 'fact': 'Knoxville is a city on the Tennessee River in eastern Tennessee.'},\n",
    "         'telford': {'country': 'USA', 'population': '990', 'fact': 'Telford is a census-designated place and unincorporated community in Washington County, Tennessee, located between Jonesborough and Limestone.'},\n",
    "         'johnson city': {'country': 'USA', 'population': '71,278', 'fact': 'Johnson City is in east Tennessee. It\\'s known for outdoor activities at Winged Deer Park, which offers boating and disc golf, and Buffalo Mountain Park, with trails and sweeping views. Northwest of the city, Gray Fossil Site and Museum is an active Miocene-era excavation site with mastodon fossils.'}}\n",
    "for k, v in cities.items():\n",
    "    print(k)\n",
    "    print('--------')\n",
    "    for k2, v2, in v.items():\n",
    "        print(f'{k2}: {v2}')\n",
    "    print()"
   ]
  },
  {
   "cell_type": "markdown",
   "metadata": {},
   "source": [
    "## Question 12\n",
    "**Extensions:** We’re now working with examples that are complex enough that they can be extended in any number of ways. Use one of the example programs from this chapter, and extend it by adding new keys and values, changing the context of the program or improving the formatting of the output."
   ]
  },
  {
   "cell_type": "code",
   "execution_count": 31,
   "metadata": {},
   "outputs": [
    {
     "name": "stdout",
     "output_type": "stream",
     "text": [
      "jill's pet info:\n",
      "----------\n",
      "type: dog\n",
      "name: butter\n",
      "\n",
      "jack's pet info:\n",
      "----------\n",
      "type: cat\n",
      "name: night\n",
      "\n",
      "john's pet info:\n",
      "----------\n",
      "type: fish\n",
      "name: bubbles\n",
      "\n",
      "bob's pet info:\n",
      "----------\n",
      "type: snake\n",
      "name: ra\n",
      "\n"
     ]
    }
   ],
   "source": [
    "pet1 = {'type': 'dog', 'owner': 'jill'}\n",
    "pet2 = {'type': 'cat', 'owner': 'jack'}\n",
    "pet3 = {'type': 'fish', 'owner': 'john'}\n",
    "pet4 = {'type': 'snake', 'owner': 'bob'}\n",
    "\n",
    "pets = {'jill': {'type': 'dog', 'name': 'butter'},\n",
    "       'jack': {'type': 'cat', 'name': 'night'},\n",
    "       'john': {'type': 'fish', 'name': 'bubbles'},\n",
    "       'bob': {'type': 'snake', 'name': 'ra'}}\n",
    "\n",
    "for k,v in pets.items():\n",
    "    print(f\"{k}'s pet info:\")\n",
    "    print(\"----------\")\n",
    "    for k2, v2 in v.items():\n",
    "        print(f'{k2}: {v2}')\n",
    "    print()"
   ]
  },
  {
   "cell_type": "markdown",
   "metadata": {},
   "source": [
    "## Question 13\n",
    "**Rental Car:** Write a program that asks the user what kind of rental car they would like. Print a message about that car, such as “Let me see if I can find you a Subaru.”"
   ]
  },
  {
   "cell_type": "code",
   "execution_count": 33,
   "metadata": {},
   "outputs": [
    {
     "name": "stdout",
     "output_type": "stream",
     "text": [
      "What kind of rental car would you like? Toyota\n"
     ]
    },
    {
     "name": "stdout",
     "output_type": "stream",
     "text": [
      "Let's see if we can find you a Toyota\n"
     ]
    }
   ],
   "source": [
    "usr_in = input('What kind of rental car would you like?')\n",
    "print(f'Let\\'s see if we can find you a {usr_in}')"
   ]
  },
  {
   "cell_type": "markdown",
   "metadata": {},
   "source": [
    "## Question 14\n",
    "**Restaurant Seating:** Write a program that asks the user how many people are in their dinner group. If the answer is more than eight, print a message saying they’ll have to wait for a table. Otherwise, report that their table is ready."
   ]
  },
  {
   "cell_type": "code",
   "execution_count": 1,
   "metadata": {},
   "outputs": [
    {
     "name": "stdout",
     "output_type": "stream",
     "text": [
      "How many people are in the dinner group? 6\n"
     ]
    },
    {
     "name": "stdout",
     "output_type": "stream",
     "text": [
      "Your table is ready!\n"
     ]
    }
   ],
   "source": [
    "usr_in = input(\"How many people are in the dinner group?\")\n",
    "if int(usr_in) > 8:\n",
    "    print('You will have to wait to be seated')\n",
    "else:\n",
    "    print('Your table is ready!')"
   ]
  },
  {
   "cell_type": "markdown",
   "metadata": {},
   "source": [
    "## Question 15\n",
    "**Multiples of Ten:** Ask the user for a number, and then report whether the number is a multiple of 10 or not."
   ]
  },
  {
   "cell_type": "code",
   "execution_count": 2,
   "metadata": {},
   "outputs": [
    {
     "name": "stdout",
     "output_type": "stream",
     "text": [
      "Please supply a number: 3\n"
     ]
    },
    {
     "name": "stdout",
     "output_type": "stream",
     "text": [
      "Your number is NOT a multiple of 10.\n"
     ]
    }
   ],
   "source": [
    "usr_in = input('Please supply a number:')\n",
    "if int(usr_in) % 10 == 0:\n",
    "    print('Your number is a multiple of 10')\n",
    "else:\n",
    "    print('Your number is NOT a multiple of 10.')"
   ]
  },
  {
   "cell_type": "markdown",
   "metadata": {},
   "source": [
    "## Question 16\n",
    "**Pizza Toppings:** Write a loop that prompts the user to enter a series of pizza toppings until they enter a 'quit' value. As they enter each topping, print a message saying you’ll add that topping to their pizza."
   ]
  },
  {
   "cell_type": "code",
   "execution_count": 4,
   "metadata": {},
   "outputs": [
    {
     "name": "stdout",
     "output_type": "stream",
     "text": [
      "Please supply a pizza topping: pineapple\n"
     ]
    },
    {
     "name": "stdout",
     "output_type": "stream",
     "text": [
      "Adding pineapple to your pizza\n"
     ]
    },
    {
     "name": "stdout",
     "output_type": "stream",
     "text": [
      "Please supply the next pizza topping: ham\n"
     ]
    },
    {
     "name": "stdout",
     "output_type": "stream",
     "text": [
      "Adding ham to your pizza\n"
     ]
    },
    {
     "name": "stdout",
     "output_type": "stream",
     "text": [
      "Please supply the next pizza topping: quit\n"
     ]
    },
    {
     "name": "stdout",
     "output_type": "stream",
     "text": [
      "Your pizza has the following toppings: ['pineapple', 'ham']\n"
     ]
    }
   ],
   "source": [
    "usr_in = input('Please supply a pizza topping:')\n",
    "pizza = []\n",
    "while usr_in != 'quit':\n",
    "    print(f'Adding {usr_in} to your pizza')\n",
    "    pizza.append(usr_in)\n",
    "    usr_in = input('Please supply the next pizza topping:')\n",
    "print(f'Your pizza has the following toppings: {pizza}')"
   ]
  },
  {
   "cell_type": "markdown",
   "metadata": {},
   "source": [
    "## Question 17\n",
    "**Movie Tickets:** A movie theater charges different ticket prices depending on a person’s age. If a person is under the age of 3, the ticket is free; if they are between 3 and 12, the ticket is \\\\$10; and if they are over age 12, the ticket is $15. Write a loop in which you ask users their age, and then tell them the cost of their movie ticket."
   ]
  },
  {
   "cell_type": "code",
   "execution_count": 5,
   "metadata": {},
   "outputs": [
    {
     "name": "stdout",
     "output_type": "stream",
     "text": [
      "Please enter your age:  10\n"
     ]
    },
    {
     "name": "stdout",
     "output_type": "stream",
     "text": [
      "Your ticket is $10\n"
     ]
    },
    {
     "name": "stdout",
     "output_type": "stream",
     "text": [
      "Please enter your age:  3\n"
     ]
    },
    {
     "name": "stdout",
     "output_type": "stream",
     "text": [
      "Your ticket is $10\n"
     ]
    },
    {
     "name": "stdout",
     "output_type": "stream",
     "text": [
      "Please enter your age:  43\n"
     ]
    },
    {
     "name": "stdout",
     "output_type": "stream",
     "text": [
      "Your ticket is $15\n"
     ]
    },
    {
     "name": "stdout",
     "output_type": "stream",
     "text": [
      "Please enter your age:  quit\n"
     ]
    }
   ],
   "source": [
    "usr_in = input('Please enter your age: ')\n",
    "while usr_in != 'quit':\n",
    "    age = int(usr_in)\n",
    "    if age < 3:\n",
    "        print('Your ticket is free!')\n",
    "    elif age >= 3 and age <= 12:\n",
    "        print('Your ticket is $10')\n",
    "    else:\n",
    "        print('Your ticket is $15')\n",
    "    usr_in = input('Please enter your age: ')"
   ]
  },
  {
   "cell_type": "markdown",
   "metadata": {},
   "source": [
    "## Question 18\n",
    "**Three Exits:** Write different versions of either Question 16 or Question 17 that do each of the following at least once:\n",
    "\n",
    "* Use a conditional test in the while statement to stop the loop.\n",
    "* Use an active variable to control how long the loop runs.\n",
    "* Use a break statement to exit the loop when the user enters a 'quit' value."
   ]
  },
  {
   "cell_type": "code",
   "execution_count": 1,
   "metadata": {},
   "outputs": [
    {
     "name": "stdout",
     "output_type": "stream",
     "text": [
      "Please enter your age:  10\n"
     ]
    },
    {
     "name": "stdout",
     "output_type": "stream",
     "text": [
      "Your ticket is $10\n"
     ]
    },
    {
     "name": "stdout",
     "output_type": "stream",
     "text": [
      "Please enter your age:  11\n"
     ]
    },
    {
     "name": "stdout",
     "output_type": "stream",
     "text": [
      "Your ticket is $10\n"
     ]
    },
    {
     "name": "stdout",
     "output_type": "stream",
     "text": [
      "Please enter your age:  12\n"
     ]
    },
    {
     "name": "stdout",
     "output_type": "stream",
     "text": [
      "Your ticket is $10\n"
     ]
    },
    {
     "name": "stdout",
     "output_type": "stream",
     "text": [
      "Please enter your age:  32\n"
     ]
    },
    {
     "name": "stdout",
     "output_type": "stream",
     "text": [
      "Your ticket is $15\n"
     ]
    },
    {
     "name": "stdout",
     "output_type": "stream",
     "text": [
      "Please enter your age:  quit\n"
     ]
    }
   ],
   "source": [
    "while True:\n",
    "    usr_in = input('Please enter your age: ')\n",
    "    if usr_in == 'quit':\n",
    "        break\n",
    "    age = int(usr_in)\n",
    "    if age < 3:\n",
    "        print('Your ticket is free!')\n",
    "    elif age >= 3 and age <= 12:\n",
    "        print('Your ticket is $10')\n",
    "    else:\n",
    "        print('Your ticket is $15')"
   ]
  },
  {
   "cell_type": "markdown",
   "metadata": {},
   "source": [
    "## Question 19\n",
    "**Deli:** Make a list called `sandwich_orders` and fill it with the names of various sandwiches. Then make an empty list called `finished_sandwiches`. Loop through the list of sandwich orders and print a message for each order, such as `I made your tuna sandwich`. As each sandwich is made, move it to the list of finished sandwiches. After all the sandwiches have been made, print a message listing each sandwich that was made."
   ]
  },
  {
   "cell_type": "code",
   "execution_count": 7,
   "metadata": {},
   "outputs": [
    {
     "name": "stdout",
     "output_type": "stream",
     "text": [
      "I made your Turkey Club sandwich.\n",
      "I made your BLT sandwich.\n",
      "I made your Grilled Cheese sandwich.\n",
      "Vegetarian Panini\n",
      "Chicken Caesar Wrap\n",
      "Grilled Cheese\n"
     ]
    }
   ],
   "source": [
    "sandwiches = [\"Turkey Club\", \"BLT\", \"Grilled Cheese\", \"Chicken Caesar Wrap\", \"Vegetarian Panini\"]\n",
    "finished_sandwiches = []\n",
    "for s in sandwiches:\n",
    "    print(f'I made your {s} sandwich.')\n",
    "    tmp = sandwiches.pop()\n",
    "    finished_sandwiches.append(tmp)\n",
    "    \n",
    "for f in finished_sandwiches:\n",
    "    print(f)\n"
   ]
  },
  {
   "cell_type": "markdown",
   "metadata": {},
   "source": [
    "## Question 20\n",
    "**No Pastrami:** Using the list `sandwich_orders` from Question 19, make sure the sandwich `pastrami` appears in the list at least three times. Add code near the beginning of your program to print a message saying the deli has run out of pastrami, and then use a `while` loop to remove all occurrences of `pastrami` from `sandwich_orders`. Make sure no pastrami sandwiches end up in `finished_sandwiches`."
   ]
  },
  {
   "cell_type": "code",
   "execution_count": 8,
   "metadata": {},
   "outputs": [
    {
     "name": "stdout",
     "output_type": "stream",
     "text": [
      "The deli has run out of pastrami!\n",
      "I made your Turkey Club sandwich.\n",
      "I made your BLT sandwich.\n",
      "I made your Grilled Cheese sandwich.\n",
      "Vegetarian Panini\n",
      "Chicken Caesar Wrap\n",
      "Grilled Cheese\n"
     ]
    }
   ],
   "source": [
    "sandwiches = [\"Turkey Club\", \"BLT\", \"Grilled Cheese\", \"Chicken Caesar Wrap\", \"Vegetarian Panini\", \"pastrami\", \"pastrami\", \"pastrami\"]\n",
    "finished_sandwiches = []\n",
    "\n",
    "print(\"The deli has run out of pastrami!\")\n",
    "while \"pastrami\" in sandwiches:\n",
    "    sandwiches.remove(\"pastrami\")\n",
    "\n",
    "for s in sandwiches:\n",
    "    print(f'I made your {s} sandwich.')\n",
    "    tmp = sandwiches.pop()\n",
    "    finished_sandwiches.append(tmp)\n",
    "    \n",
    "for f in finished_sandwiches:\n",
    "    print(f)"
   ]
  },
  {
   "cell_type": "markdown",
   "metadata": {},
   "source": [
    "## Question 21\n",
    "**Dream Vacation:** Write a program that polls users about their dream vacation. Write a prompt similar to *If you could visit one place in the world, where would you go?* Include a block of code that prints the results of the poll."
   ]
  },
  {
   "cell_type": "code",
   "execution_count": 10,
   "metadata": {},
   "outputs": [
    {
     "name": "stdout",
     "output_type": "stream",
     "text": [
      "Please enter your name: Tristan\n",
      "If you could visit one palce in the world, where would you go? New York\n",
      "Please enter your name: John\n",
      "If you could visit one palce in the world, where would you go? New Mexico\n",
      "Please enter your name: quit\n"
     ]
    },
    {
     "name": "stdout",
     "output_type": "stream",
     "text": [
      "Tristan's dream is to visit New York.\n",
      "John's dream is to visit New Mexico.\n"
     ]
    }
   ],
   "source": [
    "dreams = {}\n",
    "\n",
    "while True:\n",
    "    usr_name = input(\"Please enter your name:\")\n",
    "    if usr_name == 'quit':\n",
    "        break\n",
    "    usr_dream = input(\"If you could visit one palce in the world, where would you go?\")\n",
    "    if usr_dream == 'quit':\n",
    "        break\n",
    "    dreams[usr_name] = usr_dream\n",
    "    \n",
    "for k, v in dreams.items():\n",
    "    print(f\"{k}'s dream is to visit {v}.\")"
   ]
  }
 ],
 "metadata": {
  "kernelspec": {
   "display_name": "Python 3 (ipykernel)",
   "language": "python",
   "name": "python3"
  },
  "language_info": {
   "codemirror_mode": {
    "name": "ipython",
    "version": 3
   },
   "file_extension": ".py",
   "mimetype": "text/x-python",
   "name": "python",
   "nbconvert_exporter": "python",
   "pygments_lexer": "ipython3",
   "version": "3.11.6"
  }
 },
 "nbformat": 4,
 "nbformat_minor": 4
}
