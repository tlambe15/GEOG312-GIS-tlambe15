{
 "cells": [
  {
   "cell_type": "markdown",
   "metadata": {},
   "source": [
    "[![image](https://colab.research.google.com/assets/colab-badge.svg)](https://colab.research.google.com/github/giswqs/geog-312/blob/master/labs/lab_06.ipynb)\n",
    "[![image](https://binder.pangeo.io/badge_logo.svg)](https://gishub.org/geog312-pangeo)\n",
    "\n",
    "**Tristan Lambert**"
   ]
  },
  {
   "cell_type": "code",
   "execution_count": 7,
   "metadata": {},
   "outputs": [
    {
     "name": "stdout",
     "output_type": "stream",
     "text": [
      "Submitted time: 2023-12-13 23:58:15.166835\n"
     ]
    }
   ],
   "source": [
    "from datetime import datetime\n",
    "\n",
    "now = datetime.now()\n",
    "print(f\"Submitted time: {now}\")"
   ]
  },
  {
   "cell_type": "markdown",
   "metadata": {},
   "source": [
    "## Question 1\n",
    "**Message:** Write a function called `display_message()` that prints one sentence telling everyone what you are learning about in this chapter. Call the function, and make sure the message displays correctly."
   ]
  },
  {
   "cell_type": "code",
   "execution_count": 8,
   "metadata": {},
   "outputs": [
    {
     "name": "stdout",
     "output_type": "stream",
     "text": [
      "In this chapter we are learning about functions in Python!\n"
     ]
    }
   ],
   "source": [
    "def display_message():\n",
    "    print(\"In this chapter we are learning about functions in Python!\")\n",
    "    \n",
    "display_message()"
   ]
  },
  {
   "cell_type": "markdown",
   "metadata": {},
   "source": [
    "## Question 2\n",
    "**Favorite Book:** Write a function called `favorite_book()` that accepts one parameter, title. The function should print a message, such as `One of my favorite books is Alice in Wonderland`. Call the function, making sure to include a book title as an argument in the function call."
   ]
  },
  {
   "cell_type": "code",
   "execution_count": 9,
   "metadata": {},
   "outputs": [
    {
     "name": "stdout",
     "output_type": "stream",
     "text": [
      "One of my favorite books is Alice in Wonderland.\n"
     ]
    }
   ],
   "source": [
    "def favorite_book(title):\n",
    "    print(f\"One of my favorite books is {title}.\")\n",
    "    \n",
    "favorite_book(\"Alice in Wonderland\")"
   ]
  },
  {
   "cell_type": "markdown",
   "metadata": {},
   "source": [
    "## Question 3\n",
    "**T-Shirt:** Write a function called `make_shirt()` that accepts a size and the text of a message that should be printed on the shirt. The function should print a sentence summarizing the size of the shirt and the message printed on it.\n",
    "\n",
    "Call the function once using positional arguments to make a shirt. Call the function a second time using keyword arguments."
   ]
  },
  {
   "cell_type": "code",
   "execution_count": 3,
   "metadata": {},
   "outputs": [
    {
     "name": "stdout",
     "output_type": "stream",
     "text": [
      "Making a xxl shirt with the following message: \"Hello world!\"\n"
     ]
    }
   ],
   "source": [
    "def make_shirt(size, message):\n",
    "    print(f\"Making a {size} shirt with the following message: \\\"{message}\\\"\")\n",
    "    \n",
    "make_shirt(\"xxl\", \"Hello world!\")\n",
    "    "
   ]
  },
  {
   "cell_type": "markdown",
   "metadata": {},
   "source": [
    "## Question 4\n",
    "**Large Shirts:** Modify the `make_shirt()` function so that shirts are large by default with a message that reads *I love Python*. Make a large shirt and a medium shirt with the default message, and a shirt of any size with a different message."
   ]
  },
  {
   "cell_type": "code",
   "execution_count": 4,
   "metadata": {},
   "outputs": [
    {
     "name": "stdout",
     "output_type": "stream",
     "text": [
      "Making a large shirt with the following message: \"I love Python\"\n",
      "Making a medium shirt with the following message: \"I love Python\"\n"
     ]
    }
   ],
   "source": [
    "\n",
    "def make_shirt(size=\"large\", message=\"I love Python\"):\n",
    "    print(f\"Making a {size} shirt with the following message: \\\"{message}\\\"\")\n",
    "    \n",
    "make_shirt()\n",
    "make_shirt(size=\"medium\")"
   ]
  },
  {
   "cell_type": "markdown",
   "metadata": {},
   "source": [
    "## Question 5\n",
    "**Cities:** Write a function called `describe_city()` that accepts the name of a city and its country. The function should print a simple sentence, such as `Reykjavik is in Iceland`. Give the parameter for the country a default value. Call your function for three different cities, at least one of which is not in the default country."
   ]
  },
  {
   "cell_type": "code",
   "execution_count": 7,
   "metadata": {},
   "outputs": [
    {
     "name": "stdout",
     "output_type": "stream",
     "text": [
      "knoxville is in USA\n",
      "Reykjavik is in USA\n",
      "Reykjavik is in Iceland\n"
     ]
    }
   ],
   "source": [
    "def describe_city(name, country=\"USA\"):\n",
    "    print(f\"{name} is in {country}\")\n",
    "    \n",
    "describe_city(\"knoxville\")\n",
    "describe_city(\"Reykjavik\")\n",
    "describe_city(\"Reykjavik\", country=\"Iceland\")\n",
    "    "
   ]
  },
  {
   "cell_type": "markdown",
   "metadata": {},
   "source": [
    "## Question 6\n",
    "**City Names:** Write a function called `city_country()` that takes in the name of a city and its country. The function should return a string formatted like this:\n",
    "```\n",
    "Santiago, Chile\n",
    "```\n",
    "Call your function with at least three city-country pairs, and print the values that are returned."
   ]
  },
  {
   "cell_type": "code",
   "execution_count": 8,
   "metadata": {},
   "outputs": [
    {
     "name": "stdout",
     "output_type": "stream",
     "text": [
      "Santiago, Chile\n",
      "Knoxville, United States\n",
      "Johnson City, United States\n"
     ]
    }
   ],
   "source": [
    "def city_country(name, country):\n",
    "    print(f\"{name}, {country}\")\n",
    "    \n",
    "city_country(\"Santiago\", \"Chile\")\n",
    "city_country(\"Knoxville\", \"United States\")\n",
    "city_country(\"Johnson City\", \"United States\")"
   ]
  },
  {
   "cell_type": "markdown",
   "metadata": {},
   "source": [
    "## Question 7\n",
    "**Album:** Write a function called `make_album()` that builds a dictionary describing a music album. The function should take in an artist name and an album title, and it should return a dictionary containing these two pieces of information. Use the function to make three dictionaries representing different albums. Print each return value to show that the dictionaries are storing the album information correctly.\n",
    "\n",
    "Use None to add an optional parameter to make_album() that allows you to store the number of songs on an album. If the calling line includes a value for the number of songs, add that value to the album’s dictionary. Make at least one new function call that includes the number of songs on an album."
   ]
  },
  {
   "cell_type": "code",
   "execution_count": 11,
   "metadata": {},
   "outputs": [
    {
     "name": "stdout",
     "output_type": "stream",
     "text": [
      "{'Michael Jackson': 'Thriller'}\n",
      "{'The Beatles': 'Abbey Road'}\n",
      "{'Pink Floyd': 'Dark Side of the Moon', 'number of songs': 10}\n"
     ]
    },
    {
     "data": {
      "text/plain": [
       "{'Pink Floyd': 'Dark Side of the Moon', 'number of songs': 10}"
      ]
     },
     "execution_count": 11,
     "metadata": {},
     "output_type": "execute_result"
    }
   ],
   "source": [
    "def make_album(artist_name, title, num_songs=None):\n",
    "    if num_songs is not None:\n",
    "        music_dict = {artist_name: title, \"number of songs\": num_songs}\n",
    "    else:\n",
    "        music_dict = {artist_name: title}\n",
    "    print(music_dict)\n",
    "    return music_dict\n",
    "\n",
    "make_album(\"Michael Jackson\", \"Thriller\")\n",
    "make_album(\"The Beatles\", \"Abbey Road\")\n",
    "make_album(\"Pink Floyd\", \"Dark Side of the Moon\", num_songs=10)"
   ]
  },
  {
   "cell_type": "markdown",
   "metadata": {},
   "source": [
    "## Question 8\n",
    "**User Albums:** Start with your program from Question 7. Write a `while` loop that allows users to enter an album’s artist and title. Once you have that information, call `make_album()` with the user’s input and print the dictionary that’s created. Be sure to include a quit value in the `while` loop."
   ]
  },
  {
   "cell_type": "code",
   "execution_count": 12,
   "metadata": {},
   "outputs": [
    {
     "name": "stdout",
     "output_type": "stream",
     "text": [
      "Enter the artist name: Pink Floyd\n",
      "Enter the album: Dark Side of the Moon\n"
     ]
    },
    {
     "name": "stdout",
     "output_type": "stream",
     "text": [
      "{'Pink Floyd': 'Dark Side of the Moon'}\n"
     ]
    },
    {
     "name": "stdout",
     "output_type": "stream",
     "text": [
      "Enter the artist name: quit\n"
     ]
    }
   ],
   "source": [
    "artists = []\n",
    "albums = []\n",
    "\n",
    "while True:\n",
    "    usr_artist = input(\"Enter the artist name:\")\n",
    "    if usr_artist == 'quit':\n",
    "        break\n",
    "    usr_album = input(\"Enter the album:\")\n",
    "    if usr_album == 'quit':\n",
    "        break\n",
    "    make_album(usr_artist, usr_album)"
   ]
  },
  {
   "cell_type": "markdown",
   "metadata": {},
   "source": [
    "## Question 9\n",
    "**Messages:** Make a list containing a series of short text messages. Pass the list to a function called `show_messages()`, which prints each text message."
   ]
  },
  {
   "cell_type": "code",
   "execution_count": 13,
   "metadata": {},
   "outputs": [
    {
     "name": "stdout",
     "output_type": "stream",
     "text": [
      "Hello world\n",
      "Greetings!\n",
      "Hi, how are you?\n"
     ]
    }
   ],
   "source": [
    "def show_messages():\n",
    "    msgs = ['Hello world', 'Greetings!', 'Hi, how are you?']\n",
    "    for m in msgs:\n",
    "        print(m)\n",
    "        \n",
    "show_messages()"
   ]
  },
  {
   "cell_type": "markdown",
   "metadata": {},
   "source": [
    "## Question 10\n",
    "**Sending Messages:** Start with a copy of your program from Question 9. Write a function called `send_messages()` that prints each text message and moves each message to a new list called `sent_messages` as it’s printed. After calling the function, print both of your lists to make sure the messages were moved correctly."
   ]
  },
  {
   "cell_type": "code",
   "execution_count": 26,
   "metadata": {},
   "outputs": [
    {
     "name": "stdout",
     "output_type": "stream",
     "text": [
      "Hello world!\n",
      "Greetings!\n",
      "[]\n",
      "['Hello world!', 'Greetings!']\n"
     ]
    }
   ],
   "source": [
    "\n",
    "def show_messages():\n",
    "    msgs = ['Hello world!', 'Greetings!']\n",
    "    sent_messages = []\n",
    "    for i in msgs:\n",
    "        print(i)\n",
    "        sent_messages.append(i)\n",
    "    msgs.clear()\n",
    "        \n",
    "    print(msgs)\n",
    "    print(sent_messages)\n",
    "        \n",
    "show_messages()"
   ]
  },
  {
   "cell_type": "markdown",
   "metadata": {},
   "source": [
    "## Question 11\n",
    "**Archived Messages:** Start with your work from Question 10. Call the function `send_messages()` with a copy of the list of messages. After calling the function, print both of your lists to show that the original list has retained its messages."
   ]
  },
  {
   "cell_type": "code",
   "execution_count": 27,
   "metadata": {},
   "outputs": [
    {
     "name": "stdout",
     "output_type": "stream",
     "text": [
      "Hello world!\n",
      "Greetings!\n",
      "[]\n",
      "['Hello world!', 'Greetings!']\n",
      "['Hello world!', 'Greetings!']\n"
     ]
    }
   ],
   "source": [
    "def show_messages():\n",
    "    msgs = ['Hello world!', 'Greetings!']\n",
    "    sent_messages = []\n",
    "    for i in msgs:\n",
    "        print(i)\n",
    "        sent_messages.append(i)\n",
    "    msgs.clear()\n",
    "        \n",
    "    print(msgs)\n",
    "    print(sent_messages)\n",
    "msgs = ['Hello world!', 'Greetings!']\n",
    "show_messages()\n",
    "print(msgs)"
   ]
  },
  {
   "cell_type": "markdown",
   "metadata": {},
   "source": [
    "## Question 12\n",
    "**Sandwiches:** Write a function that accepts a list of items a person wants on a sandwich. The function should have one parameter that collects as many items as the function call provides, and it should print a summary of the sandwich that’s being ordered. Call the function three times, using a different number of arguments each time."
   ]
  },
  {
   "cell_type": "code",
   "execution_count": 31,
   "metadata": {},
   "outputs": [
    {
     "name": "stdout",
     "output_type": "stream",
     "text": [
      "Your sandwich contains: ('ham', 'swiss', 'mustard')\n",
      "Your sandwich contains: ('ham', 'swiss', 'mustard', 'lettuce')\n",
      "Your sandwich contains: ('ham',)\n"
     ]
    }
   ],
   "source": [
    "def make_sandwich(*args):\n",
    "    print(f\"Your sandwich contains: {args}\")\n",
    "    \n",
    "make_sandwich(\"ham\", \"swiss\", \"mustard\")\n",
    "make_sandwich(\"ham\", \"swiss\", \"mustard\", \"lettuce\")\n",
    "make_sandwich(\"ham\")\n",
    "    "
   ]
  },
  {
   "cell_type": "markdown",
   "metadata": {},
   "source": [
    "## Question 13\n",
    "**Cars:** Write a function that stores information about a car in a dictionary. The function should always receive a manufacturer and a model name. It should then accept an arbitrary number of keyword arguments. Call the function with the required information and two other name-value pairs, such as a color or an optional feature. Your function should work for a call like this one:\n",
    "```\n",
    "car = make_car('subaru', 'outback', color='blue', tow_package=True)\n",
    "```\n",
    "Print the dictionary that’s returned to make sure all the information was stored correctly."
   ]
  },
  {
   "cell_type": "code",
   "execution_count": 3,
   "metadata": {},
   "outputs": [
    {
     "name": "stdout",
     "output_type": "stream",
     "text": [
      "{'manufacturer': 'subaru', 'model': 'outback', 'color': 'blue', 'tow_package': True}\n"
     ]
    }
   ],
   "source": [
    "def make_car(manufacturer, model, **kwargs):\n",
    "    res = {\"manufacturer\": manufacturer, \"model\": model}\n",
    "    for k,v in kwargs.items():\n",
    "        res[k] = v\n",
    "    return res\n",
    "\n",
    "car = make_car('subaru', 'outback', color='blue', tow_package=True)\n",
    "print(car)"
   ]
  },
  {
   "cell_type": "markdown",
   "metadata": {},
   "source": [
    "## Question 14\n",
    "**Restaurant:** Make a class called `Restaurant`. The `__init__()` method for `Restaurant` should store two attributes: a `restaurant_name` and a `cuisine_type`. Make a method called `describe_restaurant()` that prints these two pieces of information, and a method called `open_restaurant()` that prints a message indicating that the restaurant is open.\n",
    "\n",
    "Make an instance called `restaurant` from your class. Print the two attributes individually, and then call both methods."
   ]
  },
  {
   "cell_type": "code",
   "execution_count": 10,
   "metadata": {},
   "outputs": [
    {
     "name": "stdout",
     "output_type": "stream",
     "text": [
      "<__main__.Restaurant object at 0x7f7d2c520e20>\n",
      "<__main__.Restaurant object at 0x7f7d2c5200d0>\n",
      "Tom's Sandwiches\n",
      "Deli\n",
      "Fred's Toast\n",
      "Toast\n",
      "Tom's Sandwiches is now open for business!\n",
      "Fred's Toast is now open for business!\n"
     ]
    }
   ],
   "source": [
    "class Restaurant:\n",
    "    def __init__(self, rest_name, food_type):\n",
    "        self.restaurant_name = rest_name\n",
    "        self.cuisine_type = food_type\n",
    "        \n",
    "    def describe_restaurant(self):\n",
    "        print(self.restaurant_name)\n",
    "        print(self.cuisine_type)\n",
    "    \n",
    "    def open_restaurant(self):\n",
    "        print(f'{self.restaurant_name} is now open for business!')\n",
    "        \n",
    "test1 = Restaurant(\"Tom's Sandwiches\", \"Deli\")\n",
    "test2 = Restaurant(\"Fred's Toast\", \"Toast\")\n",
    "\n",
    "print(test1)\n",
    "print(test2)\n",
    "\n",
    "test1.describe_restaurant()\n",
    "test2.describe_restaurant()\n",
    "test1.open_restaurant()\n",
    "test2.open_restaurant()"
   ]
  },
  {
   "cell_type": "markdown",
   "metadata": {},
   "source": [
    "## Question 15\n",
    "**Three Restaurants:** Start with your class from Question 14. Create three different instances from the class, and call `describe_restaurant()` for each instance."
   ]
  },
  {
   "cell_type": "code",
   "execution_count": 11,
   "metadata": {},
   "outputs": [
    {
     "name": "stdout",
     "output_type": "stream",
     "text": [
      "Tom's Sandwiches\n",
      "Deli\n",
      "Fred's Toast\n",
      "Toast\n",
      "Pete's Pizza\n",
      "Italian\n"
     ]
    }
   ],
   "source": [
    "test1 = Restaurant(\"Tom's Sandwiches\", \"Deli\")\n",
    "test2 = Restaurant(\"Fred's Toast\", \"Toast\")\n",
    "test3 = Restaurant(\"Pete's Pizza\", \"Italian\")\n",
    "\n",
    "test1.describe_restaurant()\n",
    "test2.describe_restaurant()\n",
    "test3.describe_restaurant()"
   ]
  },
  {
   "cell_type": "markdown",
   "metadata": {},
   "source": [
    "## Question 16\n",
    "**Users:** Make a class called `User`. Create two attributes called `first_name` and `last_name`, and then create several other attributes that are typically stored in a user profile. Make a method called `describe_user()` that prints a summary of the user’s information. Make another method called `greet_user()` that prints a personalized greeting to the user.\n",
    "\n",
    "Create several instances representing different users, and call both methods for each user."
   ]
  },
  {
   "cell_type": "code",
   "execution_count": 13,
   "metadata": {},
   "outputs": [
    {
     "name": "stdout",
     "output_type": "stream",
     "text": [
      "Burger, Bob\n",
      "bb_urger\n",
      "bb_urger@gmail.com\n",
      "\n",
      "Burger, Phil\n",
      "pb_urger\n",
      "pb_urger@gmail.com\n",
      "\n",
      "Jones, Jim\n",
      "jj1092\n",
      "jj_swag@gmail.com\n",
      "\n"
     ]
    }
   ],
   "source": [
    "class User:\n",
    "    def __init__(self, first, last, username, email):\n",
    "        self.first = first\n",
    "        self.last = last\n",
    "        self.username = username\n",
    "        self.email = email\n",
    "        \n",
    "    def describe_user(self):\n",
    "        print(f'{self.last}, {self.first}\\n{self.username}\\n{self.email}\\n')\n",
    "        \n",
    "    def greet_user(self):\n",
    "        print(f\"Good evening, {first}.\")\n",
    "        \n",
    "u1 = User(\"Bob\", \"Burger\", \"bb_urger\", \"bb_urger@gmail.com\")\n",
    "u2 = User(\"Phil\", \"Burger\", \"pb_urger\", \"pb_urger@gmail.com\")\n",
    "u3 = User(\"Jim\", \"Jones\", \"jj1092\", \"jj_swag@gmail.com\")\n",
    "\n",
    "u1.describe_user()\n",
    "u2.describe_user()\n",
    "u3.describe_user()"
   ]
  },
  {
   "cell_type": "markdown",
   "metadata": {},
   "source": [
    "## Question 17\n",
    "**Number Served:** Start with your program from Question 14. Add an attribute called `number_served` with a default value of 0. Create an instance called `restaurant` from this class. Print the number of customers the restaurant has served, and then change this value and print it again.\n",
    "\n",
    "Add a method called `set_number_served()` that lets you set the number of customers that have been served. Call this method with a new number and print the value again.\n",
    "\n",
    "Add a method called `increment_number_served()` that lets you increment the number of customers who’ve been served.\n",
    "\n",
    "Call this method with any number you like that could represent how many customers were served in, say, a day of business."
   ]
  },
  {
   "cell_type": "code",
   "execution_count": 16,
   "metadata": {},
   "outputs": [
    {
     "name": "stdout",
     "output_type": "stream",
     "text": [
      "Tom's Sandwiches\n",
      "Deli\n",
      "0\n",
      "Tom's Sandwiches\n",
      "Deli\n",
      "1\n",
      "Tom's Sandwiches\n",
      "Deli\n",
      "20\n"
     ]
    }
   ],
   "source": [
    "class Restaurant:\n",
    "    def __init__(self, rest_name, food_type, number_served=0):\n",
    "        self.restaurant_name = rest_name\n",
    "        self.cuisine_type = food_type\n",
    "        self.number_served = number_served\n",
    "        \n",
    "    def set_num_served(self, num):\n",
    "        self.number_served = num\n",
    "        \n",
    "    def inc_num_served(self):\n",
    "        self.number_served = self.number_served + 1\n",
    "        \n",
    "    def describe_restaurant(self):\n",
    "        print(self.restaurant_name)\n",
    "        print(self.cuisine_type)\n",
    "        print(self.number_served)\n",
    "    \n",
    "    def open_restaurant(self):\n",
    "        print(f'{self.restaurant_name} is now open for business!')\n",
    "        \n",
    "test1 = Restaurant(\"Tom's Sandwiches\", \"Deli\")\n",
    "test1.describe_restaurant()\n",
    "test1.inc_num_served()\n",
    "test1.describe_restaurant()\n",
    "test1.set_num_served(20)\n",
    "test1.describe_restaurant()"
   ]
  },
  {
   "cell_type": "markdown",
   "metadata": {},
   "source": [
    "## Question 18\n",
    "**Login Attempts:** Add an attribute called login_attempts to your User class from Question 16. Write a method called `increment_login_attempts()` that increments the value of `login_attempts` by 1. Write another method called `reset_login_attempts()` that resets the value of login_attempts to 0.\n",
    "\n",
    "Make an instance of the `User` class and call `increment_login_attempts()` several times. Print the value of `login_attempts` to make sure it was incremented properly, and then call `reset_login_attempts()`. Print `login_attempts` again to make sure it was reset to 0."
   ]
  },
  {
   "cell_type": "code",
   "execution_count": 17,
   "metadata": {},
   "outputs": [
    {
     "name": "stdout",
     "output_type": "stream",
     "text": [
      "5\n",
      "0\n"
     ]
    }
   ],
   "source": [
    "class User:\n",
    "    def __init__(self, first, last, username, email, login_attempts=0):\n",
    "        self.first = first\n",
    "        self.last = last\n",
    "        self.username = username\n",
    "        self.email = email\n",
    "        self.login_attempts = 0\n",
    "        \n",
    "    def reset_login_attempts(self):\n",
    "        self.login_attempts = 0\n",
    "    \n",
    "    def increment_login_attempts(self):\n",
    "        self.login_attempts = self.login_attempts + 1\n",
    "        \n",
    "    def describe_user(self):\n",
    "        print(f'{self.last}, {self.first}\\n{self.username}\\n{self.email}\\n{self.login_attempts}\\n')\n",
    "        \n",
    "    def greet_user(self):\n",
    "        print(f\"Good evening, {first}.\")\n",
    "        \n",
    "u1 = User(\"Bob\", \"Burger\", \"bb_urger\", \"bb_urger@gmail.com\")\n",
    "\n",
    "u1.increment_login_attempts()\n",
    "u1.increment_login_attempts()\n",
    "u1.increment_login_attempts()\n",
    "u1.increment_login_attempts()\n",
    "u1.increment_login_attempts()\n",
    "\n",
    "print(u1.login_attempts)\n",
    "u1.reset_login_attempts()\n",
    "print(u1.login_attempts)\n",
    "\n"
   ]
  },
  {
   "cell_type": "markdown",
   "metadata": {},
   "source": [
    "## Question 19\n",
    "**Dice:** Make a class `Die` with one attribute called `sides`, which has a default value of 6. Write a method called `roll_die()` that prints a random number between 1 and the number of sides the die has. Make a 6-sided die and roll it 10 times.\n",
    "\n",
    "Make a 10-sided die and a 20-sided die. Roll each die 10 times."
   ]
  },
  {
   "cell_type": "code",
   "execution_count": 25,
   "metadata": {},
   "outputs": [
    {
     "name": "stdout",
     "output_type": "stream",
     "text": [
      "3\n",
      "2\n",
      "5\n",
      "5\n",
      "2\n",
      "3\n",
      "2\n",
      "2\n",
      "2\n",
      "4\n",
      "\n",
      "3\n",
      "10\n",
      "10\n",
      "5\n",
      "1\n",
      "8\n",
      "7\n",
      "7\n",
      "9\n",
      "10\n",
      "\n",
      "2\n",
      "20\n",
      "3\n",
      "12\n",
      "13\n",
      "12\n",
      "17\n",
      "8\n",
      "13\n",
      "16\n"
     ]
    }
   ],
   "source": [
    "import random as rnd\n",
    "\n",
    "class Dice:\n",
    "    def __init__(self, sides=6):\n",
    "        self.sides = sides\n",
    "        \n",
    "    def roll_die(self):\n",
    "        print(rnd.randint(1, self.sides))\n",
    "        \n",
    "d6 = Dice()\n",
    "d10 = Dice(10)\n",
    "d20 = Dice(20)\n",
    "\n",
    "for _ in range(1,11):\n",
    "    d6.roll_die()\n",
    "print()\n",
    "for _ in range(1,11):\n",
    "    d10.roll_die()\n",
    "print()\n",
    "for _ in range(1,11):\n",
    "    d20.roll_die()"
   ]
  },
  {
   "cell_type": "markdown",
   "metadata": {},
   "source": [
    "## Question 20\n",
    "**Lottery:** Make a list or tuple containing a series of 10 numbers and five letters. Randomly select four numbers or letters from the list and print a message saying that any ticket matching these four numbers or letters wins a prize.\n",
    "\n",
    "You can use a loop to see how hard it might be to win the kind of lottery you just modeled. Make a list or tuple called `my_ticket`. Write a loop that keeps pulling numbers until your ticket wins. Print a message reporting how many times the loop had to run to give you a winning ticket."
   ]
  },
  {
   "cell_type": "code",
   "execution_count": 6,
   "metadata": {},
   "outputs": [
    {
     "name": "stdout",
     "output_type": "stream",
     "text": [
      "The winning ticket value is: [8, 4, 7, 6]\n",
      "It took 1894 attempts to win the lottery\n"
     ]
    }
   ],
   "source": [
    "import random as rnd\n",
    "vals = [7, 2, 6, 4, 3, 4, 6, 2, 8, 8, 'v', 'a', 'y', 'n', 'h']\n",
    "\n",
    "winning_ticket = rnd.sample(vals, 4)\n",
    "print(f\"The winning ticket value is: {winning_ticket}\")\n",
    "\n",
    "my_ticket = ['v', 5, 5, 8]\n",
    "\n",
    "loop_count = 0\n",
    "while my_ticket != winning_ticket:\n",
    "    loop_count = loop_count + 1\n",
    "    my_ticket = rnd.sample(vals, 4)\n",
    "    \n",
    "print(f'It took {loop_count} attempts to win the lottery')"
   ]
  }
 ],
 "metadata": {
  "kernelspec": {
   "display_name": "Python 3 (ipykernel)",
   "language": "python",
   "name": "python3"
  },
  "language_info": {
   "codemirror_mode": {
    "name": "ipython",
    "version": 3
   },
   "file_extension": ".py",
   "mimetype": "text/x-python",
   "name": "python",
   "nbconvert_exporter": "python",
   "pygments_lexer": "ipython3",
   "version": "3.8.10"
  }
 },
 "nbformat": 4,
 "nbformat_minor": 4
}
