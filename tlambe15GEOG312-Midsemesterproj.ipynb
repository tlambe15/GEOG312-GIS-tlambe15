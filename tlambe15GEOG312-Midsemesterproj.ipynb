{
 "cells": [
  {
   "cell_type": "markdown",
   "metadata": {},
   "source": [
    "## Tristan Lambert | GEOG312 | Mid-semester Project Proposal: \n",
    "### Guidelines for Project Proposal (Due October 26th)\n",
    "1. The project topic.\n",
    "2. A literature review of work previously done on the topic (citations included).\n",
    "3. The data intended to be used for the project and why?\n",
    "4. The methodologies intended to be used for the project and why?\n",
    "5. Expected results, challenges, and insight gained from the study (e.g. what you\n",
    "expect to learn).\n",
    "* *There is no minimum or maximum length for the project report. Students should focus\n",
    "on clearly communicating the above points and defending their choices.*\n"
   ]
  },
  {
   "cell_type": "markdown",
   "metadata": {},
   "source": [
    "#### Topic TBU *(To Be Utilized)*:\n"
   ]
  },
  {
   "cell_type": "markdown",
   "metadata": {},
   "source": [
    "#### Citations TBU:\n"
   ]
  },
  {
   "cell_type": "markdown",
   "metadata": {},
   "source": [
    "#### Data Sources TBU:\n",
    "\n",
    "1. GDP nominal + COL (as current as possible considering pandemic/before after even maybe as a map?!) https://www.bea.gov/data/gdp\n",
    "2. Happiness Index () this is the expandable bits\n",
    "\n",
    "\"\"Gross domestic product is the monetary value of all finished goods and services made within a country during a specific period.\n",
    "GDP provides an economic snapshot of a country, used to estimate the size of an economy and its growth rate.\n",
    "GDP can be calculated in three ways, using expenditures, production, or incomes and it can be adjusted for inflation and population to provide deeper insights.\n",
    "Real GDP takes into account the effects of inflation while nominal GDP does not.\n",
    "Though it has limitations, GDP is a key tool to guide policymakers, investors, and businesses in strategic decision-making.\"\" \n",
    "\n",
    "Explaining the GDP and how its calculated\n",
    "https://www.investopedia.com/terms/g/gdp.asp#:~:text=Key%20Takeaways&text=GDP%20can%20be%20calculated%20in,while%20nominal%20GDP%20does%20not.\n",
    "\n",
    "GDP nominal data set https://www.bea.gov/data/gdp/gdp-county-metro-and-other-areas\n",
    "Real GDP\n",
    "variations?\n",
    "\n",
    "COL indexs by country -- match years . . . \n",
    "\n",
    "Happiness Indexes\n",
    "\n"
   ]
  },
  {
   "cell_type": "markdown",
   "metadata": {},
   "source": [
    "#### Methodologies TBU:"
   ]
  },
  {
   "cell_type": "markdown",
   "metadata": {},
   "source": [
    "#### Expected Outcomes:\n",
    "\n",
    "My main goal going into this is to utilize the amount of time allowed for this project so early in the semester to dream big for this project. \n",
    "\n",
    "1. Reusability and expandability for myself and the world wide web\n",
    "2. Toggle thingy.... hmmm....\n",
    "3. "
   ]
  },
  {
   "cell_type": "markdown",
   "metadata": {},
   "source": [
    "#### Limitations Current:\n",
    "What isnt included in GDP\n",
    " https://study.com/academy/lesson/gross-domestic-product-items-excluded-from-national-income.html#:~:text=There%20are%20several%20things%20that%20GDP%20does%20not%20include%20such,examples%20of%20these%20uncounted%20activities.\n",
    "\n",
    " What is the best source for GDP data?\n",
    "U.S. Bureau of Economic Analysis (BEA)  https://www.bea.gov/data/gdp/gross-domestic-product#:~:text=U.S.%20Bureau%20of%20Economic%20Analysis%20(BEA)\n"
   ]
  },
  {
   "cell_type": "markdown",
   "metadata": {},
   "source": []
  }
 ],
 "metadata": {
  "language_info": {
   "name": "python"
  }
 },
 "nbformat": 4,
 "nbformat_minor": 2
}
