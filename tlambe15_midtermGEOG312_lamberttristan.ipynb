{
 "cells": [
  {
   "cell_type": "markdown",
   "metadata": {},
   "source": [
    "**Tristan Lambert**"
   ]
  },
  {
   "cell_type": "code",
   "execution_count": null,
   "metadata": {},
   "outputs": [],
   "source": [
    "##Tristan Lambert | tlambe15 | GEOG312_Midterm_Exam_Fall23\n",
    "\n",
    "from datetime import datetime\n",
    "\n",
    "now = datetime.now()\n",
    "print(f\"Submitted time: {now}\")"
   ]
  },
  {
   "cell_type": "markdown",
   "metadata": {},
   "source": [
    "## Question 1\n",
    "**Question 1:**\n",
    "Question 1. Please write a python script that provides a printed output for the following\n",
    "arithmetic functions (you can use any numbers):\n",
    "* Multiplication\n",
    "* Division\n",
    "* Addition\n",
    "* Subtraction\n",
    "* Modulo Operato"
   ]
  },
  {
   "cell_type": "code",
   "execution_count": 93,
   "metadata": {},
   "outputs": [
    {
     "name": "stdout",
     "output_type": "stream",
     "text": [
      "Multiplication: 3 \n",
      "Division: 3.0 \n",
      "Addition: 3 \n",
      "Subtraction: 3 \n",
      "Modulo Operato: 3\n"
     ]
    }
   ],
   "source": [
    "#To the Gamemaker of Python Exam: thank you for the Hunger Games ref!!\n",
    "\n",
    "#Question 1 response: \n",
    "mult = 3*1\n",
    "div = 3/1\n",
    "add = 3+0\n",
    "sub = 3-0\n",
    "mod = 3%4 \n",
    "#all should =3\n",
    "print(\"Multiplication:\", mult, \"\\nDivision:\", div, \"\\nAddition:\", add, \"\\nSubtraction:\", sub, \"\\nModulo Operato:\", mod)"
   ]
  },
  {
   "cell_type": "markdown",
   "metadata": {},
   "source": [
    "## Question 2\n",
    "**Question 2:** Question 2. Create an array with at least one of each data type. Create an array with only one\n",
    "data type. Compare the data types using a logical expression (equals, greater than or equal, not\n",
    "equal). Please have these values printed out"
   ]
  },
  {
   "cell_type": "code",
   "execution_count": 94,
   "metadata": {},
   "outputs": [
    {
     "name": "stdout",
     "output_type": "stream",
     "text": [
      "<class 'float'> <class 'str'> False\n",
      "<class 'str'> <class 'str'> True\n",
      "<class 'int'> <class 'str'> False\n"
     ]
    }
   ],
   "source": [
    "#create lists\n",
    "all_data = [0.1, \"string\", 5] #list with float, string, integer\n",
    "one_data = [\"s1\", \"s2\", \"s3\"] #array with all strings (one data type)\n",
    "\n",
    "#compare the lists with logical expressions and print\n",
    "for i in range(len(all_data)):\n",
    "    type_one = type(all_data[i])\n",
    "    type_two = type(one_data[i])\n",
    "    print(type_one, type_two, type_one == type_two)"
   ]
  },
  {
   "cell_type": "markdown",
   "metadata": {},
   "source": [
    "## Question 3\n",
    "**Question 3:** Create a list and use a for loop to print out each element of that list."
   ]
  },
  {
   "cell_type": "code",
   "execution_count": 42,
   "metadata": {},
   "outputs": [
    {
     "name": "stdout",
     "output_type": "stream",
     "text": [
      "item1\n",
      "item2\n",
      "item3\n"
     ]
    }
   ],
   "source": [
    "loop_list = ['item1', 'item2', 'item3']\n",
    "#print(loop_list)\n",
    "\n",
    "#forloop to print each element\n",
    "for item in loop_list:\n",
    "    print(item)"
   ]
  },
  {
   "cell_type": "markdown",
   "metadata": {},
   "source": [
    "## Question 4\n",
    "**Question 4:** Create an array with numbers ranging from 1 to 100. Using a for loop, change the\n",
    "value of each even number in the total range of values to be equal to 0 within the array. Print out\n",
    "the final results as a table"
   ]
  },
  {
   "cell_type": "code",
   "execution_count": 99,
   "metadata": {},
   "outputs": [
    {
     "name": "stdout",
     "output_type": "stream",
     "text": [
      "[1, 0, 3, 0, 5, 0, 7, 0, 9, 0, 11, 0, 13, 0, 15, 0, 17, 0, 19, 0, 21, 0, 23, 0, 25, 0, 27, 0, 29, 0, 31, 0, 33, 0, 35, 0, 37, 0, 39, 0, 41, 0, 43, 0, 45, 0, 47, 0, 49, 0, 51, 0, 53, 0, 55, 0, 57, 0, 59, 0, 61, 0, 63, 0, 65, 0, 67, 0, 69, 0, 71, 0, 73, 0, 75, 0, 77, 0, 79, 0, 81, 0, 83, 0, 85, 0, 87, 0, 89, 0, 91, 0, 93, 0, 95, 0, 97, 0, 99, 0]\n",
      "Even\t|\tOdd\n",
      "--------+-----------\n",
      "0 \t|\t 1\n",
      "0 \t|\t 3\n",
      "0 \t|\t 5\n",
      "0 \t|\t 7\n",
      "0 \t|\t 9\n",
      "0 \t|\t 11\n",
      "0 \t|\t 13\n",
      "0 \t|\t 15\n",
      "0 \t|\t 17\n",
      "0 \t|\t 19\n",
      "0 \t|\t 21\n",
      "0 \t|\t 23\n",
      "0 \t|\t 25\n",
      "0 \t|\t 27\n",
      "0 \t|\t 29\n",
      "0 \t|\t 31\n",
      "0 \t|\t 33\n",
      "0 \t|\t 35\n",
      "0 \t|\t 37\n",
      "0 \t|\t 39\n",
      "0 \t|\t 41\n",
      "0 \t|\t 43\n",
      "0 \t|\t 45\n",
      "0 \t|\t 47\n",
      "0 \t|\t 49\n",
      "0 \t|\t 51\n",
      "0 \t|\t 53\n",
      "0 \t|\t 55\n",
      "0 \t|\t 57\n",
      "0 \t|\t 59\n",
      "0 \t|\t 61\n",
      "0 \t|\t 63\n",
      "0 \t|\t 65\n",
      "0 \t|\t 67\n",
      "0 \t|\t 69\n",
      "0 \t|\t 71\n",
      "0 \t|\t 73\n",
      "0 \t|\t 75\n",
      "0 \t|\t 77\n",
      "0 \t|\t 79\n",
      "0 \t|\t 81\n",
      "0 \t|\t 83\n",
      "0 \t|\t 85\n",
      "0 \t|\t 87\n",
      "0 \t|\t 89\n",
      "0 \t|\t 91\n",
      "0 \t|\t 93\n",
      "0 \t|\t 95\n",
      "0 \t|\t 97\n",
      "0 \t|\t 99\n"
     ]
    }
   ],
   "source": [
    "#numbers_array = [i for i in range(1, 101) if i % 2 == 0] \n",
    "#print(numbers_array)\n",
    "number_list = list(range(1,101))\n",
    "#even_numbers = [ ] # renaming list variable \n",
    "\n",
    "#get the evens\n",
    "for i, num in enumerate(number_list):\n",
    "    if num % 2 == 0:\n",
    "        #print(num)#check correct yes\n",
    "        # even_numbers.append #check correct yes\n",
    "        # print(even_numbers) #tested it replaced the vals\n",
    "        number_list[i] = 0\n",
    "print(number_list)\n",
    "\n",
    "# alternatively\n",
    "even_numbers = [x for x in number_list if x == 0]\n",
    "odd_numbers = [x for x in number_list if x != 0]\n",
    "#print header\n",
    "print(\"Even\\t|\\tOdd\")\n",
    "print(\"--------+-----------\")\n",
    "for i in range(len(even_numbers)):\n",
    "    print(even_numbers[i], \"\\t|\\t\", odd_numbers[i])"
   ]
  },
  {
   "cell_type": "markdown",
   "metadata": {},
   "source": [
    "## Question 5\n",
    "**Question 5:** Create a function that will print out a conversation between two people. Your\n",
    "function should accept two inputs: 1. The name of person A, and the name of Person B. Write\n",
    "your function so that if the name of Person A is less than 5 characters, Person B will reply with\n",
    "the line: “Wow, your name is so short!” (print the message to the console).\n",
    "* Example:\n",
    "Person A: “Hi my name is ____”\n",
    "Person B: “Hello, person A name, my name is ____”\n",
    "Person B: “Wow, your name is so short!”"
   ]
  },
  {
   "cell_type": "code",
   "execution_count": 85,
   "metadata": {},
   "outputs": [
    {
     "name": "stdout",
     "output_type": "stream",
     "text": [
      "Person A: Hi my name is alec\n",
      "Person B: Hello, alec my name is, tristan\n",
      "\n",
      "Message from PersonB: tristan Wow, your name is so short!!\n"
     ]
    }
   ],
   "source": [
    "#function that will print 2 person conversation, two inputs\n",
    "def person_convo(name_personA, name_personB):\n",
    "    length = len(name_personA)\n",
    "    print(\"Person A: Hi my name is\", name_personA)\n",
    "    print(\"Person B: Hello,\", name_personA, \"my name is,\", name_personB)\n",
    "    if length < 5: #name of person A less than 5 chars, person b responds\n",
    "        print(\"\\nMessage from PersonB:\", name_personB, \"Wow, your name is so short!!\")\n",
    "    else: #if name is >5chars\n",
    "        print(\"\\nYour name is 5 chars or greater; there will be no response. . .\")\n",
    "\n",
    "prompt_personA = \"Person A, what is your name, please? \"\n",
    "name_personA = input(prompt_personA) #get person A's name\n",
    "prompt_personB = \"\\nPerson B, what is your name, please?\"\n",
    "name_personB = input(prompt_personB) #get person B's name\n",
    "#calling function (wont run unless called)\n",
    "person_convo(name_personA, name_personB)\n",
    "\n",
    "#todo\n",
    "# input1 personA\n",
    "#input2 personB\n",
    "#less than 5char response\n",
    "#personB response if less than 5 chars^^^"
   ]
  },
  {
   "cell_type": "markdown",
   "metadata": {},
   "source": [
    "## Question 6\n",
    "**Question 6:** Create two arrays that each have a random range of numbers from 1 to 50. Conduct\n",
    "the following arithmetic functions across the two arrays and print out the results: \n",
    "* Multiplication\n",
    "* Division\n",
    "* Addition\n",
    "* Subtraction\n",
    "* Modulo Operato"
   ]
  },
  {
   "cell_type": "code",
   "execution_count": 77,
   "metadata": {},
   "outputs": [
    {
     "name": "stdout",
     "output_type": "stream",
     "text": [
      "Multiplication:  [725, 1247, 667, 493, 1392, 1100, 1892, 1012, 748, 2112, 825, 1419, 759, 561, 1584, 25, 43, 23, 17, 48, 775, 1333, 713, 527, 1488]\n",
      "Division:  [1.16, 0.6744186046511628, 1.2608695652173914, 1.7058823529411764, 0.6041666666666666, 1.76, 1.0232558139534884, 1.9130434782608696, 2.588235294117647, 0.9166666666666666, 1.32, 0.7674418604651163, 1.434782608695652, 1.9411764705882353, 0.6875, 0.04, 0.023255813953488372, 0.043478260869565216, 0.058823529411764705, 0.020833333333333332, 1.24, 0.7209302325581395, 1.3478260869565217, 1.8235294117647058, 0.6458333333333334]\n",
      "Addition:  [54, 72, 52, 46, 77, 69, 87, 67, 61, 92, 58, 76, 56, 50, 81, 26, 44, 24, 18, 49, 56, 74, 54, 48, 79]\n",
      "Subtraction:  [4, -14, 6, 12, -19, 19, 1, 21, 27, -4, 8, -10, 10, 16, -15, -24, -42, -22, -16, -47, 6, -12, 8, 14, -17]\n",
      "Modulo:  [4, 29, 6, 12, 29, 19, 1, 21, 10, 44, 8, 33, 10, 16, 33, 1, 1, 1, 1, 1, 6, 31, 8, 14, 31]\n"
     ]
    }
   ],
   "source": [
    "from random import randint #i've not completely read through all the class documentation, i just google and try to learn that way first, but i know packages from Java.\n",
    "\n",
    "#create arrays\n",
    "list_one = [randint(1,50) for _ in range(5)] \n",
    "list_two = [randint(1,50) for _ in range(5)]\n",
    "\n",
    "#store results\n",
    "mult_list = []\n",
    "div_list = []\n",
    "add_list = []\n",
    "sub_list = []\n",
    "mod_list = []\n",
    "\n",
    "#calculate the arithemetic functions across the arrays and print\n",
    "for x in list_one:\n",
    "    for y in list_two:\n",
    "        mult_list.append(x*y)\n",
    "        div_list.append(x/y)\n",
    "        add_list.append(x+y)\n",
    "        sub_list.append(x-y)\n",
    "        mod_list.append(x%y)\n",
    "\n",
    "print(\"Multiplication: \", mult_list)\n",
    "print(\"Division: \", div_list)\n",
    "print(\"Addition: \", add_list)\n",
    "print(\"Subtraction: \", sub_list)\n",
    "print(\"Modulo: \", mod_list)"
   ]
  },
  {
   "cell_type": "markdown",
   "metadata": {},
   "source": [
    "## Question 7\n",
    "**Question 7:** Create a dictionary that has key, value pairs for different types of foods. Create a\n",
    "similar function to Question 5’s function that prints out the value of a key based on input from a\n",
    "user.\n",
    "* Example:\n",
    "“Please type your favorite food: “\n",
    "User types: Pizza\n",
    "Code response: “Ah, Pizza, we have pepperoni.”\n",
    "Where pepperoni is the value of the key"
   ]
  },
  {
   "cell_type": "code",
   "execution_count": 78,
   "metadata": {},
   "outputs": [
    {
     "name": "stdout",
     "output_type": "stream",
     "text": [
      "Code Response: Ah, Pizza, we have pepperoni\n"
     ]
    }
   ],
   "source": [
    "#function for dictionary responses\n",
    "def function_two(user_input):\n",
    "    response_dict = {\n",
    "        \"pizza\": \"Ah, Pizza, we have pepperoni\",\n",
    "        \"mac n cheese\": \"We cook it in a pot! Mac n Cheese!\",\n",
    "        \"mashed potato\": \"We cook those in a pot too!\"\n",
    "        }\n",
    "    \n",
    "    if user_input.lower() in response_dict.keys(): #check if in dict\n",
    "        print(\"Code Response:\", response_dict[user_input]) \n",
    "\n",
    "#call function\n",
    "function_two(input(\"Please type your favorite food: \"))\n"
   ]
  },
  {
   "cell_type": "markdown",
   "metadata": {},
   "source": [
    "## Question 8a\n",
    "**Question 8a:** Create a while loop that will continuously print a message until a specified value is\n",
    "reached"
   ]
  },
  {
   "cell_type": "code",
   "execution_count": 83,
   "metadata": {},
   "outputs": [
    {
     "name": "stdout",
     "output_type": "stream",
     "text": [
      "Message 0\n",
      "Message 1\n",
      "Message 2\n",
      "Message 3\n",
      "Message 4\n",
      "Message 5\n",
      "Message 6\n",
      "Message 7\n",
      "Message 8\n",
      "Message 9\n"
     ]
    }
   ],
   "source": [
    "i = 0 \n",
    "while(i < 10): #while less than 10\n",
    "    print(\"Message\", i) #print\n",
    "    i += 1 "
   ]
  },
  {
   "cell_type": "markdown",
   "metadata": {},
   "source": [
    "## Question 8b\n",
    "**Question 8b:** Create a while loop that runs a calculation on an array of numbers until the last\n",
    "value within the array has been run. \n",
    "\n",
    "* The array can contain any numerical values, and the calculation can be something as simple as\n",
    "multiplying the values by pi or something more complex.\n"
   ]
  },
  {
   "cell_type": "code",
   "execution_count": 100,
   "metadata": {},
   "outputs": [
    {
     "name": "stdout",
     "output_type": "stream",
     "text": [
      "0\n",
      "5\n",
      "10\n",
      "15\n"
     ]
    }
   ],
   "source": [
    "list_one = [x for x in range(4)] #list for numbers \n",
    "i = 0 \n",
    "while(i < len(list_one)): #mutiply by 5 until index at end of list\n",
    "    print(i * 5)\n",
    "    i += 1"
   ]
  },
  {
   "cell_type": "markdown",
   "metadata": {},
   "source": [
    "## Question 9\n",
    "**Question 9:** Please explain the difference between a list, an array, and a dictionary and when you\n",
    "would use each one. (Type your answer as a comment or within a text cell) "
   ]
  },
  {
   "cell_type": "markdown",
   "metadata": {},
   "source": [
    "A list supports the use of multiple data types. Might be used when you need to store a set of many different things like strings and integers, etc.\n",
    "An array uses all the same data types, for example, strings only or integers only. \n",
    "A dictionary is a set of key and value pairs. A dictionary would be used if you wanted to map values to specific strings."
   ]
  },
  {
   "cell_type": "markdown",
   "metadata": {},
   "source": [
    "## Question 10\n",
    "**Question 10:** Please explain the difference between logical operators and comparison operators\n",
    "and describe one use case for when they would be used (do not use the description from the\n",
    "lecture/lab materials - think through it):\n",
    "* If\n",
    "* Elif\n",
    "* Else\n",
    "\n",
    "* ==\n",
    "* !=\n",
    "* & (and)\n",
    "* | (or)\n"
   ]
  },
  {
   "cell_type": "markdown",
   "metadata": {},
   "source": [
    "Logical operators are used to check conditions and branch code, or help the code flow. An example for when 'if' would be used would be if you wanted to print a message when two strings are equal.\n",
    "\n",
    "Comparison operators are used to check variables/values for equality/differences e.g. (==, > respectively). An example use case for a comparison operator would be if two integers are not equal."
   ]
  }
 ],
 "metadata": {
  "kernelspec": {
   "display_name": "Python 3",
   "language": "python",
   "name": "python3"
  },
  "language_info": {
   "codemirror_mode": {
    "name": "ipython",
    "version": 3
   },
   "file_extension": ".py",
   "mimetype": "text/x-python",
   "name": "python",
   "nbconvert_exporter": "python",
   "pygments_lexer": "ipython3",
   "version": "3.11.4"
  },
  "orig_nbformat": 4
 },
 "nbformat": 4,
 "nbformat_minor": 2
}
