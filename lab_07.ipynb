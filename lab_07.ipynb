{
 "cells": [
  {
   "cell_type": "markdown",
   "metadata": {},
   "source": [
    "[![image](https://colab.research.google.com/assets/colab-badge.svg)](https://colab.research.google.com/github/giswqs/geog-312/blob/master/labs/lab_07.ipynb)\n",
    "[![image](https://binder.pangeo.io/badge_logo.svg)](https://gishub.org/geog312-pangeo)\n",
    "\n",
    "**Tristan Lambert**"
   ]
  },
  {
   "cell_type": "code",
   "execution_count": null,
   "metadata": {},
   "outputs": [],
   "source": [
    "from datetime import datetime\n",
    "\n",
    "now = datetime.now()\n",
    "print(f\"Submitted time: {now}\")"
   ]
  },
  {
   "cell_type": "markdown",
   "metadata": {},
   "source": [
    "## Question 1\n",
    "**Learning Python:** Open a blank file in your text editor and write a few lines summarizing what you’ve learned about Python so far. Start each line with the phrase *In Python you can. . ..* Save the file as *learning_python.txt* in the same directory as your exercises from this chapter. Write a program that reads the file and prints what you wrote three times. Print the contents once by reading in the entire file, once by looping over the file object, and once by storing the lines in a list and then working with them outside the *with* block."
   ]
  },
  {
   "cell_type": "code",
   "execution_count": 4,
   "metadata": {},
   "outputs": [
    {
     "name": "stdout",
     "output_type": "stream",
     "text": [
      "In Python you can, store many different types of objects in a list.\n",
      "\n",
      "In Python you can, print formatted string with the f-string.\n",
      "\n",
      "In Python you can, create class constructors with the __init__ function.\n",
      "In Python you can, store many different types of objects in a list.\n",
      "\n",
      "In Python you can, print formatted string with the f-string.\n",
      "\n",
      "In Python you can, create class constructors with the __init__ function.\n"
     ]
    }
   ],
   "source": [
    "with open('lab7/learning_python.txt') as content:\n",
    "    for line in content:\n",
    "        print(line)\n",
    "        \n",
    "with open('lab7/learning_python.txt') as content:\n",
    "    lines = content.readlines()\n",
    "    \n",
    "for line in lines:\n",
    "    print(line)\n",
    "    \n"
   ]
  },
  {
   "cell_type": "markdown",
   "metadata": {},
   "source": [
    "## Question 2\n",
    "**Learning C:** You can use the replace() method to replace any word in a string with a different word. Here’s a quick example showing how to replace 'dog' with 'cat' in a sentence:\n",
    "```\n",
    "message = \"I really like dogs.\"\n",
    "message.replace('dog', 'cat')\n",
    "'I really like cats.'\n",
    "```\n",
    "Read in each line from the file you just created, *learning_python.txt*, and replace the word *Python* with the name of another language, such as *C*. Print each modified line to the screen."
   ]
  },
  {
   "cell_type": "code",
   "execution_count": 6,
   "metadata": {},
   "outputs": [
    {
     "name": "stdout",
     "output_type": "stream",
     "text": [
      "In C you can, store many different types of objects in a list.\n",
      "\n",
      "In C you can, print formatted string with the f-string.\n",
      "\n",
      "In C you can, create class constructors with the __init__ function.\n"
     ]
    }
   ],
   "source": [
    "for line in lines:\n",
    "    line = line.replace('Python', 'C')\n",
    "    print(line)"
   ]
  },
  {
   "cell_type": "markdown",
   "metadata": {},
   "source": [
    "## Question 3\n",
    "**Guest:** Write a program that prompts the user for their name. When they respond, write their name to a file called guest.txt."
   ]
  },
  {
   "cell_type": "code",
   "execution_count": 8,
   "metadata": {},
   "outputs": [
    {
     "name": "stdin",
     "output_type": "stream",
     "text": [
      "Please enter your name: test\n"
     ]
    }
   ],
   "source": [
    "usr_in = input(\"Please enter your name:\")\n",
    "with open('lab7/guest.txt', 'w') as guest:\n",
    "    guest.write(usr_in)"
   ]
  },
  {
   "cell_type": "markdown",
   "metadata": {},
   "source": [
    "## Question 4\n",
    "**Guest Book:** Write a while loop that prompts users for their name. When they enter their name, print a greeting to the screen and add a line recording their visit in a file called guest_book.txt. Make sure each entry appears on a new line in the file."
   ]
  },
  {
   "cell_type": "code",
   "execution_count": 12,
   "metadata": {},
   "outputs": [
    {
     "name": "stdin",
     "output_type": "stream",
     "text": [
      "Please enter your name Jeff\n"
     ]
    },
    {
     "name": "stdout",
     "output_type": "stream",
     "text": [
      "Greetings Jeff, have a good day!\n"
     ]
    },
    {
     "name": "stdin",
     "output_type": "stream",
     "text": [
      "Please enter your name John\n"
     ]
    },
    {
     "name": "stdout",
     "output_type": "stream",
     "text": [
      "Greetings John, have a good day!\n"
     ]
    },
    {
     "name": "stdin",
     "output_type": "stream",
     "text": [
      "Please enter your name Jill\n"
     ]
    },
    {
     "name": "stdout",
     "output_type": "stream",
     "text": [
      "Greetings Jill, have a good day!\n"
     ]
    },
    {
     "name": "stdin",
     "output_type": "stream",
     "text": [
      "Please enter your name quit\n"
     ]
    }
   ],
   "source": [
    "while True:\n",
    "    usr_in = input('Please enter your name')\n",
    "    if usr_in == 'quit':\n",
    "        break\n",
    "    with open('lab7/guest_book.txt', 'a') as gbook:\n",
    "        gbook.write(f'{usr_in}\\n')\n",
    "        \n",
    "    print(f'Greetings {usr_in}, have a good day!')"
   ]
  },
  {
   "cell_type": "markdown",
   "metadata": {},
   "source": [
    "## Question 5\n",
    "**Programming Poll:** Write a while loop that asks people why they like programming. Each time someone enters a reason, add their reason to a file that stores all the responses."
   ]
  },
  {
   "cell_type": "code",
   "execution_count": 13,
   "metadata": {},
   "outputs": [
    {
     "name": "stdin",
     "output_type": "stream",
     "text": [
      "Why do you like programming? It's fun\n",
      "Why do you like programming? It's like a puzzle\n",
      "Why do you like programming? quit\n"
     ]
    }
   ],
   "source": [
    "while True:\n",
    "    usr_in = input(\"Why do you like programming?\")\n",
    "    if usr_in == 'quit':\n",
    "        break\n",
    "    with open('lab7/responses.txt', 'a') as resp:\n",
    "        resp.write(f'{usr_in}\\n')\n",
    "    "
   ]
  },
  {
   "cell_type": "markdown",
   "metadata": {},
   "source": [
    "## Question 6\n",
    "**Addition:** One common problem when prompting for numerical input occurs when people provide text instead of numbers. When you try to convert the input to an int, you’ll get a ValueError. Write a program that prompts for two numbers. Add them together and print the result. Catch the ValueError if either input value is not a number, and print a friendly error message. Test your program by entering two numbers and then by entering some text instead of a number."
   ]
  },
  {
   "cell_type": "code",
   "execution_count": 15,
   "metadata": {},
   "outputs": [
    {
     "name": "stdin",
     "output_type": "stream",
     "text": [
      "Input a number 1\n",
      "Input a number 2\n"
     ]
    },
    {
     "name": "stdout",
     "output_type": "stream",
     "text": [
      "1 + 2 = 3\n"
     ]
    }
   ],
   "source": [
    "try:\n",
    "    usr_in = input(\"Input a number\")\n",
    "    num1 = int(usr_in)\n",
    "    usr_in = input(\"Input a number\")\n",
    "    num2 = int(usr_in)\n",
    "    print(f'{num1} + {num2} = {num1 + num2}')\n",
    "except:\n",
    "    print('please ensure your input is a valid number')"
   ]
  },
  {
   "cell_type": "markdown",
   "metadata": {},
   "source": [
    "## Question 7\n",
    "**Addition Calculator:** Wrap your code from Question 6 in a while loop so the user can continue entering numbers even if they make a mistake and enter text instead of a number."
   ]
  },
  {
   "cell_type": "code",
   "execution_count": 16,
   "metadata": {},
   "outputs": [
    {
     "name": "stdin",
     "output_type": "stream",
     "text": [
      "Input a number e\n"
     ]
    },
    {
     "name": "stdout",
     "output_type": "stream",
     "text": [
      "please ensure your input is a valid number\n"
     ]
    },
    {
     "name": "stdin",
     "output_type": "stream",
     "text": [
      "Input a number 1\n",
      "Input a number 2\n"
     ]
    },
    {
     "name": "stdout",
     "output_type": "stream",
     "text": [
      "1 + 2 = 3\n"
     ]
    },
    {
     "name": "stdin",
     "output_type": "stream",
     "text": [
      "Input a number quit\n"
     ]
    }
   ],
   "source": [
    "while True:\n",
    "    try:\n",
    "        usr_in = input(\"Input a number\")\n",
    "        if usr_in == 'quit':\n",
    "            break\n",
    "        num1 = int(usr_in)\n",
    "        usr_in = input(\"Input a number\")\n",
    "        if usr_in == 'quit':\n",
    "            break\n",
    "        num2 = int(usr_in)\n",
    "        print(f'{num1} + {num2} = {num1 + num2}')\n",
    "    except:\n",
    "        print('please ensure your input is a valid number')"
   ]
  },
  {
   "cell_type": "markdown",
   "metadata": {},
   "source": [
    "## Question 8\n",
    "**Cats and Dogs:** Make two files, *cats.txt* and *dogs.txt*. Store at least three names of cats in the first file and three names of dogs in the second file. Write a program that tries to read these files and print the contents of the file to the screen. Wrap your code in a `try-except` block to catch the `FileNotFound` error, and print a friendly message if a file is missing. Move one of the files to a different location on your system, and make sure the code in the `except` block executes properly."
   ]
  },
  {
   "cell_type": "code",
   "execution_count": 23,
   "metadata": {},
   "outputs": [
    {
     "name": "stdout",
     "output_type": "stream",
     "text": [
      "Could not find the specified file.\n"
     ]
    }
   ],
   "source": [
    "try:\n",
    "    with open('lab7/cats.txt') as cats:\n",
    "        cat_lines = cats.readlines()\n",
    "        \n",
    "    with open('lab7/dogss.txt') as dogs:\n",
    "        dog_lines = dogs.readlines()\n",
    "        \n",
    "    for cat in cat_lines:\n",
    "        print(cat)\n",
    "    for dog in dog_lines:\n",
    "        print(dog)\n",
    "except FileNotFoundError:\n",
    "    print(\"Could not find the specified file.\")"
   ]
  },
  {
   "cell_type": "markdown",
   "metadata": {},
   "source": [
    "## Question 9\n",
    "**Silent Cats and Dogs:** Modify your except block in Question 8 to fail silently if either file is missing."
   ]
  },
  {
   "cell_type": "code",
   "execution_count": 24,
   "metadata": {},
   "outputs": [],
   "source": [
    "try:\n",
    "    with open('lab7/cats.txt') as cats:\n",
    "        cat_lines = cats.readlines()\n",
    "        \n",
    "    with open('lab7/dogss.txt') as dogs:\n",
    "        dog_lines = dogs.readlines()\n",
    "        \n",
    "    for cat in cat_lines:\n",
    "        print(cat)\n",
    "    for dog in dog_lines:\n",
    "        print(dog)\n",
    "except FileNotFoundError:\n",
    "    pass"
   ]
  },
  {
   "cell_type": "markdown",
   "metadata": {},
   "source": [
    "## Question 10\n",
    "**Common Words:** Visit Project Gutenberg (https://gutenberg.org/) and find a few texts you’d like to analyze. Download the text files for these works, or copy the raw text from your browser into a text file on your computer. You can use the `count()` method to find out how many times a word or phrase appears in a string. For example, the following code counts the number of times 'row' appears in a string:"
   ]
  },
  {
   "cell_type": "code",
   "execution_count": 1,
   "metadata": {},
   "outputs": [
    {
     "data": {
      "text/plain": [
       "2"
      ]
     },
     "execution_count": 1,
     "metadata": {},
     "output_type": "execute_result"
    }
   ],
   "source": [
    "line = \"Row, row, row your boat\"\n",
    "line.count('row')"
   ]
  },
  {
   "cell_type": "code",
   "execution_count": 2,
   "metadata": {},
   "outputs": [
    {
     "data": {
      "text/plain": [
       "3"
      ]
     },
     "execution_count": 2,
     "metadata": {},
     "output_type": "execute_result"
    }
   ],
   "source": [
    "line.lower().count('row')"
   ]
  },
  {
   "cell_type": "markdown",
   "metadata": {},
   "source": [
    "Notice that converting the string to lowercase using lower() catches all appearances of the word you’re looking for, regardless of how it’s formatted.\n",
    "\n",
    "Write a program that reads the files you found at Project Gutenberg and determines how many times the word `the` appears in each text. This will be an approximation because it will also count words such as `then` and `there`. Try counting `the`, with a space in the string, and see how much lower your count is."
   ]
  },
  {
   "cell_type": "code",
   "execution_count": 27,
   "metadata": {},
   "outputs": [
    {
     "name": "stdout",
     "output_type": "stream",
     "text": [
      "321\n"
     ]
    }
   ],
   "source": [
    "with open('lab7/book.txt') as book:\n",
    "    lines = book.readlines()\n",
    "    total = 0\n",
    "    for line in lines:\n",
    "        c = line.lower().count(' the ')\n",
    "        total = total + c\n",
    "    print(total)"
   ]
  },
  {
   "cell_type": "markdown",
   "metadata": {},
   "source": [
    "## Question 11\n",
    "**Favorite Number:** Write a program that prompts for the user’s favorite number. Use `json.dump()` to store this number in a file. Write a separate program that reads in this value and prints the message, `I know your favorite number! It’s _____.`"
   ]
  },
  {
   "cell_type": "code",
   "execution_count": 1,
   "metadata": {},
   "outputs": [
    {
     "name": "stdin",
     "output_type": "stream",
     "text": [
      "Input your favorite number 5\n"
     ]
    },
    {
     "name": "stdout",
     "output_type": "stream",
     "text": [
      "I know your favorite number! It's 5.\n"
     ]
    }
   ],
   "source": [
    "import json\n",
    "usr_in = input('Input your favorite number')\n",
    "with open('lab7/fav_num.json', 'w') as j:\n",
    "    json.dump(usr_in, j)\n",
    "\n",
    "with open('lab7/fav_num.json') as j:\n",
    "    r = json.load(j)\n",
    "    print(f'I know your favorite number! It\\'s {r}.')"
   ]
  },
  {
   "cell_type": "markdown",
   "metadata": {},
   "source": [
    "## Question 12\n",
    "**Favorite Number Remembered:** Combine the two programs from Question 10 into one file. If the number is already stored, report the favorite number to the user. If not, prompt for the user’s favorite number and store it in a file. Run the program twice to see that it works."
   ]
  },
  {
   "cell_type": "code",
   "execution_count": 7,
   "metadata": {},
   "outputs": [
    {
     "name": "stdout",
     "output_type": "stream",
     "text": [
      "I know your favorite number! It's 5.\n"
     ]
    }
   ],
   "source": [
    "try:\n",
    "    with open('lab7/fav_num.json', 'r') as j:\n",
    "        r = json.load(j)\n",
    "    if r is not None:\n",
    "        print(f'I know your favorite number! It\\'s {r}.')\n",
    "    else:\n",
    "        usr_in = input('Input your favorite number')\n",
    "        with open('lab7/fav_num.json', 'w') as j:\n",
    "            json.dump(usr_in, j)\n",
    "except FileNotFoundError:\n",
    "        usr_in = input('Input your favorite number')\n",
    "        with open('lab7/fav_num.json', 'w') as j:\n",
    "            json.dump(usr_in, j)\n",
    "    "
   ]
  },
  {
   "cell_type": "code",
   "execution_count": null,
   "metadata": {},
   "outputs": [],
   "source": []
  },
  {
   "cell_type": "code",
   "execution_count": null,
   "metadata": {},
   "outputs": [],
   "source": []
  }
 ],
 "metadata": {
  "kernelspec": {
   "display_name": "Python 3 (ipykernel)",
   "language": "python",
   "name": "python3"
  },
  "language_info": {
   "codemirror_mode": {
    "name": "ipython",
    "version": 3
   },
   "file_extension": ".py",
   "mimetype": "text/x-python",
   "name": "python",
   "nbconvert_exporter": "python",
   "pygments_lexer": "ipython3",
   "version": "3.8.10"
  }
 },
 "nbformat": 4,
 "nbformat_minor": 4
}
