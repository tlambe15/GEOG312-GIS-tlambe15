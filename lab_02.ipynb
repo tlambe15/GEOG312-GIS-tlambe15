{
 "cells": [
  {
   "cell_type": "markdown",
   "metadata": {},
   "source": [
    "[![image](https://colab.research.google.com/assets/colab-badge.svg)](https://colab.research.google.com/github/giswqs/geog-312/blob/master/labs/lab_02.ipynb)\n",
    "[![image](https://binder.pangeo.io/badge_logo.svg)](https://gishub.org/geog312-pangeo)"
   ]
  },
  {
   "cell_type": "markdown",
   "metadata": {},
   "source": [
    "**Firstname Lastname**"
   ]
  },
  {
   "cell_type": "code",
   "execution_count": null,
   "metadata": {},
   "outputs": [],
   "source": [
    "from datetime import datetime\n",
    "\n",
    "now = datetime.now()\n",
    "print(f\"Submitted time: {now}\")"
   ]
  },
  {
   "cell_type": "markdown",
   "metadata": {},
   "source": [
    "## Question 1\n",
    "**Names:** Store the names of a few of your friends in a list called names. Print\n",
    "each person’s name by accessing each element in the list, one at a time."
   ]
  },
  {
   "cell_type": "code",
   "execution_count": 14,
   "metadata": {},
   "outputs": [
    {
     "name": "stdout",
     "output_type": "stream",
     "text": [
      "Alec\n",
      "Peter\n",
      "Tristen\n",
      "Will\n"
     ]
    }
   ],
   "source": [
    "#Name: Tristan Lambert | tlambe15 | GEOG 312 Section 001 | Lab01-fall23\n",
    "#Date: September 9th, 2023\n",
    "\n",
    "friends_names = [\"Tristen\", \"Alec\", \"Will\", \"Peter\"] #assigning list contents\n",
    "#friends_names.sort #I wanted to know how to sort a list\n",
    "sorted_list = sorted(friends_names) #correctly sorting the list haha\n",
    "#print(friends_names, end='\\n') #testing new line\n",
    "#print(*friends_names, sep = \", \", ) #testing removing commas\n",
    "print(*sorted_list, sep = \"\\n\") #correctly adding new line to each item in list"
   ]
  },
  {
   "cell_type": "markdown",
   "metadata": {},
   "source": [
    "## Question 2\n",
    "**Greetings:** Start with the list you used in Question 1, but instead of just printing each person’s name, print a message to them. The text of each message should be the same, but each message should be personalized with the person’s name. "
   ]
  },
  {
   "cell_type": "code",
   "execution_count": 52,
   "metadata": {},
   "outputs": [
    {
     "name": "stdout",
     "output_type": "stream",
     "text": [
      "Tristen : Hi friend!\n",
      "Alec : Hi friend!\n",
      "Will : Hi friend!\n",
      "Peter : Hi friend!\n"
     ]
    }
   ],
   "source": [
    "friends_names = [\"Tristen\", \"Alec\", \"Will\", \"Peter\"] #assigning list contents\n",
    "#print(friends_names, \"hi\")\n",
    "#sorted_list = sorted(friends_names)\n",
    "#print(*sorted_list, \"hi guys\", sep = \"\\n\") #correctly adding new line to each item in list\n",
    "#friend = \"Tristan\"\n",
    "#result_str = ['Hello {}! Message to user'.format(friend) for friend in friends_names]\n",
    "#print(result_str.join('\\n'))\n",
    "y = \": Hi friend!\" #var to hold message to user\n",
    "for x in friends_names: #After an hour, I finally figured out a for loop would be best moving forward haha - #to iterate through list\n",
    "  print(x, y)"
   ]
  },
  {
   "cell_type": "markdown",
   "metadata": {},
   "source": [
    "## Question 3\n",
    "**Your Own List:** Think of your favorite mode of transportation, such as a motorcycle or a car, and make a list that stores several examples. Use your list to print a series of statements about these items, such as “I would like to own a Honda motorcycle.” "
   ]
  },
  {
   "cell_type": "code",
   "execution_count": 55,
   "metadata": {},
   "outputs": [
    {
     "name": "stdout",
     "output_type": "stream",
     "text": [
      "I would like to drive a Toyota\n",
      "I would like to drive a Tesla\n",
      "I would like to drive a Jaguar\n"
     ]
    }
   ],
   "source": [
    "fav_transportation = [\"Toyota\", \"Tesla\", \"Jaguar\"]\n",
    "y = \"I would like to drive a\"\n",
    "for x in fav_transportation:\n",
    "    print(y, x)"
   ]
  },
  {
   "cell_type": "markdown",
   "metadata": {},
   "source": [
    "## Question 4\n",
    "**Guest List:** If you could invite anyone, living or deceased, to dinner, who would you invite? Make a list that includes at least three people you’d like to invite to dinner. Then use your list to print a message to each person, inviting them to dinner."
   ]
  },
  {
   "cell_type": "code",
   "execution_count": 119,
   "metadata": {},
   "outputs": [
    {
     "name": "stdout",
     "output_type": "stream",
     "text": [
      "Greetings, Homo neledi - How many people are in your tribe? Why the extreme burial rituals?\n",
      "Greetings, Enheduanna - What is daily life like for you? What caused you to write?\n",
      "Greetings, Carl Sagan - Thank you.\n"
     ]
    }
   ],
   "source": [
    "guest_list = [\"Homo neledi\", \"Enheduanna\", \"Carl Sagan\"] #Enheduanna was a woman in the 23rd century BCE Mesopotamia, considered the world's first author.\n",
    "message_list = [\"How many people are in your tribe? Why the extreme burial rituals?\", \"What is daily life like for you? What caused you to write?\", \"Thank you.\"]\n",
    "\n",
    "#string interpalation learning in python led me to this method:\n",
    "for name in guest_list: #iterate through guest list and print out the appropriate corresponding message.\n",
    "    if name == \"Homo neledi\":\n",
    "        print(\"Greetings,\", name, \"-\", message_list[0])\n",
    "    if name == \"Enheduanna\":\n",
    "        print(\"Greetings,\", name, \"-\", message_list[1])\n",
    "    if name == \"Carl Sagan\":\n",
    "        print(\"Greetings,\", name, \"-\", message_list[2])"
   ]
  },
  {
   "cell_type": "markdown",
   "metadata": {},
   "source": [
    "## Question 5\n",
    "**Changing Guest List:** You just heard that one of your guests can’t make the dinner, so you need to send out a new set of invitations. You’ll have to think of someone else to invite."
   ]
  },
  {
   "cell_type": "markdown",
   "metadata": {},
   "source": [
    "Start with your program from Question 4. Add a print() call at the end of your program stating the name of the guest who can’t make it."
   ]
  },
  {
   "cell_type": "code",
   "execution_count": 122,
   "metadata": {},
   "outputs": [
    {
     "name": "stdout",
     "output_type": "stream",
     "text": [
      "Greetings, King Tut - How is life for you?\n",
      "Greetings, Enheduanna - What is daily life like for you? What caused you to write?\n",
      "Greetings, Carl Sagan - Thank you.\n",
      "Please note - Homo neledi of the guest list will not make it.\n"
     ]
    }
   ],
   "source": [
    "guest_list = [\"King Tut\", \"Enheduanna\", \"Carl Sagan\"] #Enheduanna was a woman in the 23rd century BCE Mesopotamia, considered the world's first author.\n",
    "message_list = [\"How is life for you?\", \"What is daily life like for you? What caused you to write?\", \"Thank you.\"]\n",
    "\n",
    "#string interpalation learning in python led me to this method:\n",
    "for name in guest_list: #iterate through guest list and print out the appropriate corresponding message.\n",
    "    if name == \"King Tut\":\n",
    "        print(\"Greetings,\", name, \"-\", message_list[0])\n",
    "    if name == \"Enheduanna\":\n",
    "        print(\"Greetings,\", name, \"-\", message_list[1])\n",
    "    if name == \"Carl Sagan\":\n",
    "        print(\"Greetings,\", name, \"-\", message_list[2])\n",
    "        print(\"Please note - Homo neledi of the guest list will not make it.\")"
   ]
  },
  {
   "cell_type": "markdown",
   "metadata": {},
   "source": [
    "Modify your list, replacing the name of the guest who can’t make it with the name of the new person you are inviting."
   ]
  },
  {
   "cell_type": "code",
   "execution_count": 124,
   "metadata": {},
   "outputs": [
    {
     "name": "stdout",
     "output_type": "stream",
     "text": [
      "Greetings, King Tut - How is life for you?\n"
     ]
    }
   ],
   "source": [
    "guest_list = [\"King Tut\", \"Enheduanna\", \"Carl Sagan\"] #Enheduanna was a woman in the 23rd century BCE Mesopotamia, considered the world's first author.\n",
    "message_list = [\"How is life for you?\", \"What is daily life like for you? What caused you to write?\", \"Thank you.\"]\n",
    "\n",
    "#string interpalation learning in python led me to this method:\n",
    "for name in guest_list: #iterate through guest list and print out the appropriate corresponding message.\n",
    "    if name == \"King Tut\":\n",
    "        print(\"Greetings,\", name, \"-\", message_list[0])"
   ]
  },
  {
   "cell_type": "markdown",
   "metadata": {},
   "source": [
    "Print a second set of invitation messages, one for each person who is still in your list."
   ]
  },
  {
   "cell_type": "code",
   "execution_count": 123,
   "metadata": {},
   "outputs": [
    {
     "name": "stdout",
     "output_type": "stream",
     "text": [
      "Greetings, King Tut - How is life for you?\n",
      "Greetings, Enheduanna - What is daily life like for you? What caused you to write?\n",
      "Greetings, Carl Sagan - Thank you.\n"
     ]
    }
   ],
   "source": [
    "guest_list = [\"King Tut\", \"Enheduanna\", \"Carl Sagan\"] #Enheduanna was a woman in the 23rd century BCE Mesopotamia, considered the world's first author.\n",
    "message_list = [\"How is life for you?\", \"What is daily life like for you? What caused you to write?\", \"Thank you.\"]\n",
    "\n",
    "#string interpalation learning in python led me to this method:\n",
    "for name in guest_list: #iterate through guest list and print out the appropriate corresponding message.\n",
    "    if name == \"King Tut\":\n",
    "        print(\"Greetings,\", name, \"-\", message_list[0])\n",
    "    if name == \"Enheduanna\":\n",
    "        print(\"Greetings,\", name, \"-\", message_list[1])\n",
    "    if name == \"Carl Sagan\":\n",
    "        print(\"Greetings,\", name, \"-\", message_list[2])"
   ]
  },
  {
   "cell_type": "markdown",
   "metadata": {},
   "source": [
    "## Question 6\n",
    "**More Guests:** You just found a bigger dinner table, so now more space is available. Think of three more guests to invite to dinner."
   ]
  },
  {
   "cell_type": "markdown",
   "metadata": {},
   "source": [
    "Start with your program from Question 4 or Question 5. Add a print() call to the end of your program informing people that you found a bigger dinner table."
   ]
  },
  {
   "cell_type": "code",
   "execution_count": 196,
   "metadata": {},
   "outputs": [
    {
     "name": "stdout",
     "output_type": "stream",
     "text": [
      "here is word King Tut second part How is life for you?\n",
      "here is word King Tut second part What is daily life like for you? What caused you to write?\n",
      "here is word King Tut second part Thank you.\n",
      "here is word King Tut second part What's your name?\n",
      "here is word King Tut second part How do you feel your philosophy carries over in the modern century?\n",
      "here is word King Tut second part I enjoy your work. What inspired you?\n",
      "here is word King Tut second part oragngemessage\n",
      "here is word Enheduanna second part How is life for you?\n",
      "here is word Enheduanna second part What is daily life like for you? What caused you to write?\n",
      "here is word Enheduanna second part Thank you.\n",
      "here is word Enheduanna second part What's your name?\n",
      "here is word Enheduanna second part How do you feel your philosophy carries over in the modern century?\n",
      "here is word Enheduanna second part I enjoy your work. What inspired you?\n",
      "here is word Enheduanna second part oragngemessage\n",
      "here is word Carl Sagan second part How is life for you?\n",
      "here is word Carl Sagan second part What is daily life like for you? What caused you to write?\n",
      "here is word Carl Sagan second part Thank you.\n",
      "here is word Carl Sagan second part What's your name?\n",
      "here is word Carl Sagan second part How do you feel your philosophy carries over in the modern century?\n",
      "here is word Carl Sagan second part I enjoy your work. What inspired you?\n",
      "here is word Carl Sagan second part oragngemessage\n",
      "here is word Bob Procter second part How is life for you?\n",
      "here is word Bob Procter second part What is daily life like for you? What caused you to write?\n",
      "here is word Bob Procter second part Thank you.\n",
      "here is word Bob Procter second part What's your name?\n",
      "here is word Bob Procter second part How do you feel your philosophy carries over in the modern century?\n",
      "here is word Bob Procter second part I enjoy your work. What inspired you?\n",
      "here is word Bob Procter second part oragngemessage\n",
      "here is word Socrates second part How is life for you?\n",
      "here is word Socrates second part What is daily life like for you? What caused you to write?\n",
      "here is word Socrates second part Thank you.\n",
      "here is word Socrates second part What's your name?\n",
      "here is word Socrates second part How do you feel your philosophy carries over in the modern century?\n",
      "here is word Socrates second part I enjoy your work. What inspired you?\n",
      "here is word Socrates second part oragngemessage\n",
      "here is word Ovid second part How is life for you?\n",
      "here is word Ovid second part What is daily life like for you? What caused you to write?\n",
      "here is word Ovid second part Thank you.\n",
      "here is word Ovid second part What's your name?\n",
      "here is word Ovid second part How do you feel your philosophy carries over in the modern century?\n",
      "here is word Ovid second part I enjoy your work. What inspired you?\n",
      "here is word Ovid second part oragngemessage\n",
      "here is word orangeguest second part How is life for you?\n",
      "here is word orangeguest second part What is daily life like for you? What caused you to write?\n",
      "here is word orangeguest second part Thank you.\n",
      "here is word orangeguest second part What's your name?\n",
      "here is word orangeguest second part How do you feel your philosophy carries over in the modern century?\n",
      "here is word orangeguest second part I enjoy your work. What inspired you?\n",
      "here is word orangeguest second part oragngemessage\n"
     ]
    },
    {
     "data": {
      "text/plain": [
       "'#now im giving each guest each message lol\\nfor name in guest_list:\\n     #iterate through guest list and print out the appropriate corresponding message.\\n        if name != 6:\\n            for message in message_list:\\n                if message != 6:\\n                    print(\"here is word\", name, \"second part\", message)\\n\\n#FIRST part works perf, second part does not.\\n#string interpalation learning in python led me to this method:\\nfor name in guest_list: #iterate through guest list and print out the appropriate corresponding message.\\n    if name != 6:\\n        print(\"here is word\", name, \"second part\", message_list[0 - 6])\\n\\n#idk before one above . . .   \\nif name == \"King Tut\":\\n        print(\"Greetings,\", name, \"-\", message_list[0])\\n    if name == \"Enheduanna\":\\n        print(\"Greetings,\", name, \"-\", message_list[1])\\n    if name == \"Carl Sagan\":\\n        print(\"Greetings,\", name, \"-\", message_list[2])\\n    if name == \"Bob Procter\":\\n        print(\"Greetings,\", name, \"-\", message_list[3])\\n    if name == \"Socrates\":\\n        print(\"Greetings,\", name, \"-\", message_list[4])\\n    if name == \"Ovid\":\\n        print(\"Greetings,\", name, \"-\", message_list[5])'"
      ]
     },
     "execution_count": 196,
     "metadata": {},
     "output_type": "execute_result"
    }
   ],
   "source": [
    "guest_list = [\"King Tut\", \"Enheduanna\", \"Carl Sagan\", \"Bob Procter\", \"Socrates\", \"Ovid\"] #Enheduanna was a woman in the 23rd century BCE Mesopotamia, considered the world's first author.\n",
    "message_list = [\"How is life for you?\", \"What is daily life like for you? What caused you to write?\", \"Thank you.\", \"What's your name?\", \"How do you feel your philosophy carries over in the modern century?\", \"I enjoy your work. What inspired you?\"]\n",
    "\n",
    "#insert() data\n",
    "guest_list.insert(7, \"orangeguest\")\n",
    "message_list.insert(7, \"oragngemessage\")\n",
    "\n",
    "for name in guest_list:\n",
    "     #iterate through guest list and print out the appropriate corresponding message.\n",
    "        if name != 6:\n",
    "            for message in message_list:\n",
    "                if message != 6:\n",
    "                    print(\"here is word\", name, \"second part\", message)\n",
    "\n",
    "\n",
    "\n",
    "\n",
    "\n",
    "\"\"\"#now im giving each guest each message lol\n",
    "for name in guest_list:\n",
    "     #iterate through guest list and print out the appropriate corresponding message.\n",
    "        if name != 6:\n",
    "            for message in message_list:\n",
    "                if message != 6:\n",
    "                    print(\"here is word\", name, \"second part\", message)\n",
    "\n",
    "#FIRST part works perf, second part does not.\n",
    "#string interpalation learning in python led me to this method:\n",
    "for name in guest_list: #iterate through guest list and print out the appropriate corresponding message.\n",
    "    if name != 6:\n",
    "        print(\"here is word\", name, \"second part\", message_list[0 - 6])\n",
    "\n",
    "#idk before one above . . .   \n",
    "if name == \"King Tut\":\n",
    "        print(\"Greetings,\", name, \"-\", message_list[0])\n",
    "    if name == \"Enheduanna\":\n",
    "        print(\"Greetings,\", name, \"-\", message_list[1])\n",
    "    if name == \"Carl Sagan\":\n",
    "        print(\"Greetings,\", name, \"-\", message_list[2])\n",
    "    if name == \"Bob Procter\":\n",
    "        print(\"Greetings,\", name, \"-\", message_list[3])\n",
    "    if name == \"Socrates\":\n",
    "        print(\"Greetings,\", name, \"-\", message_list[4])\n",
    "    if name == \"Ovid\":\n",
    "        print(\"Greetings,\", name, \"-\", message_list[5])\"\"\"\n"
   ]
  },
  {
   "cell_type": "markdown",
   "metadata": {},
   "source": [
    "Use insert() to add one new guest to the beginning of your list."
   ]
  },
  {
   "cell_type": "code",
   "execution_count": 159,
   "metadata": {},
   "outputs": [],
   "source": [
    "guest_list = [\"Tut\", \"Endeduanna\", \"Sagan\", \"Proctor\", \"Socrates\", \"Plato\"]\n",
    "message_list = [\"1\", \"2\", \"3\", \"4\", \"5\", \"6\"]\n",
    "#print(len(guest_list))\n",
    "guest_list.insert(2, \"Sally Newcomer\")\n",
    "message_list.insert(2, \"new2\")\n",
    "\n",
    "#for guest in guest_list: #for message in message_list:\n",
    "  #  print(\"Greetings,\", guest, \"-\", message in message_list)\n",
    "\"\"\"\n",
    "for guest in range(6):\n",
    "    if guest == 9:\n",
    "      print(\"Greetings,failED\", guest, \"-\", message)\n",
    "    else: #print(\"no guests here\")\n",
    "      for message in range(6):\n",
    "         if message == 9:\n",
    "            print(\"Greetings,\", guest, \"-\", message)\n",
    "\"\"\"\n",
    "            \n",
    "\n"
   ]
  },
  {
   "cell_type": "markdown",
   "metadata": {},
   "source": [
    "Use insert() to add one new guest to the middle of your list."
   ]
  },
  {
   "cell_type": "code",
   "execution_count": null,
   "metadata": {},
   "outputs": [],
   "source": []
  },
  {
   "cell_type": "markdown",
   "metadata": {},
   "source": [
    "Use append() to add one new guest to the end of your list."
   ]
  },
  {
   "cell_type": "code",
   "execution_count": null,
   "metadata": {},
   "outputs": [],
   "source": []
  },
  {
   "cell_type": "markdown",
   "metadata": {},
   "source": [
    "Print a new set of invitation messages, one for each person in your list."
   ]
  },
  {
   "cell_type": "code",
   "execution_count": null,
   "metadata": {},
   "outputs": [],
   "source": []
  },
  {
   "cell_type": "markdown",
   "metadata": {},
   "source": [
    "## Question 7\n",
    "**Shrinking Guest List:** You just found out that your new dinner table won’t arrive in time for the dinner, and you have space for only two guests.\n",
    "\n",
    "Start with your program from Question 6. Add a new line that prints a message saying that you can invite only two people for dinner."
   ]
  },
  {
   "cell_type": "code",
   "execution_count": null,
   "metadata": {},
   "outputs": [],
   "source": []
  },
  {
   "cell_type": "markdown",
   "metadata": {},
   "source": [
    "Use pop() to remove guests from your list one at a time until only two names remain in your list. Each time you pop a name from your list, print a message to that person letting them know you’re sorry you can’t invite them to dinner."
   ]
  },
  {
   "cell_type": "code",
   "execution_count": null,
   "metadata": {},
   "outputs": [],
   "source": []
  },
  {
   "cell_type": "markdown",
   "metadata": {},
   "source": [
    "Print a message to each of the two people still on your list, letting them know they’re still invited."
   ]
  },
  {
   "cell_type": "code",
   "execution_count": null,
   "metadata": {},
   "outputs": [],
   "source": []
  },
  {
   "cell_type": "markdown",
   "metadata": {},
   "source": [
    "Use del to remove the last two names from your list, so you have an empty list. Print your list to make sure you actually have an empty list at the end of your program."
   ]
  },
  {
   "cell_type": "code",
   "execution_count": null,
   "metadata": {},
   "outputs": [],
   "source": []
  },
  {
   "cell_type": "markdown",
   "metadata": {},
   "source": [
    "## Question 8\n",
    "**Seeing the World:** Think of at least five places in the world you’d like to visit.\n",
    "\n",
    "Store the locations in a list. Make sure the list is not in alphabetical order."
   ]
  },
  {
   "cell_type": "code",
   "execution_count": null,
   "metadata": {},
   "outputs": [],
   "source": []
  },
  {
   "cell_type": "markdown",
   "metadata": {},
   "source": [
    "Print your list in its original order. Don’t worry about printing the list neatly, just print it as a raw Python list."
   ]
  },
  {
   "cell_type": "code",
   "execution_count": null,
   "metadata": {},
   "outputs": [],
   "source": []
  },
  {
   "cell_type": "markdown",
   "metadata": {},
   "source": [
    "Use sorted() to print your list in alphabetical order without modifying the actual list."
   ]
  },
  {
   "cell_type": "code",
   "execution_count": null,
   "metadata": {},
   "outputs": [],
   "source": []
  },
  {
   "cell_type": "markdown",
   "metadata": {},
   "source": [
    "Show that your list is still in its original order by printing it."
   ]
  },
  {
   "cell_type": "code",
   "execution_count": null,
   "metadata": {},
   "outputs": [],
   "source": []
  },
  {
   "cell_type": "markdown",
   "metadata": {},
   "source": [
    "Use sorted() to print your list in reverse alphabetical order without changing the order of the original list."
   ]
  },
  {
   "cell_type": "code",
   "execution_count": null,
   "metadata": {},
   "outputs": [],
   "source": []
  },
  {
   "cell_type": "markdown",
   "metadata": {},
   "source": [
    "Show that your list is still in its original order by printing it again."
   ]
  },
  {
   "cell_type": "code",
   "execution_count": null,
   "metadata": {},
   "outputs": [],
   "source": []
  },
  {
   "cell_type": "markdown",
   "metadata": {},
   "source": [
    "Use reverse() to change the order of your list. Print the list to show that its order has changed."
   ]
  },
  {
   "cell_type": "code",
   "execution_count": null,
   "metadata": {},
   "outputs": [],
   "source": []
  },
  {
   "cell_type": "markdown",
   "metadata": {},
   "source": [
    "Use reverse() to change the order of your list again. Print the list to show it’s back to its original order."
   ]
  },
  {
   "cell_type": "code",
   "execution_count": null,
   "metadata": {},
   "outputs": [],
   "source": []
  },
  {
   "cell_type": "markdown",
   "metadata": {},
   "source": [
    "Use sort() to change your list so it’s stored in alphabetical order. Print the list to show that its order has been changed."
   ]
  },
  {
   "cell_type": "code",
   "execution_count": null,
   "metadata": {},
   "outputs": [],
   "source": []
  },
  {
   "cell_type": "markdown",
   "metadata": {},
   "source": [
    "Use sort() to change your list so it’s stored in reverse alphabetical order. Print the list to show that its order has changed."
   ]
  },
  {
   "cell_type": "code",
   "execution_count": null,
   "metadata": {},
   "outputs": [],
   "source": []
  },
  {
   "cell_type": "markdown",
   "metadata": {},
   "source": [
    "## Question 9\n",
    "**Dinner Guests:** Working with one of the programs from Question 4 through Question 7, use len() to print a message indicating the number of people you are inviting to dinner."
   ]
  },
  {
   "cell_type": "code",
   "execution_count": null,
   "metadata": {},
   "outputs": [],
   "source": []
  },
  {
   "cell_type": "markdown",
   "metadata": {},
   "source": [
    "## Question 10\n",
    "**Every Function:** Think of something you could store in a list. For example, you could make a list of mountains, rivers, countries, cities, languages, or anything else you’d like. Write a program that creates a list containing these items and then uses each function introduced in this chapter at least once."
   ]
  },
  {
   "cell_type": "code",
   "execution_count": null,
   "metadata": {},
   "outputs": [],
   "source": []
  }
 ],
 "metadata": {
  "kernelspec": {
   "display_name": "Python 3 (ipykernel)",
   "language": "python",
   "name": "python3"
  },
  "language_info": {
   "codemirror_mode": {
    "name": "ipython",
    "version": 3
   },
   "file_extension": ".py",
   "mimetype": "text/x-python",
   "name": "python",
   "nbconvert_exporter": "python",
   "pygments_lexer": "ipython3",
   "version": "3.11.4"
  }
 },
 "nbformat": 4,
 "nbformat_minor": 2
}
