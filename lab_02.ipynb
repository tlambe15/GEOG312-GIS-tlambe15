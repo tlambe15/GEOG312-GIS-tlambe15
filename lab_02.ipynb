{
 "cells": [
  {
   "cell_type": "markdown",
   "metadata": {},
   "source": [
    "[![image](https://colab.research.google.com/assets/colab-badge.svg)](https://colab.research.google.com/github/giswqs/geog-312/blob/master/labs/lab_02.ipynb)\n",
    "[![image](https://binder.pangeo.io/badge_logo.svg)](https://gishub.org/geog312-pangeo)"
   ]
  },
  {
   "cell_type": "markdown",
   "metadata": {},
   "source": [
    "**Tristan Lambert**"
   ]
  },
  {
   "cell_type": "code",
   "execution_count": null,
   "metadata": {},
   "outputs": [],
   "source": [
    "from datetime import datetime\n",
    "\n",
    "now = datetime.now()\n",
    "print(f\"Submitted time: {now}\")"
   ]
  },
  {
   "cell_type": "markdown",
   "metadata": {},
   "source": [
    "## Question 1\n",
    "**Names:** Store the names of a few of your friends in a list called names. Print\n",
    "each person’s name by accessing each element in the list, one at a time."
   ]
  },
  {
   "cell_type": "code",
   "execution_count": 425,
   "metadata": {},
   "outputs": [
    {
     "name": "stdout",
     "output_type": "stream",
     "text": [
      "Alec\n",
      "Peter\n",
      "Tristen\n",
      "Will\n"
     ]
    }
   ],
   "source": [
    "#Name: Tristan Lambert | tlambe15 | GEOG 312 Section 001 | Lab01-fall23\n",
    "#Date: September 9th, 2023\n",
    "\n",
    "friends_names = [\"Tristen\", \"Alec\", \"Will\", \"Peter\"] #assigning list contents\n",
    "#friends_names.sort #I wanted to know how to sort a list\n",
    "sorted_list = sorted(friends_names) #correctly sorting the list haha\n",
    "#print(friends_names, end='\\n') #testing new line\n",
    "#print(*friends_names, sep = \", \", ) #testing removing commas\n",
    "print(*sorted_list, sep = \"\\n\") #correctly adding new line to each item in list"
   ]
  },
  {
   "cell_type": "markdown",
   "metadata": {},
   "source": [
    "## Question 2\n",
    "**Greetings:** Start with the list you used in Question 1, but instead of just printing each person’s name, print a message to them. The text of each message should be the same, but each message should be personalized with the person’s name. "
   ]
  },
  {
   "cell_type": "code",
   "execution_count": 52,
   "metadata": {},
   "outputs": [
    {
     "name": "stdout",
     "output_type": "stream",
     "text": [
      "Tristen : Hi friend!\n",
      "Alec : Hi friend!\n",
      "Will : Hi friend!\n",
      "Peter : Hi friend!\n"
     ]
    }
   ],
   "source": [
    "friends_names = [\"Tristen\", \"Alec\", \"Will\", \"Peter\"] #assigning list contents\n",
    "#print(friends_names, \"hi\")\n",
    "#sorted_list = sorted(friends_names)\n",
    "#print(*sorted_list, \"hi guys\", sep = \"\\n\") #correctly adding new line to each item in list\n",
    "#friend = \"Tristan\"\n",
    "#result_str = ['Hello {}! Message to user'.format(friend) for friend in friends_names]\n",
    "#print(result_str.join('\\n'))\n",
    "y = \": Hi friend!\" #var to hold message to user\n",
    "for x in friends_names: #After an hour, I finally figured out a for loop would be best moving forward haha - #to iterate through list\n",
    "  print(x, y)"
   ]
  },
  {
   "cell_type": "markdown",
   "metadata": {},
   "source": [
    "## Question 3\n",
    "**Your Own List:** Think of your favorite mode of transportation, such as a motorcycle or a car, and make a list that stores several examples. Use your list to print a series of statements about these items, such as “I would like to own a Honda motorcycle.” "
   ]
  },
  {
   "cell_type": "code",
   "execution_count": 55,
   "metadata": {},
   "outputs": [
    {
     "name": "stdout",
     "output_type": "stream",
     "text": [
      "I would like to drive a Toyota\n",
      "I would like to drive a Tesla\n",
      "I would like to drive a Jaguar\n"
     ]
    }
   ],
   "source": [
    "fav_transportation = [\"Toyota\", \"Tesla\", \"Jaguar\"]\n",
    "y = \"I would like to drive a\"\n",
    "for x in fav_transportation:\n",
    "    print(y, x)"
   ]
  },
  {
   "cell_type": "markdown",
   "metadata": {},
   "source": [
    "## Question 4\n",
    "**Guest List:** If you could invite anyone, living or deceased, to dinner, who would you invite? Make a list that includes at least three people you’d like to invite to dinner. Then use your list to print a message to each person, inviting them to dinner."
   ]
  },
  {
   "cell_type": "code",
   "execution_count": 119,
   "metadata": {},
   "outputs": [
    {
     "name": "stdout",
     "output_type": "stream",
     "text": [
      "Greetings, Homo neledi - How many people are in your tribe? Why the extreme burial rituals?\n",
      "Greetings, Enheduanna - What is daily life like for you? What caused you to write?\n",
      "Greetings, Carl Sagan - Thank you.\n"
     ]
    }
   ],
   "source": [
    "guest_list = [\"Homo neledi\", \"Enheduanna\", \"Carl Sagan\"] #Enheduanna was a woman in the 23rd century BCE Mesopotamia, considered the world's first author.\n",
    "message_list = [\"How many people are in your tribe? Why the extreme burial rituals?\", \"What is daily life like for you? What caused you to write?\", \"Thank you.\"]\n",
    "\n",
    "#string interpalation learning in python led me to this method:\n",
    "for name in guest_list: #iterate through guest list and print out the appropriate corresponding message.\n",
    "    if name == \"Homo neledi\":\n",
    "        print(\"Greetings,\", name, \"-\", message_list[0])\n",
    "    if name == \"Enheduanna\":\n",
    "        print(\"Greetings,\", name, \"-\", message_list[1])\n",
    "    if name == \"Carl Sagan\":\n",
    "        print(\"Greetings,\", name, \"-\", message_list[2])"
   ]
  },
  {
   "cell_type": "markdown",
   "metadata": {},
   "source": [
    "## Question 5\n",
    "**Changing Guest List:** You just heard that one of your guests can’t make the dinner, so you need to send out a new set of invitations. You’ll have to think of someone else to invite."
   ]
  },
  {
   "cell_type": "markdown",
   "metadata": {},
   "source": [
    "Start with your program from Question 4. Add a print() call at the end of your program stating the name of the guest who can’t make it."
   ]
  },
  {
   "cell_type": "code",
   "execution_count": 414,
   "metadata": {},
   "outputs": [
    {
     "name": "stdout",
     "output_type": "stream",
     "text": [
      "Greetings, King Tut - How is life for you?\n",
      "Greetings, Enheduanna - What is daily life like for you? What caused you to write?\n",
      "Greetings, Carl Sagan - Thank you.\n",
      "Please note - Carl Sagan of the guest list will no longer be in attendance.\n"
     ]
    }
   ],
   "source": [
    "guest_list = [\"King Tut\", \"Enheduanna\", \"Carl Sagan\"] #Enheduanna was a woman in the 23rd century BCE Mesopotamia, considered the world's first author.\n",
    "message_list = [\"How is life for you?\", \"What is daily life like for you? What caused you to write?\", \"Thank you.\"]\n",
    "\n",
    "#string interpalation learning in python led me to this method:\n",
    "for name in guest_list: #iterate through guest list and print out the appropriate corresponding message.\n",
    "    if name == \"King Tut\":\n",
    "        print(\"Greetings,\", name, \"-\", message_list[0])\n",
    "    if name == \"Enheduanna\":\n",
    "        print(\"Greetings,\", name, \"-\", message_list[1])\n",
    "    if name == \"Carl Sagan\":\n",
    "        print(\"Greetings,\", name, \"-\", message_list[2])\n",
    "        print(\"Please note -\", name, \"of the guest list will no longer be in attendance.\")"
   ]
  },
  {
   "cell_type": "markdown",
   "metadata": {},
   "source": [
    "Modify your list, replacing the name of the guest who can’t make it with the name of the new person you are inviting."
   ]
  },
  {
   "cell_type": "code",
   "execution_count": 124,
   "metadata": {},
   "outputs": [
    {
     "name": "stdout",
     "output_type": "stream",
     "text": [
      "Greetings, King Tut - How is life for you?\n"
     ]
    }
   ],
   "source": [
    "guest_list = [\"King Tut\", \"Enheduanna\", \"Carl Sagan\"] #Enheduanna was a woman in the 23rd century BCE Mesopotamia, considered the world's first author.\n",
    "message_list = [\"How is life for you?\", \"What is daily life like for you? What caused you to write?\", \"Thank you.\"]\n",
    "\n",
    "#string interpalation learning in python led me to this method:\n",
    "for name in guest_list: #iterate through guest list and print out the appropriate corresponding message.\n",
    "    if name == \"King Tut\":\n",
    "        print(\"Greetings,\", name, \"-\", message_list[0])"
   ]
  },
  {
   "cell_type": "markdown",
   "metadata": {},
   "source": [
    "Print a second set of invitation messages, one for each person who is still in your list."
   ]
  },
  {
   "cell_type": "code",
   "execution_count": 123,
   "metadata": {},
   "outputs": [
    {
     "name": "stdout",
     "output_type": "stream",
     "text": [
      "Greetings, King Tut - How is life for you?\n",
      "Greetings, Enheduanna - What is daily life like for you? What caused you to write?\n",
      "Greetings, Carl Sagan - Thank you.\n"
     ]
    }
   ],
   "source": [
    "guest_list = [\"King Tut\", \"Enheduanna\", \"Carl Sagan\"] #Enheduanna was a woman in the 23rd century BCE Mesopotamia, considered the world's first author.\n",
    "message_list = [\"How is life for you?\", \"What is daily life like for you? What caused you to write?\", \"Thank you.\"]\n",
    "\n",
    "#string interpalation learning in python led me to this method:\n",
    "for name in guest_list: #iterate through guest list and print out the appropriate corresponding message.\n",
    "    if name == \"King Tut\":\n",
    "        print(\"Greetings,\", name, \"-\", message_list[0])\n",
    "    if name == \"Enheduanna\":\n",
    "        print(\"Greetings,\", name, \"-\", message_list[1])\n",
    "    if name == \"Carl Sagan\":\n",
    "        print(\"Greetings,\", name, \"-\", message_list[2])"
   ]
  },
  {
   "cell_type": "markdown",
   "metadata": {},
   "source": [
    "## Question 6\n",
    "**More Guests:** You just found a bigger dinner table, so now more space is available. Think of three more guests to invite to dinner."
   ]
  },
  {
   "cell_type": "markdown",
   "metadata": {},
   "source": [
    "Start with your program from Question 4 or Question 5. Add a print() call to the end of your program informing people that you found a bigger dinner table."
   ]
  },
  {
   "cell_type": "code",
   "execution_count": 210,
   "metadata": {},
   "outputs": [
    {
     "name": "stdout",
     "output_type": "stream",
     "text": [
      "Sally Newcomer new1\n",
      "King Tut How is life for you?\n",
      "Enheduanna What is daily life like for you? What caused you to write?\n",
      "Carl Sagan Thank you.\n",
      "Joey Newcomer new2\n",
      "Bob Procter What's your name?\n",
      "Socrates How do you feel your philosophy carries over in the modern century?\n",
      "Ovid I enjoy your work. What inspired you?\n",
      "Manny Newcomer new3\n"
     ]
    },
    {
     "data": {
      "text/plain": [
       "'\\n#for index, guest in enumerate(guest_list):\\n #   print(f\"{index}: {guest}\")\\n#-----this section is the fourth attempt.. the messages work perf, but the guests are still in list array form when printed...\\nfor index1, guest in enumerate(guest_list):\\n    count=0\\n\\nfor num1 in guest_list:\\n    count+=1\\n\\nfor index2, message in enumerate(message_list):\\n    count=0\\n    \\nfor num2 in message_list:\\n    count+=1 \\n\\n#for index1, index2 in range(count):\\n#    print(guest_list, message_list[index1, index2])\\n\\nfor i in range(count):\\n    print(guest_list, message_list[i])\\n#------\\n\\n###and the third attempt now scraped\\n#for name in guest_list:\\n     #iterate through guest list and print out the appropriate corresponding message.\\n#       if name != 6:\\n#            for message in message_list:\\n#                if message != 6:\\n#                    print(\"here is word\", name, \"second part\", message)\\n\\n####now im giving each guest each message lol\\nfor name in guest_list:\\n     #iterate through guest list and print out the appropriate corresponding message.\\n        if name != 6:\\n            for message in message_list:\\n                if message != 6:\\n                    print(\"here is word\", name, \"second part\", message)\\n\\n    #First part works perf, second part does not.\\n#string interpalation learning in python led me to this method:\\nfor name in guest_list: #iterate through guest list and print out the appropriate corresponding message.\\n    if name != 6:\\n        print(\"here is word\", name, \"second part\", message_list[0 - 6])\\n\\n###idk this is the attempt made before the one above . . .   \\nif name == \"King Tut\":\\n        print(\"Greetings,\", name, \"-\", message_list[0])\\n    if name == \"Enheduanna\":\\n        print(\"Greetings,\", name, \"-\", message_list[1])\\n    if name == \"Carl Sagan\":\\n        print(\"Greetings,\", name, \"-\", message_list[2])\\n    if name == \"Bob Procter\":\\n        print(\"Greetings,\", name, \"-\", message_list[3])\\n    if name == \"Socrates\":\\n        print(\"Greetings,\", name, \"-\", message_list[4])\\n    if name == \"Ovid\":\\n        print(\"Greetings,\", name, \"-\", message_list[5])\\n\\n#for index, guest in enumerate(guest_list):\\n #   print(f\"{index}: {guest}\")\\n#-----this section is the fourth attempt.. the messages work perf, but the guests are still in list array form when printed...\\nfor index1, guest in enumerate(guest_list):\\n    count=0\\n\\nfor num1 in guest_list:\\n    count+=1\\n\\nfor index2, message in enumerate(message_list):\\n    count=0\\n    \\nfor num2 in message_list:\\n    count+=1 \\n\\n#for index1, index2 in range(count):\\n#    print(guest_list, message_list[index1, index2])\\n\\nfor i in range(count):\\n    print(guest_list, message_list[i])\\n#------\\n\\n###and the third attempt now scraped\\n#for name in guest_list:\\n     #iterate through guest list and print out the appropriate corresponding message.\\n#       if name != 6:\\n#            for message in message_list:\\n#                if message != 6:\\n#                    print(\"here is word\", name, \"second part\", message)\\n\\n####now im giving each guest each message lol\\nfor name in guest_list:\\n     #iterate through guest list and print out the appropriate corresponding message.\\n        if name != 6:\\n            for message in message_list:\\n                if message != 6:\\n                    print(\"here is word\", name, \"second part\", message)\\n\\n    #First part works perf, second part does not.\\n#string interpalation learning in python led me to this method:\\nfor name in guest_list: #iterate through guest list and print out the appropriate corresponding message.\\n    if name != 6:\\n        print(\"here is word\", name, \"second part\", message_list[0 - 6])\\n\\n###idk this is the attempt made before the one above . . .   \\nif name == \"King Tut\":\\n        print(\"Greetings,\", name, \"-\", message_list[0])\\n    if name == \"Enheduanna\":\\n        print(\"Greetings,\", name, \"-\", message_list[1])\\n    if name == \"Carl Sagan\":\\n        print(\"Greetings,\", name, \"-\", message_list[2])\\n    if name == \"Bob Procter\":\\n        print(\"Greetings,\", name, \"-\", message_list[3])\\n    if name == \"Socrates\":\\n        print(\"Greetings,\", name, \"-\", message_list[4])\\n    if name == \"Ovid\":\\n        print(\"Greetings,\", name, \"-\", message_list[5])'"
      ]
     },
     "execution_count": 210,
     "metadata": {},
     "output_type": "execute_result"
    }
   ],
   "source": [
    "guest_list = [\"King Tut\", \"Enheduanna\", \"Carl Sagan\", \"Bob Procter\", \"Socrates\", \"Ovid\"] #Enheduanna was a woman in the 23rd century BCE Mesopotamia, considered the world's first author.\n",
    "message_list = [\"How is life for you?\", \"What is daily life like for you? What caused you to write?\", \"Thank you.\", \"What's your name?\", \"How do you feel your philosophy carries over in the modern century?\", \"I enjoy your work. What inspired you?\"]\n",
    "\n",
    "#insert() data to index 0 (beginning of lists)\n",
    "#print(len(guest_list))\n",
    "guest_list.insert(0, \"Sally Newcomer\") #index 0 - beginning of list insert() new guest to list\n",
    "message_list.insert(0, \"new1\")\n",
    "\n",
    "#insert() data to index 4 (middle of lists)\n",
    "guest_list.insert(4, \"Joey Newcomer\") #index 4 - middle of list insert() new guest to list\n",
    "message_list.insert(4, \"new2\")\n",
    "\n",
    "#insert() data to index 7 (end of lists)\n",
    "guest_list.insert(8, \"Manny Newcomer\") #index 4 - middle of list insert() new guest to list\n",
    "message_list.insert(8, \"new3\")\n",
    "\n",
    "#-----this section is the fourth attempt.. WOO! LET'S GO!!! i did it :)\n",
    "#take the count of the total number of elements inside the list and run a loop after that in the range of that count.\n",
    "for index1, guest in enumerate(guest_list):\n",
    "    count=0\n",
    "\n",
    "for val1 in guest_list:\n",
    "    count+=1\n",
    "\n",
    "for index2, message in enumerate(message_list):\n",
    "    count=0\n",
    "    \n",
    "for val2 in message_list:\n",
    "    count+=1 \n",
    "\n",
    "for i in range(count): #prints the newest set of invitations with addtitions\n",
    "    print(guest_list[i], message_list[i]) \n",
    "#------\n",
    " \n",
    "\n",
    "\n",
    "#here's all my mistakes figuring out a new method to append things to the lists easier for me.\n",
    "\"\"\"\n",
    "#for index, guest in enumerate(guest_list):\n",
    " #   print(f\"{index}: {guest}\")\n",
    "#-----this section is the fourth attempt.. the messages work perf, but the guests are still in list array form when printed...\n",
    "for index1, guest in enumerate(guest_list):\n",
    "    count=0\n",
    "\n",
    "for val1 in guest_list:\n",
    "    count+=1\n",
    "\n",
    "for index2, message in enumerate(message_list):\n",
    "    count=0\n",
    "    \n",
    "for val1 in message_list:\n",
    "    count+=1 \n",
    "\n",
    "#for index1, index2 in range(count):\n",
    "#    print(guest_list, message_list[index1, index2])\n",
    "\n",
    "for i in range(count):\n",
    "    print(guest_list, message_list[i])\n",
    "#------\n",
    "\n",
    "###and the third attempt now scraped\n",
    "#for name in guest_list:\n",
    "     #iterate through guest list and print out the appropriate corresponding message.\n",
    "#       if name != 6:\n",
    "#            for message in message_list:\n",
    "#                if message != 6:\n",
    "#                    print(\"here is word\", name, \"second part\", message)\n",
    "\n",
    "####now im giving each guest each message lol\n",
    "for name in guest_list:\n",
    "     #iterate through guest list and print out the appropriate corresponding message.\n",
    "        if name != 6:\n",
    "            for message in message_list:\n",
    "                if message != 6:\n",
    "                    print(\"here is word\", name, \"second part\", message)\n",
    "\n",
    "    #First part works perf, second part does not.\n",
    "#string interpalation learning in python led me to this method:\n",
    "for name in guest_list: #iterate through guest list and print out the appropriate corresponding message.\n",
    "    if name != 6:\n",
    "        print(\"here is word\", name, \"second part\", message_list[0 - 6])\n",
    "\n",
    "###idk this is the attempt made before the one above . . .   \n",
    "if name == \"King Tut\":\n",
    "        print(\"Greetings,\", name, \"-\", message_list[0])\n",
    "    if name == \"Enheduanna\":\n",
    "        print(\"Greetings,\", name, \"-\", message_list[1])\n",
    "    if name == \"Carl Sagan\":\n",
    "        print(\"Greetings,\", name, \"-\", message_list[2])\n",
    "    if name == \"Bob Procter\":\n",
    "        print(\"Greetings,\", name, \"-\", message_list[3])\n",
    "    if name == \"Socrates\":\n",
    "        print(\"Greetings,\", name, \"-\", message_list[4])\n",
    "    if name == \"Ovid\":\n",
    "        print(\"Greetings,\", name, \"-\", message_list[5])\n",
    "\n",
    "#for index, guest in enumerate(guest_list):\n",
    " #   print(f\"{index}: {guest}\")\n",
    "#-----this section is the fourth attempt.. the messages work perf, but the guests are still in list array form when printed...\n",
    "for index1, guest in enumerate(guest_list):\n",
    "    count=0\n",
    "\n",
    "for num1 in guest_list:\n",
    "    count+=1\n",
    "\n",
    "for index2, message in enumerate(message_list):\n",
    "    count=0\n",
    "    \n",
    "for num2 in message_list:\n",
    "    count+=1 \n",
    "\n",
    "#for index1, index2 in range(count):\n",
    "#    print(guest_list, message_list[index1, index2])\n",
    "\n",
    "for i in range(count):\n",
    "    print(guest_list, message_list[i])\n",
    "#------\n",
    "\n",
    "###and the third attempt now scraped\n",
    "#for name in guest_list:\n",
    "     #iterate through guest list and print out the appropriate corresponding message.\n",
    "#       if name != 6:\n",
    "#            for message in message_list:\n",
    "#                if message != 6:\n",
    "#                    print(\"here is word\", name, \"second part\", message)\n",
    "\n",
    "####now im giving each guest each message lol\n",
    "for name in guest_list:\n",
    "     #iterate through guest list and print out the appropriate corresponding message.\n",
    "        if name != 6:\n",
    "            for message in message_list:\n",
    "                if message != 6:\n",
    "                    print(\"here is word\", name, \"second part\", message)\n",
    "\n",
    "    #First part works perf, second part does not.\n",
    "#string interpalation learning in python led me to this method:\n",
    "for name in guest_list: #iterate through guest list and print out the appropriate corresponding message.\n",
    "    if name != 6:\n",
    "        print(\"here is word\", name, \"second part\", message_list[0 - 6])\n",
    "\n",
    "###idk this is the attempt made before the one above . . .   \n",
    "if name == \"King Tut\":\n",
    "        print(\"Greetings,\", name, \"-\", message_list[0])\n",
    "    if name == \"Enheduanna\":\n",
    "        print(\"Greetings,\", name, \"-\", message_list[1])\n",
    "    if name == \"Carl Sagan\":\n",
    "        print(\"Greetings,\", name, \"-\", message_list[2])\n",
    "    if name == \"Bob Procter\":\n",
    "        print(\"Greetings,\", name, \"-\", message_list[3])\n",
    "    if name == \"Socrates\":\n",
    "        print(\"Greetings,\", name, \"-\", message_list[4])\n",
    "    if name == \"Ovid\":\n",
    "        print(\"Greetings,\", name, \"-\", message_list[5])\"\"\"\n"
   ]
  },
  {
   "cell_type": "markdown",
   "metadata": {},
   "source": [
    "Use insert() to add one new guest to the beginning of your list."
   ]
  },
  {
   "cell_type": "code",
   "execution_count": 208,
   "metadata": {},
   "outputs": [],
   "source": [
    "#print(len(guest_list))\n",
    "guest_list.insert(0, \"Sally Newcomer\") #index 0 - beginning of list insert() new guest to list\n",
    "message_list.insert(0, \"new1\")"
   ]
  },
  {
   "cell_type": "markdown",
   "metadata": {},
   "source": [
    "Use insert() to add one new guest to the middle of your list."
   ]
  },
  {
   "cell_type": "code",
   "execution_count": null,
   "metadata": {},
   "outputs": [],
   "source": [
    "guest_list.insert(4, \"Joey Newcomer\") #index 4 - middle of list insert() new guest to list\n",
    "message_list.insert(4, \"new2\")"
   ]
  },
  {
   "cell_type": "markdown",
   "metadata": {},
   "source": [
    "Use append() to add one new guest to the end of your list."
   ]
  },
  {
   "cell_type": "code",
   "execution_count": 428,
   "metadata": {},
   "outputs": [],
   "source": [
    "guest_list.append(\"Manny Newcomer\") #index 4 - middle of list insert() new guest to list\n",
    "message_list.append(\"new3\")"
   ]
  },
  {
   "cell_type": "markdown",
   "metadata": {},
   "source": [
    "Print a new set of invitation messages, one for each person in your list."
   ]
  },
  {
   "cell_type": "code",
   "execution_count": 211,
   "metadata": {},
   "outputs": [
    {
     "name": "stdout",
     "output_type": "stream",
     "text": [
      "Sally Newcomer new1\n",
      "King Tut How is life for you?\n",
      "Enheduanna What is daily life like for you? What caused you to write?\n",
      "Carl Sagan Thank you.\n",
      "Joey Newcomer new2\n",
      "Bob Procter What's your name?\n",
      "Socrates How do you feel your philosophy carries over in the modern century?\n",
      "Ovid I enjoy your work. What inspired you?\n",
      "Manny Newcomer new3\n"
     ]
    }
   ],
   "source": [
    "for i in range(count): #prints the newest set of invitations with addtitions\n",
    "    print(guest_list[i], message_list[i]) "
   ]
  },
  {
   "cell_type": "markdown",
   "metadata": {},
   "source": [
    "## Question 7\n",
    "**Shrinking Guest List:** You just found out that your new dinner table won’t arrive in time for the dinner, and you have space for only two guests.\n",
    "\n",
    "Start with your program from Question 6. Add a new line that prints a message saying that you can invite only two people for dinner."
   ]
  },
  {
   "cell_type": "code",
   "execution_count": 333,
   "metadata": {},
   "outputs": [
    {
     "name": "stdout",
     "output_type": "stream",
     "text": [
      "Apologies, the party has been cut down to two people.\n",
      "Removed Guest: ['Sally Newcomer'] Apologies, you cannot attend my party.\n",
      "Removed Guest: ['King Tut'] Apologies, you cannot attend my party.\n",
      "Removed Guest: ['Enheduanna'] Apologies, you cannot attend my party.\n",
      "Removed Guest: ['Carl Sagan'] Apologies, you cannot attend my party.\n",
      "Removed Guest: ['Joey Newcomer'] Apologies, you cannot attend my party.\n",
      "Removed Guest: ['Bob Procter'] Apologies, you cannot attend my party.\n",
      "Removed Guest: ['Socrates'] Apologies, you cannot attend my party.\n",
      "Updated List: ['Ovid', 'Manny Newcomer']\n",
      "Thank you Ovid How is life for you?\n",
      "Thank you Manny Newcomer What is daily life like for you? What caused you to write?\n",
      "['Manny Newcomer'] this is now empty :)\n",
      "[] this is now empty :)\n"
     ]
    }
   ],
   "source": [
    "guest_list = [\"King Tut\", \"Enheduanna\", \"Carl Sagan\", \"Bob Procter\", \"Socrates\", \"Ovid\"] #Enheduanna was a woman in the 23rd century BCE Mesopotamia, considered the world's first author.\n",
    "message_list = [\"How is life for you?\", \"What is daily life like for you? What caused you to write?\", \"Thank you.\", \"What's your name?\", \"How do you feel your philosophy carries over in the modern century?\", \"I enjoy your work. What inspired you?\"]\n",
    "\n",
    "#insert() data to index 0 (beginning of lists)\n",
    "#print(len(guest_list))\n",
    "guest_list.insert(0, \"Sally Newcomer\") #index 0 - beginning of list insert() new guest to list\n",
    "message_list.insert(0, \"new1\")\n",
    "\n",
    "#insert() data to index 4 (middle of lists)\n",
    "guest_list.insert(4, \"Joey Newcomer\") #index 4 - middle of list insert() new guest to list\n",
    "message_list.insert(4, \"new2\")\n",
    "\n",
    "#insert() data to index 7 (end of lists)\n",
    "guest_list.insert(8, \"Manny Newcomer\") #index 4 - middle of list insert() new guest to list\n",
    "message_list.insert(8, \"new3\")\n",
    "\n",
    "print(\"Apologies, the party has been cut down to two people.\")\n",
    "#-----this section is the fourth attempt.. WOO! LET'S GO!!! i did it :)\n",
    "#take the count of the total number of elements inside the list and run a loop after that in the range of that count.        \n",
    "# Use pop() to remove guests from your list one at a time until only two names remain in your list. \n",
    "for _ in range(8): \n",
    "    if len(guest_list) > 2:\n",
    "        removed_guest = [guest_list.pop(0)] #doesn't print one at a time, rework. . .\n",
    "        print('Removed Guest:', removed_guest, \"Apologies, you cannot attend my party.\")\n",
    "\n",
    "for index1, guest in enumerate(guest_list):\n",
    "    count=0\n",
    "\n",
    "for val1 in guest_list:\n",
    "    count+=1\n",
    "\n",
    "for index2, message in enumerate(message_list):\n",
    "    count=0\n",
    "    \n",
    "for val2 in message_list:\n",
    "    count+=1\n",
    "print('Updated List:', guest_list) #Each time you pop a name from your list, print a message to that person letting them know you’re sorry you can’t invite them to dinner.            \n",
    "\n",
    "\n",
    "#Print a message to each of the two people still on your list, letting them know they’re still invited.\n",
    "print(\"Thank you\", guest_list[0], message_list[1])\n",
    "print(\"Thank you\", guest_list[1], message_list[2])\n",
    "\n",
    "#del()\n",
    "for _ in range(8): \n",
    "    if len(guest_list) != 0:\n",
    "        del guest_list[0]\n",
    "        print(guest_list, \"this is now empty :)\") #to print nothing to console - comment out all print commands.\n",
    "\n",
    "    "
   ]
  },
  {
   "cell_type": "markdown",
   "metadata": {},
   "source": [
    "Use pop() to remove guests from your list one at a time until only two names remain in your list. Each time you pop a name from your list, print a message to that person letting them know you’re sorry you can’t invite them to dinner."
   ]
  },
  {
   "cell_type": "code",
   "execution_count": null,
   "metadata": {},
   "outputs": [],
   "source": [
    "for _ in range(8): \n",
    "    if len(guest_list) > 2:\n",
    "        removed_guest = [guest_list.pop(0)] #doesn't print one at a time, rework. . .\n",
    "        print('Removed Guest:', removed_guest, \"Apologies, you cannot attend my party.\")"
   ]
  },
  {
   "cell_type": "markdown",
   "metadata": {},
   "source": [
    "Print a message to each of the two people still on your list, letting them know they’re still invited."
   ]
  },
  {
   "cell_type": "code",
   "execution_count": 318,
   "metadata": {},
   "outputs": [
    {
     "name": "stdout",
     "output_type": "stream",
     "text": [
      "Thank you ['Ovid', 'Manny Newcomer'] ['new1', 'How is life for you?', 'What is daily life like for you? What caused you to write?', 'Thank you.', 'new2', \"What's your name?\", 'How do you feel your philosophy carries over in the modern century?', 'I enjoy your work. What inspired you?', 'new3']\n"
     ]
    }
   ],
   "source": [
    "print(\"Thank you\", guest_list[0], message_list[0])\n",
    "print(\"Thank you\", guest_list[1], message_list[1])"
   ]
  },
  {
   "cell_type": "markdown",
   "metadata": {},
   "source": [
    "Use del to remove the last two names from your list, so you have an empty list. Print your list to make sure you actually have an empty list at the end of your program."
   ]
  },
  {
   "cell_type": "code",
   "execution_count": null,
   "metadata": {},
   "outputs": [],
   "source": [
    "#del()\n",
    "for _ in range(8): \n",
    "    if len(guest_list) != 0:\n",
    "        del guest_list[0]\n",
    "        print(guest_list, 'this is now empty :)') #to print nothing to console - comment out all print commands."
   ]
  },
  {
   "cell_type": "markdown",
   "metadata": {},
   "source": [
    "## Question 8\n",
    "**Seeing the World:** Think of at least five places in the world you’d like to visit.\n",
    "\n",
    "Store the locations in a list. Make sure the list is not in alphabetical order."
   ]
  },
  {
   "cell_type": "code",
   "execution_count": null,
   "metadata": {},
   "outputs": [],
   "source": [
    "places_list = ['Sweden', 'Iceland', 'marina', 'Indonesia', 'annapolis', 'Greenland']"
   ]
  },
  {
   "cell_type": "markdown",
   "metadata": {},
   "source": [
    "Print your list in its original order. Don’t worry about printing the list neatly, just print it as a raw Python list."
   ]
  },
  {
   "cell_type": "code",
   "execution_count": 339,
   "metadata": {},
   "outputs": [
    {
     "name": "stdout",
     "output_type": "stream",
     "text": [
      "['Sweden', 'Iceland', 'marina', 'Indonesia', 'annapolis', 'Greenland']\n"
     ]
    }
   ],
   "source": [
    "places_list = ['Sweden', 'Iceland', 'Mariana Trench', 'Indonesia', 'Annapolis', 'Greenland']\n",
    "print(places_list)"
   ]
  },
  {
   "cell_type": "markdown",
   "metadata": {},
   "source": [
    "Use sorted() to print your list in alphabetical order without modifying the actual list."
   ]
  },
  {
   "cell_type": "code",
   "execution_count": 343,
   "metadata": {},
   "outputs": [
    {
     "name": "stdout",
     "output_type": "stream",
     "text": [
      "['Annapolis', 'Greenland', 'Iceland', 'Indonesia', 'Mariana Trench', 'Sweden']\n"
     ]
    }
   ],
   "source": [
    "places_list = ['Sweden', 'Iceland', 'Mariana Trench', 'Indonesia', 'Annapolis', 'Greenland']\n",
    "print(sorted(places_list))"
   ]
  },
  {
   "cell_type": "markdown",
   "metadata": {},
   "source": [
    "Show that your list is still in its original order by printing it."
   ]
  },
  {
   "cell_type": "code",
   "execution_count": 344,
   "metadata": {},
   "outputs": [
    {
     "name": "stdout",
     "output_type": "stream",
     "text": [
      "['Sweden', 'Iceland', 'Mariana Trench', 'Indonesia', 'Annapolis', 'Greenland']\n"
     ]
    }
   ],
   "source": [
    "places_list = ['Sweden', 'Iceland', 'Mariana Trench', 'Indonesia', 'Annapolis', 'Greenland']\n",
    "print(places_list)"
   ]
  },
  {
   "cell_type": "markdown",
   "metadata": {},
   "source": [
    "Use sorted() to print your list in reverse alphabetical order without changing the order of the original list."
   ]
  },
  {
   "cell_type": "code",
   "execution_count": 369,
   "metadata": {},
   "outputs": [
    {
     "name": "stdout",
     "output_type": "stream",
     "text": [
      "['Sweden', 'Mariana Trench', 'Indonesia', 'Iceland', 'Greenland', 'Annapolis']\n",
      "['Annapolis', 'Greenland', 'Iceland', 'Indonesia', 'Mariana Trench', 'Sweden']\n",
      "['Sweden', 'Iceland', 'Mariana Trench', 'Indonesia', 'Annapolis', 'Greenland']\n"
     ]
    }
   ],
   "source": [
    "places_list = ['Sweden', 'Iceland', 'Mariana Trench', 'Indonesia', 'Annapolis', 'Greenland']\n",
    "sorted_places = sorted(places_list)\n",
    "sorted_reverse = sorted(places_list, reverse=True)\n",
    "print(sorted_reverse) #prints sorted descending\n",
    "print(sorted_places) #Prints sorted ascending\n",
    "print(places_list) #prints original list\n"
   ]
  },
  {
   "cell_type": "markdown",
   "metadata": {},
   "source": [
    "Show that your list is still in its original order by printing it again."
   ]
  },
  {
   "cell_type": "code",
   "execution_count": 368,
   "metadata": {},
   "outputs": [
    {
     "name": "stdout",
     "output_type": "stream",
     "text": [
      "['Sweden', 'Mariana Trench', 'Indonesia', 'Iceland', 'Greenland', 'Annapolis']\n",
      "['Annapolis', 'Greenland', 'Iceland', 'Indonesia', 'Mariana Trench', 'Sweden']\n",
      "['Sweden', 'Iceland', 'Mariana Trench', 'Indonesia', 'Annapolis', 'Greenland']\n"
     ]
    }
   ],
   "source": [
    "places_list = ['Sweden', 'Iceland', 'Mariana Trench', 'Indonesia', 'Annapolis', 'Greenland']\n",
    "sorted_places = sorted(places_list)\n",
    "sorted_reverse = sorted(places_list, reverse=True)\n",
    "print(sorted_reverse) #prints sorted descending\n",
    "print(sorted_places) #Prints sorted ascending\n",
    "print(places_list) #prints original list"
   ]
  },
  {
   "cell_type": "markdown",
   "metadata": {},
   "source": [
    "Use reverse() to change the order of your list. Print the list to show that its order has changed."
   ]
  },
  {
   "cell_type": "code",
   "execution_count": 382,
   "metadata": {},
   "outputs": [
    {
     "name": "stdout",
     "output_type": "stream",
     "text": [
      "['Sweden', 'Iceland', 'Mariana Trench', 'Indonesia', 'Annapolis', 'Greenland']\n",
      "Original List: ['Sweden', 'Iceland', 'Mariana Trench', 'Indonesia', 'Annapolis', 'Greenland']\n",
      "Updated List: ['Greenland', 'Annapolis', 'Indonesia', 'Mariana Trench', 'Iceland', 'Sweden']\n"
     ]
    }
   ],
   "source": [
    "places_list = ['Sweden', 'Iceland', 'Mariana Trench', 'Indonesia', 'Annapolis', 'Greenland']\n",
    "print(places_list) #original list from above\n",
    "\n",
    "#reverse()\n",
    "print('Original List:', places_list)\n",
    "places_list.reverse()\n",
    "#updated list\n",
    "print('Updated List:', places_list)\n",
    "places_list.reverse()\n",
    "print('Another Updated List:', places_list)\n",
    "\n",
    "\n"
   ]
  },
  {
   "cell_type": "markdown",
   "metadata": {},
   "source": [
    "Use reverse() to change the order of your list again. Print the list to show it’s back to its original order."
   ]
  },
  {
   "cell_type": "code",
   "execution_count": 383,
   "metadata": {},
   "outputs": [
    {
     "name": "stdout",
     "output_type": "stream",
     "text": [
      "['Sweden', 'Iceland', 'Mariana Trench', 'Indonesia', 'Annapolis', 'Greenland']\n",
      "Original List: ['Sweden', 'Iceland', 'Mariana Trench', 'Indonesia', 'Annapolis', 'Greenland']\n",
      "Updated List: ['Greenland', 'Annapolis', 'Indonesia', 'Mariana Trench', 'Iceland', 'Sweden']\n",
      "Another Updated List: ['Sweden', 'Iceland', 'Mariana Trench', 'Indonesia', 'Annapolis', 'Greenland']\n"
     ]
    }
   ],
   "source": [
    "places_list = ['Sweden', 'Iceland', 'Mariana Trench', 'Indonesia', 'Annapolis', 'Greenland']\n",
    "print(places_list) #original list from above\n",
    "\n",
    "#reverse()\n",
    "print('Original List:', places_list)\n",
    "places_list.reverse()\n",
    "#updated list\n",
    "print('Updated List:', places_list)\n",
    "places_list.reverse()\n",
    "print('Another Updated List:', places_list) #here is updated list print"
   ]
  },
  {
   "cell_type": "markdown",
   "metadata": {},
   "source": [
    "Use sort() to change your list so it’s stored in alphabetical order. Print the list to show that its order has been changed."
   ]
  },
  {
   "cell_type": "code",
   "execution_count": 384,
   "metadata": {},
   "outputs": [
    {
     "name": "stdout",
     "output_type": "stream",
     "text": [
      "['Sweden', 'Iceland', 'Mariana Trench', 'Indonesia', 'Annapolis', 'Greenland']\n",
      "Original List: ['Sweden', 'Iceland', 'Mariana Trench', 'Indonesia', 'Annapolis', 'Greenland']\n",
      "Updated List: ['Greenland', 'Annapolis', 'Indonesia', 'Mariana Trench', 'Iceland', 'Sweden']\n",
      "Another Updated List: ['Annapolis', 'Greenland', 'Iceland', 'Indonesia', 'Mariana Trench', 'Sweden']\n"
     ]
    }
   ],
   "source": [
    "places_list = ['Sweden', 'Iceland', 'Mariana Trench', 'Indonesia', 'Annapolis', 'Greenland']\n",
    "print(places_list) #original list from above\n",
    "\n",
    "#reverse()\n",
    "print('Original List:', places_list)\n",
    "places_list.reverse()\n",
    "#updated list\n",
    "print('Updated List:', places_list)\n",
    "places_list.reverse()\n",
    "print('Another Updated List:', sorted(places_list)) #alphabetical order added\n",
    "\n",
    "\n"
   ]
  },
  {
   "cell_type": "markdown",
   "metadata": {},
   "source": [
    "Use sort() to change your list so it’s stored in reverse alphabetical order. Print the list to show that its order has changed."
   ]
  },
  {
   "cell_type": "code",
   "execution_count": 403,
   "metadata": {},
   "outputs": [
    {
     "name": "stdout",
     "output_type": "stream",
     "text": [
      "['Sweden', 'Iceland', 'Mariana Trench', 'Indonesia', 'Annapolis', 'Greenland']\n",
      "Original List: ['Sweden', 'Iceland', 'Mariana Trench', 'Indonesia', 'Annapolis', 'Greenland']\n",
      "Updated List: ['Greenland', 'Annapolis', 'Indonesia', 'Mariana Trench', 'Iceland', 'Sweden']\n",
      "Another Updated List: ['Annapolis', 'Greenland', 'Iceland', 'Indonesia', 'Mariana Trench', 'Sweden']\n",
      "['Sweden', 'Mariana Trench', 'Indonesia', 'Iceland', 'Greenland', 'Annapolis']\n"
     ]
    }
   ],
   "source": [
    "places_list = ['Sweden', 'Iceland', 'Mariana Trench', 'Indonesia', 'Annapolis', 'Greenland']\n",
    "print(places_list) #original list from above\n",
    "\n",
    "#reverse()\n",
    "print('Original List:', places_list)\n",
    "places_list.reverse()\n",
    "#updated list\n",
    "print('Updated List:', places_list)\n",
    "places_list.reverse()\n",
    "print('Another Updated List:', sorted(places_list)) #alphabetical order added\n",
    "\n",
    "#sort list in reverse order, store in var holder\n",
    "sorted_reverse_places = sorted(places_list, reverse=True)\n",
    "print(sorted_reverse_places)\n",
    "\n"
   ]
  },
  {
   "cell_type": "markdown",
   "metadata": {},
   "source": [
    "## Question 9\n",
    "**Dinner Guests:** Working with one of the programs from Question 4 through Question 7, use len() to print a message indicating the number of people you are inviting to dinner."
   ]
  },
  {
   "cell_type": "code",
   "execution_count": 405,
   "metadata": {},
   "outputs": [
    {
     "name": "stdout",
     "output_type": "stream",
     "text": [
      "3\n",
      "6\n"
     ]
    }
   ],
   "source": [
    "#show you can print length of a list:\n",
    "list_dinner_guests = ['guest1', 'guest2', 'guest3'] #expected output: length value of 3\n",
    "print(len(list_dinner_guests)) #correct output\n",
    "\n",
    "places_list = ['Sweden', 'Iceland', 'Mariana Trench', 'Indonesia', 'Annapolis', 'Greenland']\n",
    "#show length of question 8 list:\n",
    "print(len(places_list)) #correct output"
   ]
  },
  {
   "cell_type": "markdown",
   "metadata": {},
   "source": [
    "## Question 10\n",
    "**Every Function:** Think of something you could store in a list. For example, you could make a list of mountains, rivers, countries, cities, languages, or anything else you’d like. Write a program that creates a list containing these items and then uses each function introduced in this chapter at least once."
   ]
  },
  {
   "cell_type": "code",
   "execution_count": 434,
   "metadata": {},
   "outputs": [
    {
     "name": "stdout",
     "output_type": "stream",
     "text": [
      "Original Function List: ['f1', 'f2', 'f3', 'f4', 'f5', 'f6', 'f7']\n",
      "7 values are in this list. len()\n",
      "['f1', 'f2', 'f3', 'f4', 'f5', 'f6', 'f7']\n",
      "f8 added via extend(): ['f1', 'f2', 'f3', 'f4', 'f5', 'f6', 'f7', 'f8']\n",
      "f0 added via insert(): ['f0', 'f1', 'f2', 'f3', 'f4', 'f5', 'f6', 'f7', 'f8']\n",
      "Index 0 was deleted. Updated Function List: ['f1', 'f2', 'f3', 'f4', 'f5', 'f6', 'f7', 'f8']\n",
      "Function: ['f1'] has been removed.\n",
      "Function: ['f2'] has been removed.\n",
      "Function: ['f3'] has been removed.\n",
      "Function: ['f4'] has been removed.\n",
      "Function: ['f5'] has been removed.\n",
      "Function: ['f6'] has been removed.\n",
      "Original Function List: ['f7', 'f8']\n",
      "Updated Function List: ['f8', 'f7']\n"
     ]
    }
   ],
   "source": [
    "#Well, this went much faster! thank you for the lessions!! I love this class!\n",
    "#Every function list defined:\n",
    "function_list = ['f1', 'f2', 'f3', 'f4', 'f5', 'f6', 'f7']\n",
    "\n",
    "#print list: original function list\n",
    "print (\"Original Function List:\", function_list)\n",
    "\n",
    "#len()\n",
    "print(len(function_list), \"values are in this list. len()\")\n",
    "\n",
    "#sorted\n",
    "print(sorted(function_list))\n",
    "\n",
    "#add items to list, extend, append, insert - extend seems best for this level of work.\n",
    "function_list.extend(['f8'])  #extending string list elements\n",
    "print(\"f8 added via extend():\", function_list)\n",
    "\n",
    "#insert()\n",
    "function_list.insert(0, \"f0\") #placing f8 at index 0 == beginning of list\n",
    "print(\"f0 added via insert():\", function_list)\n",
    "\n",
    "#del()\n",
    "del function_list[0] #deletes data in index 0\n",
    "print(\"Index 0 was deleted. Updated Function List:\", function_list)\n",
    "\n",
    "#pop()\n",
    "for _ in range(9): \n",
    "    if len(function_list) > 2:\n",
    "        removed_function = [function_list.pop(0)] #doesn't print one at a time, rework. . .\n",
    "        print('Function:', removed_function, \"has been removed.\")\n",
    "\n",
    "#reverse()\n",
    "print('Original Function List:', function_list)\n",
    "function_list.reverse()\n",
    "#updated list\n",
    "print('Updated Function List:', function_list)\n",
    "function_list.reverse()"
   ]
  }
 ],
 "metadata": {
  "kernelspec": {
   "display_name": "Python 3 (ipykernel)",
   "language": "python",
   "name": "python3"
  },
  "language_info": {
   "codemirror_mode": {
    "name": "ipython",
    "version": 3
   },
   "file_extension": ".py",
   "mimetype": "text/x-python",
   "name": "python",
   "nbconvert_exporter": "python",
   "pygments_lexer": "ipython3",
   "version": "3.11.4"
  }
 },
 "nbformat": 4,
 "nbformat_minor": 2
}
